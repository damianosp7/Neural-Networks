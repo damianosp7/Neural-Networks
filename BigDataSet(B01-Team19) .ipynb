{
  "nbformat": 4,
  "nbformat_minor": 0,
  "metadata": {
    "colab": {
      "name": "BigDataSet(Balanced).ipynb",
      "provenance": [],
      "collapsed_sections": []
    },
    "kernelspec": {
      "name": "python3",
      "display_name": "Python 3"
    }
  },
  "cells": [
    {
      "cell_type": "markdown",
      "metadata": {
        "id": "mQkny_OCP82f"
      },
      "source": [
        "#<center>**Άσκηση 1. Επιβλεπόμενη Μάθηση: Ταξινόμηση. Μελέτη datasets του UCI Machine Learning Repository**</center>"
      ]
    },
    {
      "cell_type": "markdown",
      "metadata": {
        "id": "drSwEYg2QB5r"
      },
      "source": [
        "# I. Στοιχεία ομάδας 19\n",
        "\n",
        "1.   Δαμιανός Παππάς, ΑΜ: 03116608\n",
        "2.   Χαράλαμπος Ρωσσίδης, ΑΜ: 03116701\n",
        "3.   Νεκτάριος Ματσάγκος, ΑΜ: 03116709"
      ]
    },
    {
      "cell_type": "markdown",
      "metadata": {
        "id": "GAI_UDI8QSv-"
      },
      "source": [
        "# II. Βασικές πληροφορίες"
      ]
    },
    {
      "cell_type": "code",
      "metadata": {
        "id": "8PJ4BG1hscuI"
      },
      "source": [
        "import pandas as pd, numpy as np, matplotlib.pyplot as plt, time\n",
        "from imblearn.over_sampling import RandomOverSampler\n",
        "from sklearn.model_selection import train_test_split,GridSearchCV\n",
        "from sklearn.impute import SimpleImputer\n",
        "from sklearn.dummy import DummyClassifier\n",
        "from sklearn.neighbors import KNeighborsClassifier\n",
        "from sklearn.neural_network import MLPClassifier\n",
        "from sklearn.naive_bayes import GaussianNB\n",
        "from sklearn.metrics import accuracy_score,classification_report,confusion_matrix\n",
        "from sklearn.metrics import precision_recall_fscore_support,f1_score\n",
        "from sklearn.feature_selection import VarianceThreshold\n",
        "from sklearn import preprocessing\n",
        "from sklearn.preprocessing import StandardScaler,MinMaxScaler\n",
        "from sklearn.decomposition import PCA\n",
        "from imblearn.pipeline import Pipeline\n",
        "from sklearn.utils import shuffle"
      ],
      "execution_count": null,
      "outputs": []
    },
    {
      "cell_type": "markdown",
      "metadata": {
        "id": "5JsHbCmKQThT"
      },
      "source": [
        "### *1.Σύντομη παρουσίαση του dataset (τι περιγράφει).*"
      ]
    },
    {
      "cell_type": "markdown",
      "metadata": {
        "id": "pNejvFpZQd_r"
      },
      "source": [
        "Παραθέτουμε την επίσημη περιγραφή που παρέχει το dataset:\n",
        "\n",
        "\n",
        "-*The data are MC generated to simulate registration of high energy gamma particles in a ground-based atmospheric Cherenkov gamma telescope using the imaging technique. Cherenkov gamma telescope observes high energy gamma rays, taking advantage of the radiation emitted by charged particles produced inside the electromagnetic showers initiated by the gammas, and developing in the atmosphere. This Cherenkov radiation leaks through the atmosphere and gets recorded in the detector, allowing reconstruction of the shower parameters. The available information consists of pulses left by the incoming Cherenkov photons on the photomultiplier tubes, arranged in a plane, the camera. Depending on the energy of the primary gamma, a total of few hundreds to some 10000 Cherenkov photons get collected in patterns, allowing to discriminate statistically those caused by primary gammas from the images of hadronic showers initiated by cosmic rays in the upper atmosphere. Typically, the image of a shower after some pre-processing is an elongated cluster. Its long axis is oriented towards the camera center if the shower axis is parallel to the telescope's optical axis, i.e. if the telescope axis is directed towards a point source. A principal component analysis is performed in the camera plane, which results in a correlation axis and defines an ellipse. The energy depositions are typically asymmetric along the major axis, and this asymmetry can also be used in discrimination. There are, in addition, further discriminating characteristics, like the extent of the cluster in the image plane, or the total sum of depositions.*\n",
        "\n",
        "Τα δεδομένα δημιουργήθηκαν από ένα Monte Carlo πρόγραμμα, Corsika, και περιγράφεται από το D. Heck et al., CORSIKA, A Monte Carlo code to simulate extensive air showers, Forschungszentrum Karlsruhe FZKA 6019 (1998)."
      ]
    },
    {
      "cell_type": "markdown",
      "metadata": {
        "id": "y_wWdbneQ0Rg"
      },
      "source": [
        "### *2. Αριθμός δειγμάτων και χαρακτηριστικών, είδος χαρακτηριστικών. Υπάρχουν μη διατεταγμένα χαρακτηριστικά και ποια είναι αυτά;*"
      ]
    },
    {
      "cell_type": "code",
      "metadata": {
        "id": "gZukuMG3E0v3",
        "colab": {
          "base_uri": "https://localhost:8080/"
        },
        "outputId": "80491d02-bb6d-4540-cb52-a5a5e3d1e2fc"
      },
      "source": [
        "\n",
        "!pip install --upgrade pip #upgrade pip package installer\n",
        "!pip install scikit-learn --upgrade #upgrade scikit-learn package\n",
        "!pip install numpy --upgrade #upgrade numpy package\n",
        "!pip install pandas --upgrade\n",
        "!pip install -U imbalanced-learn\n",
        "!pip install --upgrade scipy "
      ],
      "execution_count": null,
      "outputs": [
        {
          "output_type": "stream",
          "text": [
            "Requirement already satisfied: pip in /usr/local/lib/python3.6/dist-packages (20.3.1)\n",
            "Requirement already satisfied: scikit-learn in /usr/local/lib/python3.6/dist-packages (0.23.2)\n",
            "Requirement already satisfied: threadpoolctl>=2.0.0 in /usr/local/lib/python3.6/dist-packages (from scikit-learn) (2.1.0)\n",
            "Requirement already satisfied: numpy>=1.13.3 in /usr/local/lib/python3.6/dist-packages (from scikit-learn) (1.19.4)\n",
            "Requirement already satisfied: joblib>=0.11 in /usr/local/lib/python3.6/dist-packages (from scikit-learn) (0.17.0)\n",
            "Requirement already satisfied: scipy>=0.19.1 in /usr/local/lib/python3.6/dist-packages (from scikit-learn) (1.5.4)\n",
            "Requirement already satisfied: numpy>=1.13.3 in /usr/local/lib/python3.6/dist-packages (from scikit-learn) (1.19.4)\n",
            "Requirement already satisfied: numpy in /usr/local/lib/python3.6/dist-packages (1.19.4)\n",
            "Requirement already satisfied: pandas in /usr/local/lib/python3.6/dist-packages (1.1.5)\n",
            "Requirement already satisfied: pytz>=2017.2 in /usr/local/lib/python3.6/dist-packages (from pandas) (2018.9)\n",
            "Requirement already satisfied: python-dateutil>=2.7.3 in /usr/local/lib/python3.6/dist-packages (from pandas) (2.8.1)\n",
            "Requirement already satisfied: numpy>=1.15.4 in /usr/local/lib/python3.6/dist-packages (from pandas) (1.19.4)\n",
            "Requirement already satisfied: six>=1.5 in /usr/local/lib/python3.6/dist-packages (from python-dateutil>=2.7.3->pandas) (1.15.0)\n",
            "Requirement already satisfied: imbalanced-learn in /usr/local/lib/python3.6/dist-packages (0.7.0)\n",
            "Requirement already satisfied: numpy>=1.13.3 in /usr/local/lib/python3.6/dist-packages (from imbalanced-learn) (1.19.4)\n",
            "Requirement already satisfied: joblib>=0.11 in /usr/local/lib/python3.6/dist-packages (from imbalanced-learn) (0.17.0)\n",
            "Requirement already satisfied: scipy>=0.19.1 in /usr/local/lib/python3.6/dist-packages (from imbalanced-learn) (1.5.4)\n",
            "Requirement already satisfied: scikit-learn>=0.23 in /usr/local/lib/python3.6/dist-packages (from imbalanced-learn) (0.23.2)\n",
            "Requirement already satisfied: threadpoolctl>=2.0.0 in /usr/local/lib/python3.6/dist-packages (from scikit-learn>=0.23->imbalanced-learn) (2.1.0)\n",
            "Requirement already satisfied: numpy>=1.13.3 in /usr/local/lib/python3.6/dist-packages (from imbalanced-learn) (1.19.4)\n",
            "Requirement already satisfied: joblib>=0.11 in /usr/local/lib/python3.6/dist-packages (from imbalanced-learn) (0.17.0)\n",
            "Requirement already satisfied: scipy>=0.19.1 in /usr/local/lib/python3.6/dist-packages (from imbalanced-learn) (1.5.4)\n",
            "Requirement already satisfied: numpy>=1.13.3 in /usr/local/lib/python3.6/dist-packages (from imbalanced-learn) (1.19.4)\n",
            "Requirement already satisfied: scipy in /usr/local/lib/python3.6/dist-packages (1.5.4)\n",
            "Requirement already satisfied: numpy>=1.14.5 in /usr/local/lib/python3.6/dist-packages (from scipy) (1.19.4)\n"
          ],
          "name": "stdout"
        }
      ]
    },
    {
      "cell_type": "code",
      "metadata": {
        "colab": {
          "base_uri": "https://localhost:8080/"
        },
        "id": "I99dJB4onuYI",
        "outputId": "3f91beb7-969f-4a15-a3bb-2f864e3f4800"
      },
      "source": [
        "import pandas as pd\n",
        "import numpy as np\n",
        "datao = pd.read_csv(\"http://archive.ics.uci.edu/ml/machine-learning-databases/magic/magic04.data\",header=None).to_numpy()\n",
        "print(\"The Dataset contains\",datao.shape[0],\"samples,\",datao.shape[1]-1,\"features and a label.\")"
      ],
      "execution_count": null,
      "outputs": [
        {
          "output_type": "stream",
          "text": [
            "The Dataset contains 19020 samples, 10 features and a label.\n"
          ],
          "name": "stdout"
        }
      ]
    },
    {
      "cell_type": "code",
      "metadata": {
        "id": "j4ndSJUiGoo9",
        "colab": {
          "base_uri": "https://localhost:8080/",
          "height": 399
        },
        "outputId": "03abb7d4-416a-4494-e422-f2c2bfc877c8"
      },
      "source": [
        "\n",
        "data=pd.read_csv(\"http://archive.ics.uci.edu/ml/machine-learning-databases/magic/magic04.data\",header=None)\n",
        "data"
      ],
      "execution_count": null,
      "outputs": [
        {
          "output_type": "execute_result",
          "data": {
            "text/html": [
              "<div>\n",
              "<style scoped>\n",
              "    .dataframe tbody tr th:only-of-type {\n",
              "        vertical-align: middle;\n",
              "    }\n",
              "\n",
              "    .dataframe tbody tr th {\n",
              "        vertical-align: top;\n",
              "    }\n",
              "\n",
              "    .dataframe thead th {\n",
              "        text-align: right;\n",
              "    }\n",
              "</style>\n",
              "<table border=\"1\" class=\"dataframe\">\n",
              "  <thead>\n",
              "    <tr style=\"text-align: right;\">\n",
              "      <th></th>\n",
              "      <th>0</th>\n",
              "      <th>1</th>\n",
              "      <th>2</th>\n",
              "      <th>3</th>\n",
              "      <th>4</th>\n",
              "      <th>5</th>\n",
              "      <th>6</th>\n",
              "      <th>7</th>\n",
              "      <th>8</th>\n",
              "      <th>9</th>\n",
              "      <th>10</th>\n",
              "    </tr>\n",
              "  </thead>\n",
              "  <tbody>\n",
              "    <tr>\n",
              "      <th>0</th>\n",
              "      <td>28.7967</td>\n",
              "      <td>16.0021</td>\n",
              "      <td>2.6449</td>\n",
              "      <td>0.3918</td>\n",
              "      <td>0.1982</td>\n",
              "      <td>27.7004</td>\n",
              "      <td>22.0110</td>\n",
              "      <td>-8.2027</td>\n",
              "      <td>40.0920</td>\n",
              "      <td>81.8828</td>\n",
              "      <td>g</td>\n",
              "    </tr>\n",
              "    <tr>\n",
              "      <th>1</th>\n",
              "      <td>31.6036</td>\n",
              "      <td>11.7235</td>\n",
              "      <td>2.5185</td>\n",
              "      <td>0.5303</td>\n",
              "      <td>0.3773</td>\n",
              "      <td>26.2722</td>\n",
              "      <td>23.8238</td>\n",
              "      <td>-9.9574</td>\n",
              "      <td>6.3609</td>\n",
              "      <td>205.2610</td>\n",
              "      <td>g</td>\n",
              "    </tr>\n",
              "    <tr>\n",
              "      <th>2</th>\n",
              "      <td>162.0520</td>\n",
              "      <td>136.0310</td>\n",
              "      <td>4.0612</td>\n",
              "      <td>0.0374</td>\n",
              "      <td>0.0187</td>\n",
              "      <td>116.7410</td>\n",
              "      <td>-64.8580</td>\n",
              "      <td>-45.2160</td>\n",
              "      <td>76.9600</td>\n",
              "      <td>256.7880</td>\n",
              "      <td>g</td>\n",
              "    </tr>\n",
              "    <tr>\n",
              "      <th>3</th>\n",
              "      <td>23.8172</td>\n",
              "      <td>9.5728</td>\n",
              "      <td>2.3385</td>\n",
              "      <td>0.6147</td>\n",
              "      <td>0.3922</td>\n",
              "      <td>27.2107</td>\n",
              "      <td>-6.4633</td>\n",
              "      <td>-7.1513</td>\n",
              "      <td>10.4490</td>\n",
              "      <td>116.7370</td>\n",
              "      <td>g</td>\n",
              "    </tr>\n",
              "    <tr>\n",
              "      <th>4</th>\n",
              "      <td>75.1362</td>\n",
              "      <td>30.9205</td>\n",
              "      <td>3.1611</td>\n",
              "      <td>0.3168</td>\n",
              "      <td>0.1832</td>\n",
              "      <td>-5.5277</td>\n",
              "      <td>28.5525</td>\n",
              "      <td>21.8393</td>\n",
              "      <td>4.6480</td>\n",
              "      <td>356.4620</td>\n",
              "      <td>g</td>\n",
              "    </tr>\n",
              "    <tr>\n",
              "      <th>...</th>\n",
              "      <td>...</td>\n",
              "      <td>...</td>\n",
              "      <td>...</td>\n",
              "      <td>...</td>\n",
              "      <td>...</td>\n",
              "      <td>...</td>\n",
              "      <td>...</td>\n",
              "      <td>...</td>\n",
              "      <td>...</td>\n",
              "      <td>...</td>\n",
              "      <td>...</td>\n",
              "    </tr>\n",
              "    <tr>\n",
              "      <th>19015</th>\n",
              "      <td>21.3846</td>\n",
              "      <td>10.9170</td>\n",
              "      <td>2.6161</td>\n",
              "      <td>0.5857</td>\n",
              "      <td>0.3934</td>\n",
              "      <td>15.2618</td>\n",
              "      <td>11.5245</td>\n",
              "      <td>2.8766</td>\n",
              "      <td>2.4229</td>\n",
              "      <td>106.8258</td>\n",
              "      <td>h</td>\n",
              "    </tr>\n",
              "    <tr>\n",
              "      <th>19016</th>\n",
              "      <td>28.9452</td>\n",
              "      <td>6.7020</td>\n",
              "      <td>2.2672</td>\n",
              "      <td>0.5351</td>\n",
              "      <td>0.2784</td>\n",
              "      <td>37.0816</td>\n",
              "      <td>13.1853</td>\n",
              "      <td>-2.9632</td>\n",
              "      <td>86.7975</td>\n",
              "      <td>247.4560</td>\n",
              "      <td>h</td>\n",
              "    </tr>\n",
              "    <tr>\n",
              "      <th>19017</th>\n",
              "      <td>75.4455</td>\n",
              "      <td>47.5305</td>\n",
              "      <td>3.4483</td>\n",
              "      <td>0.1417</td>\n",
              "      <td>0.0549</td>\n",
              "      <td>-9.3561</td>\n",
              "      <td>41.0562</td>\n",
              "      <td>-9.4662</td>\n",
              "      <td>30.2987</td>\n",
              "      <td>256.5166</td>\n",
              "      <td>h</td>\n",
              "    </tr>\n",
              "    <tr>\n",
              "      <th>19018</th>\n",
              "      <td>120.5135</td>\n",
              "      <td>76.9018</td>\n",
              "      <td>3.9939</td>\n",
              "      <td>0.0944</td>\n",
              "      <td>0.0683</td>\n",
              "      <td>5.8043</td>\n",
              "      <td>-93.5224</td>\n",
              "      <td>-63.8389</td>\n",
              "      <td>84.6874</td>\n",
              "      <td>408.3166</td>\n",
              "      <td>h</td>\n",
              "    </tr>\n",
              "    <tr>\n",
              "      <th>19019</th>\n",
              "      <td>187.1814</td>\n",
              "      <td>53.0014</td>\n",
              "      <td>3.2093</td>\n",
              "      <td>0.2876</td>\n",
              "      <td>0.1539</td>\n",
              "      <td>-167.3125</td>\n",
              "      <td>-168.4558</td>\n",
              "      <td>31.4755</td>\n",
              "      <td>52.7310</td>\n",
              "      <td>272.3174</td>\n",
              "      <td>h</td>\n",
              "    </tr>\n",
              "  </tbody>\n",
              "</table>\n",
              "<p>19020 rows × 11 columns</p>\n",
              "</div>"
            ],
            "text/plain": [
              "             0         1       2       3   ...       7        8         9   10\n",
              "0       28.7967   16.0021  2.6449  0.3918  ...  -8.2027  40.0920   81.8828   g\n",
              "1       31.6036   11.7235  2.5185  0.5303  ...  -9.9574   6.3609  205.2610   g\n",
              "2      162.0520  136.0310  4.0612  0.0374  ... -45.2160  76.9600  256.7880   g\n",
              "3       23.8172    9.5728  2.3385  0.6147  ...  -7.1513  10.4490  116.7370   g\n",
              "4       75.1362   30.9205  3.1611  0.3168  ...  21.8393   4.6480  356.4620   g\n",
              "...         ...       ...     ...     ...  ...      ...      ...       ...  ..\n",
              "19015   21.3846   10.9170  2.6161  0.5857  ...   2.8766   2.4229  106.8258   h\n",
              "19016   28.9452    6.7020  2.2672  0.5351  ...  -2.9632  86.7975  247.4560   h\n",
              "19017   75.4455   47.5305  3.4483  0.1417  ...  -9.4662  30.2987  256.5166   h\n",
              "19018  120.5135   76.9018  3.9939  0.0944  ... -63.8389  84.6874  408.3166   h\n",
              "19019  187.1814   53.0014  3.2093  0.2876  ...  31.4755  52.7310  272.3174   h\n",
              "\n",
              "[19020 rows x 11 columns]"
            ]
          },
          "metadata": {
            "tags": []
          },
          "execution_count": 68
        }
      ]
    },
    {
      "cell_type": "markdown",
      "metadata": {
        "id": "KX1ekcvUl2rf"
      },
      "source": [
        "-Προκύπτει ότι το Dataset αποτελείται από 19020 δείγματα, καθένα εκ των οποίων έχει 10 χαρακτηριστικά συν την binary ετικέτα του. Στη συνέχεια θα εξετάσουμε το είδος των χαρακτηριστικών μέσω του δείγματος μιας και το dataset δεν έχει απουσιάζουσες τιμές."
      ]
    },
    {
      "cell_type": "code",
      "metadata": {
        "colab": {
          "base_uri": "https://localhost:8080/"
        },
        "id": "pRg1LYnUmDK_",
        "outputId": "adde47bc-bc36-42c0-a386-a7b52614b4fd"
      },
      "source": [
        "print(\"Data types of features:\",set([type(feature) for feature in datao[0]]))"
      ],
      "execution_count": null,
      "outputs": [
        {
          "output_type": "stream",
          "text": [
            "Data types of features: {<class 'float'>, <class 'str'>}\n"
          ],
          "name": "stdout"
        }
      ]
    },
    {
      "cell_type": "code",
      "metadata": {
        "id": "TE8M1ivOH1j_",
        "colab": {
          "base_uri": "https://localhost:8080/"
        },
        "outputId": "6b2f4119-246c-44fc-d22b-eaf3fc81005c"
      },
      "source": [
        "labels = data.iloc[:, 10]\n",
        "print(data.dtypes)\n"
      ],
      "execution_count": null,
      "outputs": [
        {
          "output_type": "stream",
          "text": [
            "0     float64\n",
            "1     float64\n",
            "2     float64\n",
            "3     float64\n",
            "4     float64\n",
            "5     float64\n",
            "6     float64\n",
            "7     float64\n",
            "8     float64\n",
            "9     float64\n",
            "10     object\n",
            "dtype: object\n"
          ],
          "name": "stdout"
        }
      ]
    },
    {
      "cell_type": "markdown",
      "metadata": {
        "id": "y67YlgX8RpDy"
      },
      "source": [
        "-\n",
        "  Παρατηρούμε πως όλα τα χαρακτηριστικά λαμβάνουν αριθμητικές **float64** τιμές και η μόνη μη διατεταγμένη μορφή είναι η τελευταία στήλη που υποδηλώνει το label και είναι τύπου **str** (*object*)."
      ]
    },
    {
      "cell_type": "markdown",
      "metadata": {
        "id": "GIhO12VrRy5-"
      },
      "source": [
        "### *3. Υπάρχουν επικεφαλίδες; Αρίθμηση γραμμών;*"
      ]
    },
    {
      "cell_type": "code",
      "metadata": {
        "id": "AdDjUb0sR_F6",
        "colab": {
          "base_uri": "https://localhost:8080/"
        },
        "outputId": "b30eb4d0-8de4-4cca-84e4-78ae1a91e218"
      },
      "source": [
        "print(data.values[0:5,:])"
      ],
      "execution_count": null,
      "outputs": [
        {
          "output_type": "stream",
          "text": [
            "[[28.7967 16.0021 2.6449 0.3918 0.1982 27.7004 22.011 -8.2027 40.092\n",
            "  81.8828 'g']\n",
            " [31.6036 11.7235 2.5185 0.5303 0.3773 26.2722 23.8238 -9.9574 6.3609\n",
            "  205.261 'g']\n",
            " [162.05200000000002 136.031 4.0612 0.0374 0.0187 116.741 -64.858 -45.216\n",
            "  76.96 256.788 'g']\n",
            " [23.8172 9.5728 2.3385 0.6147 0.3922 27.2107 -6.4633 -7.1513\n",
            "  10.449000000000002 116.73700000000001 'g']\n",
            " [75.1362 30.9205 3.1611 0.3168 0.1832 -5.5277 28.5525 21.8393 4.648\n",
            "  356.462 'g']]\n"
          ],
          "name": "stdout"
        }
      ]
    },
    {
      "cell_type": "code",
      "metadata": {
        "colab": {
          "base_uri": "https://localhost:8080/"
        },
        "id": "Vp82cYxMoB9X",
        "outputId": "4db49851-78cd-4f5e-aa59-d2241aebcdaf"
      },
      "source": [
        "labels0 = datao[:,-1]\n",
        "feats  = datao[:,:-1]\n",
        "print(\"Labels of the Dataset:\",set(labels))"
      ],
      "execution_count": null,
      "outputs": [
        {
          "output_type": "stream",
          "text": [
            "Labels of the Dataset: {'h', 'g'}\n"
          ],
          "name": "stdout"
        }
      ]
    },
    {
      "cell_type": "code",
      "metadata": {
        "id": "0c1Fm6UTR07b",
        "colab": {
          "base_uri": "https://localhost:8080/"
        },
        "outputId": "d9a73ceb-74de-4a38-9e29-f0984f58d109"
      },
      "source": [
        "labels"
      ],
      "execution_count": null,
      "outputs": [
        {
          "output_type": "execute_result",
          "data": {
            "text/plain": [
              "0        g\n",
              "1        g\n",
              "2        g\n",
              "3        g\n",
              "4        g\n",
              "        ..\n",
              "19015    h\n",
              "19016    h\n",
              "19017    h\n",
              "19018    h\n",
              "19019    h\n",
              "Name: 10, Length: 19020, dtype: object"
            ]
          },
          "metadata": {
            "tags": []
          },
          "execution_count": 73
        }
      ]
    },
    {
      "cell_type": "markdown",
      "metadata": {
        "id": "Zb-3PD0PS75z"
      },
      "source": [
        "-\n",
        " Τυπώνοντας τις πρώτες 5 γραμμές του αρχείου, παρατηρούμε ότι δεν υπάρχουν επικεφαλίδες ουτε αρίθμηση γραμμών."
      ]
    },
    {
      "cell_type": "markdown",
      "metadata": {
        "id": "nA7rRtefTCha"
      },
      "source": [
        "### *4. Ποιες είναι οι ετικέτες των κλάσεων και σε ποια κολώνα βρίσκονται;* "
      ]
    },
    {
      "cell_type": "markdown",
      "metadata": {
        "id": "U31dMAUfTDfe"
      },
      "source": [
        "-\n",
        "Οι ετικέτες των δειγμάτων βρίσκονται στην τελευταία στήλη, σύμφωνα με το documentation και λαμβάνουν τις τιμές g (gamma) ή h (hadron).\n",
        " "
      ]
    },
    {
      "cell_type": "markdown",
      "metadata": {
        "id": "p0vEihSZTNay"
      },
      "source": [
        "### *5. Χρειάστηκε να κάνετε μετατροπές στα αρχεία text και ποιες?*"
      ]
    },
    {
      "cell_type": "markdown",
      "metadata": {
        "id": "NYd23JSlTQrK"
      },
      "source": [
        "-\n",
        "Δεν υπάρχει αρίθμηση στηλών και γραμμών, τα δεδομένα και τα χαρακτηριστικά τους είναι στις σωστές θέσεις άρα δε χρειάζεται να κάνουμε μετατροπές στο αρχείο."
      ]
    },
    {
      "cell_type": "markdown",
      "metadata": {
        "id": "3Ce4LzEtTUJ_"
      },
      "source": [
        "### *6. Υπάρχουν απουσιάζουσες τιμές; Πόσα είναι τα δείγματα με απουσιάζουσες τιμές και ποιο το ποσοστό τους επί του συνόλου;* "
      ]
    },
    {
      "cell_type": "code",
      "metadata": {
        "id": "S6-79GjcLmjY",
        "colab": {
          "base_uri": "https://localhost:8080/",
          "height": 399
        },
        "outputId": "2f8ee597-eab2-4a28-bb0b-211c124dc1d9"
      },
      "source": [
        "features = data.iloc[:, 0:10]\n",
        "features"
      ],
      "execution_count": null,
      "outputs": [
        {
          "output_type": "execute_result",
          "data": {
            "text/html": [
              "<div>\n",
              "<style scoped>\n",
              "    .dataframe tbody tr th:only-of-type {\n",
              "        vertical-align: middle;\n",
              "    }\n",
              "\n",
              "    .dataframe tbody tr th {\n",
              "        vertical-align: top;\n",
              "    }\n",
              "\n",
              "    .dataframe thead th {\n",
              "        text-align: right;\n",
              "    }\n",
              "</style>\n",
              "<table border=\"1\" class=\"dataframe\">\n",
              "  <thead>\n",
              "    <tr style=\"text-align: right;\">\n",
              "      <th></th>\n",
              "      <th>0</th>\n",
              "      <th>1</th>\n",
              "      <th>2</th>\n",
              "      <th>3</th>\n",
              "      <th>4</th>\n",
              "      <th>5</th>\n",
              "      <th>6</th>\n",
              "      <th>7</th>\n",
              "      <th>8</th>\n",
              "      <th>9</th>\n",
              "    </tr>\n",
              "  </thead>\n",
              "  <tbody>\n",
              "    <tr>\n",
              "      <th>0</th>\n",
              "      <td>28.7967</td>\n",
              "      <td>16.0021</td>\n",
              "      <td>2.6449</td>\n",
              "      <td>0.3918</td>\n",
              "      <td>0.1982</td>\n",
              "      <td>27.7004</td>\n",
              "      <td>22.0110</td>\n",
              "      <td>-8.2027</td>\n",
              "      <td>40.0920</td>\n",
              "      <td>81.8828</td>\n",
              "    </tr>\n",
              "    <tr>\n",
              "      <th>1</th>\n",
              "      <td>31.6036</td>\n",
              "      <td>11.7235</td>\n",
              "      <td>2.5185</td>\n",
              "      <td>0.5303</td>\n",
              "      <td>0.3773</td>\n",
              "      <td>26.2722</td>\n",
              "      <td>23.8238</td>\n",
              "      <td>-9.9574</td>\n",
              "      <td>6.3609</td>\n",
              "      <td>205.2610</td>\n",
              "    </tr>\n",
              "    <tr>\n",
              "      <th>2</th>\n",
              "      <td>162.0520</td>\n",
              "      <td>136.0310</td>\n",
              "      <td>4.0612</td>\n",
              "      <td>0.0374</td>\n",
              "      <td>0.0187</td>\n",
              "      <td>116.7410</td>\n",
              "      <td>-64.8580</td>\n",
              "      <td>-45.2160</td>\n",
              "      <td>76.9600</td>\n",
              "      <td>256.7880</td>\n",
              "    </tr>\n",
              "    <tr>\n",
              "      <th>3</th>\n",
              "      <td>23.8172</td>\n",
              "      <td>9.5728</td>\n",
              "      <td>2.3385</td>\n",
              "      <td>0.6147</td>\n",
              "      <td>0.3922</td>\n",
              "      <td>27.2107</td>\n",
              "      <td>-6.4633</td>\n",
              "      <td>-7.1513</td>\n",
              "      <td>10.4490</td>\n",
              "      <td>116.7370</td>\n",
              "    </tr>\n",
              "    <tr>\n",
              "      <th>4</th>\n",
              "      <td>75.1362</td>\n",
              "      <td>30.9205</td>\n",
              "      <td>3.1611</td>\n",
              "      <td>0.3168</td>\n",
              "      <td>0.1832</td>\n",
              "      <td>-5.5277</td>\n",
              "      <td>28.5525</td>\n",
              "      <td>21.8393</td>\n",
              "      <td>4.6480</td>\n",
              "      <td>356.4620</td>\n",
              "    </tr>\n",
              "    <tr>\n",
              "      <th>...</th>\n",
              "      <td>...</td>\n",
              "      <td>...</td>\n",
              "      <td>...</td>\n",
              "      <td>...</td>\n",
              "      <td>...</td>\n",
              "      <td>...</td>\n",
              "      <td>...</td>\n",
              "      <td>...</td>\n",
              "      <td>...</td>\n",
              "      <td>...</td>\n",
              "    </tr>\n",
              "    <tr>\n",
              "      <th>19015</th>\n",
              "      <td>21.3846</td>\n",
              "      <td>10.9170</td>\n",
              "      <td>2.6161</td>\n",
              "      <td>0.5857</td>\n",
              "      <td>0.3934</td>\n",
              "      <td>15.2618</td>\n",
              "      <td>11.5245</td>\n",
              "      <td>2.8766</td>\n",
              "      <td>2.4229</td>\n",
              "      <td>106.8258</td>\n",
              "    </tr>\n",
              "    <tr>\n",
              "      <th>19016</th>\n",
              "      <td>28.9452</td>\n",
              "      <td>6.7020</td>\n",
              "      <td>2.2672</td>\n",
              "      <td>0.5351</td>\n",
              "      <td>0.2784</td>\n",
              "      <td>37.0816</td>\n",
              "      <td>13.1853</td>\n",
              "      <td>-2.9632</td>\n",
              "      <td>86.7975</td>\n",
              "      <td>247.4560</td>\n",
              "    </tr>\n",
              "    <tr>\n",
              "      <th>19017</th>\n",
              "      <td>75.4455</td>\n",
              "      <td>47.5305</td>\n",
              "      <td>3.4483</td>\n",
              "      <td>0.1417</td>\n",
              "      <td>0.0549</td>\n",
              "      <td>-9.3561</td>\n",
              "      <td>41.0562</td>\n",
              "      <td>-9.4662</td>\n",
              "      <td>30.2987</td>\n",
              "      <td>256.5166</td>\n",
              "    </tr>\n",
              "    <tr>\n",
              "      <th>19018</th>\n",
              "      <td>120.5135</td>\n",
              "      <td>76.9018</td>\n",
              "      <td>3.9939</td>\n",
              "      <td>0.0944</td>\n",
              "      <td>0.0683</td>\n",
              "      <td>5.8043</td>\n",
              "      <td>-93.5224</td>\n",
              "      <td>-63.8389</td>\n",
              "      <td>84.6874</td>\n",
              "      <td>408.3166</td>\n",
              "    </tr>\n",
              "    <tr>\n",
              "      <th>19019</th>\n",
              "      <td>187.1814</td>\n",
              "      <td>53.0014</td>\n",
              "      <td>3.2093</td>\n",
              "      <td>0.2876</td>\n",
              "      <td>0.1539</td>\n",
              "      <td>-167.3125</td>\n",
              "      <td>-168.4558</td>\n",
              "      <td>31.4755</td>\n",
              "      <td>52.7310</td>\n",
              "      <td>272.3174</td>\n",
              "    </tr>\n",
              "  </tbody>\n",
              "</table>\n",
              "<p>19020 rows × 10 columns</p>\n",
              "</div>"
            ],
            "text/plain": [
              "              0         1       2       3  ...         6        7        8         9\n",
              "0       28.7967   16.0021  2.6449  0.3918  ...   22.0110  -8.2027  40.0920   81.8828\n",
              "1       31.6036   11.7235  2.5185  0.5303  ...   23.8238  -9.9574   6.3609  205.2610\n",
              "2      162.0520  136.0310  4.0612  0.0374  ...  -64.8580 -45.2160  76.9600  256.7880\n",
              "3       23.8172    9.5728  2.3385  0.6147  ...   -6.4633  -7.1513  10.4490  116.7370\n",
              "4       75.1362   30.9205  3.1611  0.3168  ...   28.5525  21.8393   4.6480  356.4620\n",
              "...         ...       ...     ...     ...  ...       ...      ...      ...       ...\n",
              "19015   21.3846   10.9170  2.6161  0.5857  ...   11.5245   2.8766   2.4229  106.8258\n",
              "19016   28.9452    6.7020  2.2672  0.5351  ...   13.1853  -2.9632  86.7975  247.4560\n",
              "19017   75.4455   47.5305  3.4483  0.1417  ...   41.0562  -9.4662  30.2987  256.5166\n",
              "19018  120.5135   76.9018  3.9939  0.0944  ...  -93.5224 -63.8389  84.6874  408.3166\n",
              "19019  187.1814   53.0014  3.2093  0.2876  ... -168.4558  31.4755  52.7310  272.3174\n",
              "\n",
              "[19020 rows x 10 columns]"
            ]
          },
          "metadata": {
            "tags": []
          },
          "execution_count": 74
        }
      ]
    },
    {
      "cell_type": "code",
      "metadata": {
        "id": "eO89Mxd7Lorv",
        "colab": {
          "base_uri": "https://localhost:8080/"
        },
        "outputId": "4e6cce21-ed40-42f1-ca5e-8fa219ebcb15"
      },
      "source": [
        "features.isnull().values.any()"
      ],
      "execution_count": null,
      "outputs": [
        {
          "output_type": "execute_result",
          "data": {
            "text/plain": [
              "False"
            ]
          },
          "metadata": {
            "tags": []
          },
          "execution_count": 75
        }
      ]
    },
    {
      "cell_type": "code",
      "metadata": {
        "id": "pucajItzTv9T",
        "colab": {
          "base_uri": "https://localhost:8080/"
        },
        "outputId": "963b783f-86ab-4fce-89ff-936806ecbaec"
      },
      "source": [
        "print(\"Ποσοστό δειγμάτων(γραμμών) με απουσιάζουσες τιμές:\", 0/len(data)*100 , \"%\")"
      ],
      "execution_count": null,
      "outputs": [
        {
          "output_type": "stream",
          "text": [
            "Ποσοστό δειγμάτων(γραμμών) με απουσιάζουσες τιμές: 0.0 %\n"
          ],
          "name": "stdout"
        }
      ]
    },
    {
      "cell_type": "markdown",
      "metadata": {
        "id": "wReoyufaTlyG"
      },
      "source": [
        "-\n",
        "Οχι δεν υπαρχουν απουσιαζουσες τιμες αυτο το ξερουμε και απο το documentation του dataset.\n",
        "\n"
      ]
    },
    {
      "cell_type": "markdown",
      "metadata": {
        "id": "dFpwJC1SUATF"
      },
      "source": [
        "### *7. Ποιος είναι ο αριθμός των κλάσεων και τα ποσοστά δειγμάτων τους επί του συνόλου; Αν θεωρήσουμε ότι ένα dataset είναι μη ισορροπημένο αν μια οποιαδήποτε κλάση είναι 1.5 φορά πιο συχνή από κάποια άλλη (60%-40% σε binary datasets) εκτιμήστε την ισορροπία του dataset.*\n"
      ]
    },
    {
      "cell_type": "code",
      "metadata": {
        "id": "zpHYEoFhLtGv",
        "colab": {
          "base_uri": "https://localhost:8080/"
        },
        "outputId": "dd135c20-4399-424b-dfa0-e8f6e6b19378"
      },
      "source": [
        "frequencies = pd.value_counts(labels)\n",
        "print(\"Συχνότητα εμφάνισης των δειγμάτων της κάθε κλάσης:\")\n",
        "print(frequencies)\n",
        "\n",
        "print(\"Ποσοστό 'gamma':\", frequencies[0]/len(labels)*100, '%')\n",
        "print(\"Ποσοστό 'hardon:\", frequencies[1]/len(labels)*100, '%')\n"
      ],
      "execution_count": null,
      "outputs": [
        {
          "output_type": "stream",
          "text": [
            "Συχνότητα εμφάνισης των δειγμάτων της κάθε κλάσης:\n",
            "g    12332\n",
            "h     6688\n",
            "Name: 10, dtype: int64\n",
            "Ποσοστό 'gamma': 64.83701366982125 %\n",
            "Ποσοστό 'hardon: 35.16298633017876 %\n"
          ],
          "name": "stdout"
        }
      ]
    },
    {
      "cell_type": "markdown",
      "metadata": {
        "id": "EdJswvcgUO7_"
      },
      "source": [
        "\n",
        "-Είναι εμφανές πως τα δεδομένα κλίνουν κατά ένα βαθμό στην κλάση gamma, συνεπώς τα δεδομένα μας δεν είναι καλώς ισορροπημένα. Παρότι το ποσοστό παραμένει οριακά μικρότερο από 2/3 και και θα μπορούσαμε να μην κάνουμε κάτι επιπλέον, επιλέγουμε να εφαρμόσουμε oversampling, θεωρώντας ότι όσο πιο ισορροπημένο είναι το dataset, τόσο καλύτερα θα είναι τα αποτελέσματα. Για να γίνει αυτό θα προηγηθεί το split."
      ]
    },
    {
      "cell_type": "markdown",
      "metadata": {
        "id": "wKtgiDx1UUFA"
      },
      "source": [
        "### *8. Διαχωρίστε σε train και test set. Εάν υπάρχουν απουσιάζουσες τιμές και μη διατεταγμένα χαρακτηριστικά διαχειριστείτε τα και αιτιολογήστε τις επιλογές σας.*"
      ]
    },
    {
      "cell_type": "markdown",
      "metadata": {
        "id": "_9YiHqMErR1f"
      },
      "source": [
        "-Σαν τελευταίο βήμα επεξεργασίας, θα χωρίσουμε τα δεδομένα σε train και test μέσω της αντίστοιχης συνάρτησης train_test_split() της Scikit-learn. Αντίστοιχα χωρίζουμε και τα labels. Επιλέγουμε σχήμα 30% για το test set"
      ]
    },
    {
      "cell_type": "code",
      "metadata": {
        "id": "g-7VMOzpSXoB"
      },
      "source": [
        "from sklearn.model_selection import train_test_split\n",
        "features_train, features_test, labels_train, labels_test = train_test_split(features, labels, test_size=0.30,random_state=0)"
      ],
      "execution_count": null,
      "outputs": []
    },
    {
      "cell_type": "markdown",
      "metadata": {
        "id": "9EobTFI9rd-3"
      },
      "source": [
        "-Ως τελευταίο βήμα, θα εφαρμόσουμε oversampling ούτως ώστε να εξισορροπήσουμε το dataset, όπως προείπαμε. Η έννοια του oversampling ειναι πρακτικά η επανάληψη samples από την υπολείπουσα κλάση, ώστε ο λόγος τους να τείνει προς το ιδανικό 50%. Θα εφαρμόσουμε για αυτό το σκοπό την συνάρτηση της Scikit-learn:"
      ]
    },
    {
      "cell_type": "code",
      "metadata": {
        "colab": {
          "base_uri": "https://localhost:8080/"
        },
        "id": "c4FQzyUkrk2z",
        "outputId": "fc4c7fb4-55a1-4bd5-e214-948b8109b1a0"
      },
      "source": [
        "ros = RandomOverSampler(random_state = 0)\n",
        "features_train, labels_train = ros.fit_sample(features_train,labels_train)\n",
        "balance = len(labels_train[labels_train=='g'])/len(labels_train)\n",
        "\n",
        "print(\"The balance of the train set is\",balance)"
      ],
      "execution_count": null,
      "outputs": [
        {
          "output_type": "stream",
          "text": [
            "The balance of the train set is 0.5\n"
          ],
          "name": "stdout"
        }
      ]
    },
    {
      "cell_type": "markdown",
      "metadata": {
        "id": "1rW1doBrUtyb"
      },
      "source": [
        "# III. Baseline Classification"
      ]
    },
    {
      "cell_type": "markdown",
      "metadata": {
        "id": "Ch74NMBhVGOe"
      },
      "source": [
        "### *1.Εκπαιδεύστε στο train τους classifiers με default τιμές (απλή αρχικοποίηση). Κάντε εκτίμηση στο test set (μαζί με τους dummy) και τυπώστε για κάθε estimator: confusion matrix, f1-micro average και f1-macro average.*"
      ]
    },
    {
      "cell_type": "markdown",
      "metadata": {
        "id": "Iv_ZCM90tXTo"
      },
      "source": [
        "Ορίζουμε μία συνάρτηση που εκπαιδεύει τους dummy classifiers με default τιμές και επιστρέφει σε dictionary τα predictions κάθε ταξινομητή, την ακρίβεια του καθώς και τους χρόνους fit και train"
      ]
    },
    {
      "cell_type": "code",
      "metadata": {
        "id": "ptzTW34YdHZW",
        "colab": {
          "base_uri": "https://localhost:8080/"
        },
        "outputId": "5147a908-3eec-49f9-e3ad-071e265003c8"
      },
      "source": [
        "from sklearn.dummy import DummyClassifier\n",
        "from sklearn.metrics import precision_recall_fscore_support\n",
        "from sklearn.metrics import confusion_matrix\n",
        "from sklearn.metrics import classification_report\n",
        "from sklearn.metrics import f1_score\n",
        "\n",
        "pred={}\n",
        "micro={}\n",
        "macro={}\n",
        "weighted={}\n",
        "\n",
        "dc_uniform = DummyClassifier(strategy=\"uniform\")\n",
        "dc_most_frequent = DummyClassifier(strategy=\"most_frequent\")\n",
        "dc_stratified = DummyClassifier(strategy=\"stratified\")\n",
        "\n",
        "model=dc_uniform.fit(features_train, labels_train)\n",
        "pred[\"uniform\"]= dc_uniform.predict(features_test)\n",
        "cnf_matrix = confusion_matrix(labels_test, pred[\"uniform\"])\n",
        "print(\"UNIFORM\")\n",
        "print(classification_report(labels_test, pred[\"uniform\"]))\n",
        "print(cnf_matrix,\"\\n\")\n",
        "\n",
        "avg=f1_score(labels_test,pred[\"uniform\"], average='micro')\n",
        "micro[\"uniform\"]=avg\n",
        "avg=f1_score(labels_test,pred[\"uniform\"], average='macro')\n",
        "macro[\"uniform\"]=avg\n",
        "\n",
        "\n",
        "model=dc_most_frequent.fit(features_train, labels_train)\n",
        "pred[\"most_frequent\"]= dc_most_frequent.predict(features_test)\n",
        "cnf_matrix = confusion_matrix(labels_test,pred[\"most_frequent\"])\n",
        "print(\"MOST FREQUENT\")\n",
        "print(classification_report(labels_test, pred[\"most_frequent\"]))\n",
        "print(cnf_matrix,\"\\n\")\n",
        "\n",
        "avg=f1_score(labels_test,pred[\"most_frequent\"], average='micro')\n",
        "micro[\"most_frequent\"]=avg\n",
        "avg=f1_score(labels_test,pred[\"most_frequent\"], average='macro')\n",
        "macro[\"most_frequent\"]=avg\n",
        "\n",
        "\n",
        "\n",
        "model=dc_stratified.fit(features_train, labels_train)\n",
        "pred[\"stratified\"]= dc_stratified.predict(features_test)\n",
        "cnf_matrix = confusion_matrix(labels_test, pred[\"stratified\"])\n",
        "print(\"STRATIFIED\")\n",
        "print(classification_report(labels_test, pred[\"stratified\"]))\n",
        "print(cnf_matrix)\n",
        "\n",
        "avg=f1_score(labels_test,pred[\"stratified\"], average='micro')\n",
        "micro[\"stratified\"]=avg\n",
        "avg=f1_score(labels_test,pred[\"stratified\"], average='macro')\n",
        "macro[\"stratified\"]=avg"
      ],
      "execution_count": null,
      "outputs": [
        {
          "output_type": "stream",
          "text": [
            "UNIFORM\n",
            "              precision    recall  f1-score   support\n",
            "\n",
            "           g       0.64      0.50      0.56      3689\n",
            "           h       0.35      0.49      0.41      2017\n",
            "\n",
            "    accuracy                           0.50      5706\n",
            "   macro avg       0.50      0.50      0.49      5706\n",
            "weighted avg       0.54      0.50      0.51      5706\n",
            "\n",
            "[[1843 1846]\n",
            " [1020  997]] \n",
            "\n",
            "MOST FREQUENT\n",
            "              precision    recall  f1-score   support\n",
            "\n",
            "           g       0.65      1.00      0.79      3689\n",
            "           h       0.00      0.00      0.00      2017\n",
            "\n",
            "    accuracy                           0.65      5706\n",
            "   macro avg       0.32      0.50      0.39      5706\n",
            "weighted avg       0.42      0.65      0.51      5706\n",
            "\n",
            "[[3689    0]\n",
            " [2017    0]] \n",
            "\n"
          ],
          "name": "stdout"
        },
        {
          "output_type": "stream",
          "text": [
            "/usr/local/lib/python3.6/dist-packages/sklearn/metrics/_classification.py:1221: UndefinedMetricWarning: Precision and F-score are ill-defined and being set to 0.0 in labels with no predicted samples. Use `zero_division` parameter to control this behavior.\n",
            "  _warn_prf(average, modifier, msg_start, len(result))\n"
          ],
          "name": "stderr"
        },
        {
          "output_type": "stream",
          "text": [
            "STRATIFIED\n",
            "              precision    recall  f1-score   support\n",
            "\n",
            "           g       0.66      0.51      0.58      3689\n",
            "           h       0.36      0.51      0.42      2017\n",
            "\n",
            "    accuracy                           0.51      5706\n",
            "   macro avg       0.51      0.51      0.50      5706\n",
            "weighted avg       0.55      0.51      0.52      5706\n",
            "\n",
            "[[1892 1797]\n",
            " [ 992 1025]]\n"
          ],
          "name": "stdout"
        }
      ]
    },
    {
      "cell_type": "code",
      "metadata": {
        "id": "U2L5_u_xdXEs",
        "colab": {
          "base_uri": "https://localhost:8080/"
        },
        "outputId": "434acf5b-53e9-4753-8777-0da19aade1ad"
      },
      "source": [
        "from sklearn.naive_bayes import GaussianNB\n",
        "\n",
        "gnb = GaussianNB()\n",
        "model = gnb.fit(features_train, labels_train)\n",
        "pred[\"gnb\"] = gnb.predict(features_test)\n",
        "cnf_matrix = confusion_matrix(labels_test,pred[\"gnb\"])\n",
        "print(\"GNB\")\n",
        "print(classification_report(labels_test, pred[\"gnb\"]))\n",
        "print(cnf_matrix,\"\\n\")\n",
        "\n",
        "avg=f1_score(labels_test,pred[\"gnb\"], average='micro')\n",
        "micro[\"gnb\"]=avg\n",
        "avg=f1_score(labels_test,pred[\"gnb\"], average='macro')\n",
        "macro[\"gnb\"]=avg"
      ],
      "execution_count": null,
      "outputs": [
        {
          "output_type": "stream",
          "text": [
            "GNB\n",
            "              precision    recall  f1-score   support\n",
            "\n",
            "           g       0.73      0.90      0.81      3689\n",
            "           h       0.68      0.40      0.50      2017\n",
            "\n",
            "    accuracy                           0.72      5706\n",
            "   macro avg       0.71      0.65      0.66      5706\n",
            "weighted avg       0.71      0.72      0.70      5706\n",
            "\n",
            "[[3317  372]\n",
            " [1214  803]] \n",
            "\n"
          ],
          "name": "stdout"
        }
      ]
    },
    {
      "cell_type": "code",
      "metadata": {
        "id": "U93TJX8SdeDy",
        "colab": {
          "base_uri": "https://localhost:8080/"
        },
        "outputId": "e95277e1-0b89-4187-dd71-9c1dc4359b42"
      },
      "source": [
        "from sklearn.neighbors import KNeighborsClassifier\n",
        "\n",
        "knn = KNeighborsClassifier(n_neighbors=9)\n",
        "knn.fit(features_train, labels_train)\n",
        "pred[\"knn\"] = knn.predict(features_test)\n",
        "cnf_matrix = confusion_matrix(labels_test, pred[\"knn\"])\n",
        "print(\"KNN\")\n",
        "print(classification_report(labels_test, pred[\"knn\"]))\n",
        "print(cnf_matrix, \"\\n\")\n",
        "\n",
        "avg=f1_score(labels_test,pred[\"knn\"], average='micro')\n",
        "micro[\"knn\"]=avg\n",
        "avg=f1_score(labels_test,pred[\"knn\"], average='macro')\n",
        "macro[\"knn\"]=avg"
      ],
      "execution_count": null,
      "outputs": [
        {
          "output_type": "stream",
          "text": [
            "KNN\n",
            "              precision    recall  f1-score   support\n",
            "\n",
            "           g       0.83      0.84      0.84      3689\n",
            "           h       0.70      0.69      0.70      2017\n",
            "\n",
            "    accuracy                           0.79      5706\n",
            "   macro avg       0.77      0.77      0.77      5706\n",
            "weighted avg       0.79      0.79      0.79      5706\n",
            "\n",
            "[[3103  586]\n",
            " [ 621 1396]] \n",
            "\n"
          ],
          "name": "stdout"
        }
      ]
    },
    {
      "cell_type": "code",
      "metadata": {
        "id": "0g-niKaaVjZY",
        "colab": {
          "base_uri": "https://localhost:8080/"
        },
        "outputId": "a604e587-c487-4479-943f-031e948394e9"
      },
      "source": [
        "from sklearn.neural_network import MLPClassifier\n",
        "from sklearn.metrics import classification_report\n",
        "mlp = MLPClassifier()\n",
        "mlp.fit(features_train,labels_train)\n",
        "pred['mlp'] = mlp.predict(features_test)\n",
        "cnf_matrix = confusion_matrix(labels_test,pred[\"mlp\"])\n",
        "\n",
        "print(\"MLP\")\n",
        "print(classification_report(labels_test, pred[\"mlp\"]))\n",
        "print(cnf_matrix, \"\\n\")\n",
        "\n",
        "avg=f1_score(labels_test,pred[\"mlp\"], average='micro')\n",
        "micro[\"mlp\"]=avg\n",
        "avg=f1_score(labels_test,pred[\"mlp\"], average='macro')\n",
        "macro[\"mlp\"]=avg"
      ],
      "execution_count": null,
      "outputs": [
        {
          "output_type": "stream",
          "text": [
            "/usr/local/lib/python3.6/dist-packages/sklearn/neural_network/_multilayer_perceptron.py:585: ConvergenceWarning: Stochastic Optimizer: Maximum iterations (200) reached and the optimization hasn't converged yet.\n",
            "  % self.max_iter, ConvergenceWarning)\n"
          ],
          "name": "stderr"
        },
        {
          "output_type": "stream",
          "text": [
            "MLP\n",
            "              precision    recall  f1-score   support\n",
            "\n",
            "           g       0.88      0.86      0.87      3689\n",
            "           h       0.75      0.79      0.77      2017\n",
            "\n",
            "    accuracy                           0.83      5706\n",
            "   macro avg       0.81      0.82      0.82      5706\n",
            "weighted avg       0.83      0.83      0.83      5706\n",
            "\n",
            "[[3159  530]\n",
            " [ 430 1587]] \n",
            "\n"
          ],
          "name": "stdout"
        }
      ]
    },
    {
      "cell_type": "code",
      "metadata": {
        "id": "t0HPI8V0WQ5a",
        "colab": {
          "base_uri": "https://localhost:8080/"
        },
        "outputId": "53d725fe-366f-4ca7-be19-0fa5b0a7f832"
      },
      "source": [
        "from sklearn.svm import SVC \n",
        "svmpoly = SVC(class_weight='balanced',kernel='poly')\n",
        "svmpoly.fit(features_train, labels_train)\n",
        "pred[\"svmpoly\"] = svmpoly.predict(features_test)\n",
        "cnf_matrix = confusion_matrix(labels_test,pred[\"svmpoly\"])\n",
        "\n",
        "print(\"SVMpoly\")\n",
        "print(classification_report(labels_test, pred[\"svmpoly\"]))\n",
        "print(cnf_matrix, \"\\n\")\n",
        "\n",
        "avg=f1_score(labels_test,pred[\"svmpoly\"], average='micro')\n",
        "micro[\"svmpoly\"]=avg\n",
        "avg=f1_score(labels_test,pred[\"svmpoly\"], average='macro')\n",
        "macro[\"svmpoly\"]=avg\n",
        "\n"
      ],
      "execution_count": null,
      "outputs": [
        {
          "output_type": "stream",
          "text": [
            "SVMpoly\n",
            "              precision    recall  f1-score   support\n",
            "\n",
            "           g       0.83      0.90      0.86      3689\n",
            "           h       0.78      0.66      0.72      2017\n",
            "\n",
            "    accuracy                           0.81      5706\n",
            "   macro avg       0.80      0.78      0.79      5706\n",
            "weighted avg       0.81      0.81      0.81      5706\n",
            "\n",
            "[[3309  380]\n",
            " [ 677 1340]] \n",
            "\n"
          ],
          "name": "stdout"
        }
      ]
    },
    {
      "cell_type": "code",
      "metadata": {
        "colab": {
          "base_uri": "https://localhost:8080/"
        },
        "id": "NIrLKfU_MC3J",
        "outputId": "f720295a-ac66-4f2d-99e1-9766c7b37122"
      },
      "source": [
        "from sklearn.svm import LinearSVC \n",
        "svmlinear = LinearSVC(class_weight='balanced', max_iter=90000)\n",
        "svmlinear.fit(features_train, labels_train)\n",
        "pred[\"svmlinear\"] = svmlinear.predict(features_test)\n",
        "cnf_matrix = confusion_matrix(labels_test,pred[\"svmlinear\"])\n",
        "\n",
        "print(\"SVMlinear\")\n",
        "print(classification_report(labels_test, pred[\"svmlinear\"]))\n",
        "print(cnf_matrix, \"\\n\")\n",
        "\n",
        "avg=f1_score(labels_test,pred[\"svmlinear\"], average='micro')\n",
        "micro[\"svmlinear\"]=avg\n",
        "avg=f1_score(labels_test,pred[\"svmlinear\"], average='macro')\n",
        "macro[\"svmlinear\"]=avg"
      ],
      "execution_count": null,
      "outputs": [
        {
          "output_type": "stream",
          "text": [
            "/usr/local/lib/python3.6/dist-packages/sklearn/svm/_base.py:977: ConvergenceWarning: Liblinear failed to converge, increase the number of iterations.\n",
            "  \"the number of iterations.\", ConvergenceWarning)\n"
          ],
          "name": "stderr"
        },
        {
          "output_type": "stream",
          "text": [
            "SVMlinear\n",
            "              precision    recall  f1-score   support\n",
            "\n",
            "           g       0.77      0.91      0.83      3689\n",
            "           h       0.74      0.50      0.60      2017\n",
            "\n",
            "    accuracy                           0.76      5706\n",
            "   macro avg       0.76      0.70      0.71      5706\n",
            "weighted avg       0.76      0.76      0.75      5706\n",
            "\n",
            "[[3345  344]\n",
            " [1016 1001]] \n",
            "\n"
          ],
          "name": "stdout"
        }
      ]
    },
    {
      "cell_type": "code",
      "metadata": {
        "colab": {
          "base_uri": "https://localhost:8080/"
        },
        "id": "yQ9BlTnROcYh",
        "outputId": "d163e3fe-feac-45fc-990d-cbaa7c2ca616"
      },
      "source": [
        "from sklearn.svm import SVC \n",
        "svmrbf = SVC(class_weight='balanced',kernel='rbf')\n",
        "svmrbf.fit(features_train, labels_train)\n",
        "pred[\"svmrbf\"] = svmrbf.predict(features_test)\n",
        "cnf_matrix = confusion_matrix(labels_test,pred[\"svmrbf\"])\n",
        "print(\"SVMrbf\")\n",
        "print(classification_report(labels_test, pred[\"svmrbf\"]))\n",
        "print(cnf_matrix, \"\\n\")\n",
        "\n",
        "avg=f1_score(labels_test,pred[\"svmrbf\"], average='micro')\n",
        "micro[\"svmrbf\"]=avg\n",
        "avg=f1_score(labels_test,pred[\"svmrbf\"], average='macro')\n",
        "macro[\"svmrbf\"]=avg"
      ],
      "execution_count": null,
      "outputs": [
        {
          "output_type": "stream",
          "text": [
            "SVMrbf\n",
            "              precision    recall  f1-score   support\n",
            "\n",
            "           g       0.85      0.87      0.86      3689\n",
            "           h       0.76      0.72      0.74      2017\n",
            "\n",
            "    accuracy                           0.82      5706\n",
            "   macro avg       0.80      0.80      0.80      5706\n",
            "weighted avg       0.82      0.82      0.82      5706\n",
            "\n",
            "[[3224  465]\n",
            " [ 561 1456]] \n",
            "\n"
          ],
          "name": "stdout"
        }
      ]
    },
    {
      "cell_type": "markdown",
      "metadata": {
        "id": "zeprXE5AVqYe"
      },
      "source": [
        "### *2.Για κάθε averaged metric, εκτυπώστε bar plot συγκρισης με τις τιμές του συγκεκριμένου f1 για όλους τους classifiers.*"
      ]
    },
    {
      "cell_type": "code",
      "metadata": {
        "id": "ZqA8LF9Saa60",
        "colab": {
          "base_uri": "https://localhost:8080/",
          "height": 376
        },
        "outputId": "6f4440b1-ebb3-4695-da6b-1960d6953a8a"
      },
      "source": [
        "import matplotlib.pyplot as plt\n",
        "\n",
        "data = {'uniform': micro['uniform'], 'stratified': micro['stratified'], 'most frequent': micro['most_frequent'],'Gnb': micro['gnb'],'knn': micro['knn'],'mlp':micro['mlp'],'svmlinear':micro['svmlinear'], 'svmpoly':micro['svmpoly'],'svmrbf':micro['svmrbf']}\n",
        "names = list(data.keys())\n",
        "values = list(data.values())\n",
        "\n",
        "#tick_label does the some work as plt.xticks()\n",
        "plt.bar(range(len(data)),values,tick_label=names)\n",
        "plt.savefig('bar.png')\n",
        "plt.title(\"f1 score for micro average\", fontsize = 18)\n",
        "plt.xlabel(\"$Classifiers$\", fontsize = 16)\n",
        "plt.ylabel(\"$f1\\ score$\", fontsize = 16)\n",
        "plt.xticks(rotation = 60, fontsize = 12)\n",
        "plt.show()"
      ],
      "execution_count": null,
      "outputs": [
        {
          "output_type": "display_data",
          "data": {
            "image/png": "[encoded data removed]",
            "text/plain": [
              "<Figure size 432x288 with 1 Axes>"
            ]
          },
          "metadata": {
            "tags": [],
            "needs_background": "light"
          }
        }
      ]
    },
    {
      "cell_type": "code",
      "metadata": {
        "id": "QyiitmFmd4p8",
        "colab": {
          "base_uri": "https://localhost:8080/",
          "height": 376
        },
        "outputId": "898663bf-43ee-41d9-ca29-2e1359769007"
      },
      "source": [
        "import matplotlib.pyplot as plt\n",
        "\n",
        "data = {'uniform': macro['uniform'], 'stratified': macro['stratified'], 'most frequent': macro['most_frequent'],'Gnb': macro['gnb'],'knn': macro['knn'],'mlp':macro['mlp'],'svmlinear':macro['svmlinear'], 'svmpoly':macro['svmpoly'],'svmrbf':macro['svmrbf']}\n",
        "names = list(data.keys())\n",
        "values = list(data.values())\n",
        "\n",
        "#tick_label does the some work as plt.xticks()\n",
        "plt.bar(range(len(data)),values,tick_label=names)\n",
        "plt.savefig('bar.png')\n",
        "plt.title(\"f1 score for macro average\", fontsize = 18)\n",
        "plt.xlabel(\"$Classifiers$\", fontsize = 16)\n",
        "plt.ylabel(\"$f1\\ score$\", fontsize = 16)\n",
        "plt.xticks(rotation = 60, fontsize = 12)\n",
        "plt.show()\n"
      ],
      "execution_count": null,
      "outputs": [
        {
          "output_type": "display_data",
          "data": {
            "image/png": "[encoded data removed]",
            "text/plain": [
              "<Figure size 432x288 with 1 Axes>"
            ]
          },
          "metadata": {
            "tags": [],
            "needs_background": "light"
          }
        }
      ]
    },
    {
      "cell_type": "markdown",
      "metadata": {
        "id": "D1mvhVZ7V4C6"
      },
      "source": [
        "### *3. Σχολιάστε τα αποτελέσματα των plots και των τιμών precision, recall, f1 των πινάκων σύγχυσης.*"
      ]
    },
    {
      "cell_type": "code",
      "metadata": {
        "colab": {
          "base_uri": "https://localhost:8080/"
        },
        "id": "bvTByxoJy2w3",
        "outputId": "508d3f36-1edb-4599-cfbd-282597d2cab3"
      },
      "source": [
        "print(\"The balance of the test set is\",round(100*len(labels_test[labels_test=='g'])/len(labels_test),3),\"in favor of class 'g'.\")\n"
      ],
      "execution_count": null,
      "outputs": [
        {
          "output_type": "stream",
          "text": [
            "The balance of the test set is 64.651 in favor of class 'g'.\n"
          ],
          "name": "stdout"
        }
      ]
    },
    {
      "cell_type": "markdown",
      "metadata": {
        "id": "EIY29hXyy7e_"
      },
      "source": [
        "*  Μεταξύ των dummy ταξινομητών, η καλύτερη στρατηγική είναι να διαλέγουμε πάντοτε την πιο συχνή κλάση (frequent) μιας και το test set δεν είναι ισορροπημένο, όπως φαίνεται παραπάνω.\n",
        "*  Εαν δοκιμάσουμε πολλά runs, θα παρατηρήσουμε ότι η επιλογή stratified, δηλαδή να επιλέγουμε τυχαία κλάση διατηρώντας την κατανομή των κλάσεων στο training set, ενώ στη γενική περίπτωση δίνει καλύτερα αποτελέσματα από τη random επιλογή, στη προκειμένη, λόγω της ισορροπίας του train dataset, οι δύο μέθοδοι είναι ισοδύναμες.\n",
        "*  Ο k-NN ταξινομητής δίνει καλύτερο αποτέλεσμα από τους dummy classifiers, αφού βασίζεται σε έναν αλγόριθμο λογικής ανάλυσης των δεδομένων. Επιπλέον λόγω του εκτενούς μεγέθους του test dataset, το αποτέλεσμα του ταξινομητή είναι ικανοποιητικό.\n",
        "*  Ο Naive Bayes εμφανίζει επίσης βελτιωμένα αποτελέσματα συγκριτικά με τους dummy ταξινομητές, αλλά όχι καλύτερα από τον kNN. Αυτό οφείλεται στις \"αφελείς\" παραδοχές του συγκεκριμένου ταξινομήτη, όπως το ότι υποθέτει κανονική κατανομή των features και ανεξαρτησία μεταξύ τους.\n",
        "*  O MLP εμφανίζει την ψηλοτερη επίδοση από τους non-Dummy ταξινομητές. Ο συγκεκριμένος ταξινομητής λαμβάνει πληθώρα παραμέτρων, η βελτιστοποίηση των οποίων θα οδηγήσει σε πιο ικανοποιητικό αποτέλεσμα. Επομένως, λόγω της επιλογής απλοϊκού συνδυασμού παραμέτρων, το ποσοστό είναι καλο και παραμένει υψηλότερο από τους Dummy ταξινομητές.\n",
        "*  O SVM εμφανιζει για ολους τους πυρηνες του χαμηλοτερη αποδοση απο τον Mlp, αλλα οι πυρηνες rbf και poly εμφανιζουν υψηλοτερη αποδοση απο ολους τους υπολοιπους ταξινομητες και για micro και για macro. Τελος ο SVM για τον πυρηνα που ακολουθει αρχιτεκτονικη linear εμφανιζει την χαμηλοτερη αποδοση απο τους 3.(rbf,poly,linear ειναι η σειρα αποδοσης για τον SVM) \n",
        "\n",
        "\n",
        "  \n",
        "\n"
      ]
    },
    {
      "cell_type": "markdown",
      "metadata": {
        "id": "xnFV1SDTWTBj"
      },
      "source": [
        "# IV. Βελτιστοποιηση Ταξινομητων"
      ]
    },
    {
      "cell_type": "markdown",
      "metadata": {
        "id": "q9vhc-NNcwCT"
      },
      "source": [
        "### *1. Για κάθε ταξινομητή βελτιστοποιήστε την απόδοσή του στο training set μέσω της διαδικασίας προεπεξεργασίας και εύρεσης βέλτιστων υπερπαραμέτρων (δεν έχουν όλοι οι ταξινομητές υπερπαραμέτρους). Κάντε εκτίμηση στο test set (μαζί με τους dummy) και τυπώστε για κάθε estimator: confusion matrix, f1-micro average και f1-macro average.*\n"
      ]
    },
    {
      "cell_type": "markdown",
      "metadata": {
        "id": "s12zvMx7c9_8"
      },
      "source": [
        "-\n",
        "Σε αυτό το μέρος θα βελτιστοποιήσουμε τους ταξινομητές **knn**, **gaussian naive bayes** , **svc** και **mlp** που περιγράφηκαν παραπάνω. Αυτο θα το επιτύχουμε βρίσκοντας τα στάδια προεπεξεργασίας (με τη χρήση pipelines) και τις υπερπαραμέτρους (με τη χρήση grid-search) για τον καθένα ξεχωριστά ώστε να πετυχαίνουν όσο το δυνατόν υψηλότερη απόδοση."
      ]
    },
    {
      "cell_type": "code",
      "metadata": {
        "id": "Io15Vby8XUQX",
        "colab": {
          "base_uri": "https://localhost:8080/"
        },
        "outputId": "4a3b86df-ff7b-4e66-eb5f-aaebbe91fbd8"
      },
      "source": [
        "!pip install --upgrade imbalanced-learn"
      ],
      "execution_count": null,
      "outputs": [
        {
          "output_type": "stream",
          "text": [
            "Requirement already satisfied: imbalanced-learn in /usr/local/lib/python3.6/dist-packages (0.7.0)\n",
            "Requirement already satisfied: joblib>=0.11 in /usr/local/lib/python3.6/dist-packages (from imbalanced-learn) (0.17.0)\n",
            "Requirement already satisfied: numpy>=1.13.3 in /usr/local/lib/python3.6/dist-packages (from imbalanced-learn) (1.19.4)\n",
            "Requirement already satisfied: scikit-learn>=0.23 in /usr/local/lib/python3.6/dist-packages (from imbalanced-learn) (0.23.2)\n",
            "Requirement already satisfied: scipy>=0.19.1 in /usr/local/lib/python3.6/dist-packages (from imbalanced-learn) (1.5.4)\n",
            "Requirement already satisfied: joblib>=0.11 in /usr/local/lib/python3.6/dist-packages (from imbalanced-learn) (0.17.0)\n",
            "Requirement already satisfied: numpy>=1.13.3 in /usr/local/lib/python3.6/dist-packages (from imbalanced-learn) (1.19.4)\n",
            "Requirement already satisfied: threadpoolctl>=2.0.0 in /usr/local/lib/python3.6/dist-packages (from scikit-learn>=0.23->imbalanced-learn) (2.1.0)\n",
            "Requirement already satisfied: scipy>=0.19.1 in /usr/local/lib/python3.6/dist-packages (from imbalanced-learn) (1.5.4)\n",
            "Requirement already satisfied: numpy>=1.13.3 in /usr/local/lib/python3.6/dist-packages (from imbalanced-learn) (1.19.4)\n"
          ],
          "name": "stdout"
        }
      ]
    },
    {
      "cell_type": "code",
      "metadata": {
        "id": "OwFFLeclXbOJ"
      },
      "source": [
        "from imblearn.pipeline import Pipeline\n",
        "\n",
        "# φέρνουμε τις γνωστές μας κλάσεις για preprocessing\n",
        "from sklearn import neighbors\n",
        "from sklearn.feature_selection import VarianceThreshold\n",
        "from sklearn.preprocessing import StandardScaler # φέρνουμε τον StandarScaler ως transformer που έχει .transform kai ΄όχι ως scale()\n",
        "from imblearn.over_sampling import RandomOverSampler\n",
        "from sklearn.decomposition import PCA\n",
        "from sklearn.svm import LinearSVC\n",
        "\n",
        "\n",
        "# αρχικοποιούμε τους εκτιμητές (μετασχηματιστές και ταξινομητή) χωρίς παραμέτρους\n",
        "selector = VarianceThreshold()\n",
        "scaler = StandardScaler()\n",
        "ros = RandomOverSampler()\n",
        "pca = PCA()\n",
        "#KNN Classifier\n",
        "clf = neighbors.KNeighborsClassifier()\n",
        "#MLP Classifier\n",
        "mlp = MLPClassifier()\n",
        "#Gaussian NB Classifier\n",
        "gnb = GaussianNB()\n",
        "#SVC Classifier για πυρήνες poly και rbf \n",
        "svmpoly = SVC(class_weight='balanced',kernel='poly')\n",
        "svmrbf=SVC(class_weight='balanced', kernel='rbf')\n",
        "#SVC Classifier για linear πυρηνα \n",
        "svmlinear=LinearSVC(class_weight='balanced')\n",
        "\n",
        "\n",
        "\n",
        "#Αρχικοποιούμε ένα λεξικό με τα διάφορα pipes\n",
        "pipes = {}\n",
        "\n",
        "# KNN Clasifier\n",
        "#αρχικοποιούμε διάφορα pipelines όπου καθένα συμπεριφέρεται ως ένας ενιαίος estimator\n",
        "pipe1 = Pipeline(steps=[('selector', selector), ('scaler', scaler), ('sampler', ros), ('pca', pca), ('kNN', clf)])\n",
        "pipe2 = Pipeline(steps=[('selector', selector), ('scaler', scaler), ('pca', pca), ('kNN', clf)]) #without ros\n",
        "pipe2 = Pipeline(steps=[('selector', selector), ('kNN', clf)])\n",
        "pipe3 = Pipeline(steps=[('selector', selector), ('sampler', ros), ('kNN', clf)])\n",
        "pipe4 = Pipeline(steps=[('selector', selector), ('scaler', scaler), ('sampler', ros), ('kNN', clf)]) #without pca\n",
        "pipe5 = Pipeline(steps=[('scaler', scaler), ('sampler', ros), ('pca', pca), ('kNN', clf)]) #without selector\n",
        "pipe6 = Pipeline(steps=[('selector', selector), ('sampler', ros), ('pca', pca), ('kNN', clf)])\n",
        "pipe7 = Pipeline(steps=[('sampler', ros), ('pca', pca), ('kNN', clf)])\n",
        "pipe8 = Pipeline(steps=[('sampler', ros), ('kNN', clf)])\n",
        "pipe9 = Pipeline(steps=[('pca', pca), ('kNN', clf)])\n",
        "\n",
        "pipes['pipe1'] = pipe1\n",
        "pipes['pipe2'] = pipe2\n",
        "pipes['pipe3'] = pipe3\n",
        "pipes['pipe4'] = pipe4\n",
        "pipes['pipe5'] = pipe5\n",
        "pipes['pipe6'] = pipe6\n",
        "pipes['pipe7'] = pipe7\n",
        "pipes['pipe8'] = pipe8\n",
        "pipes['pipe9'] = pipe9"
      ],
      "execution_count": null,
      "outputs": []
    },
    {
      "cell_type": "code",
      "metadata": {
        "id": "qKaEBAJ4Xi1W",
        "colab": {
          "base_uri": "https://localhost:8080/"
        },
        "outputId": "b06dca21-8b0c-4a5d-a69d-037e60bdfcd7"
      },
      "source": [
        "#Εκπαιδεύουμε και εφαρμόζουμε το pipeline και παρατηρούμε τα αποτελέσματα\n",
        "for pipe_name, pipe in pipes.items():\n",
        "  pipe.fit(features_train, labels_train)\n",
        "  preds = pipe.predict(features_test)\n",
        "  print(pipe_name, \"\\n\", classification_report(labels_test, preds))"
      ],
      "execution_count": null,
      "outputs": [
        {
          "output_type": "stream",
          "text": [
            "pipe1 \n",
            "               precision    recall  f1-score   support\n",
            "\n",
            "           g       0.85      0.86      0.86      3689\n",
            "           h       0.74      0.73      0.74      2017\n",
            "\n",
            "    accuracy                           0.82      5706\n",
            "   macro avg       0.80      0.80      0.80      5706\n",
            "weighted avg       0.81      0.82      0.81      5706\n",
            "\n",
            "pipe2 \n",
            "               precision    recall  f1-score   support\n",
            "\n",
            "           g       0.83      0.83      0.83      3689\n",
            "           h       0.69      0.70      0.69      2017\n",
            "\n",
            "    accuracy                           0.78      5706\n",
            "   macro avg       0.76      0.76      0.76      5706\n",
            "weighted avg       0.78      0.78      0.78      5706\n",
            "\n",
            "pipe3 \n",
            "               precision    recall  f1-score   support\n",
            "\n",
            "           g       0.83      0.83      0.83      3689\n",
            "           h       0.69      0.70      0.69      2017\n",
            "\n",
            "    accuracy                           0.78      5706\n",
            "   macro avg       0.76      0.76      0.76      5706\n",
            "weighted avg       0.78      0.78      0.78      5706\n",
            "\n",
            "pipe4 \n",
            "               precision    recall  f1-score   support\n",
            "\n",
            "           g       0.85      0.86      0.86      3689\n",
            "           h       0.74      0.73      0.74      2017\n",
            "\n",
            "    accuracy                           0.82      5706\n",
            "   macro avg       0.80      0.80      0.80      5706\n",
            "weighted avg       0.81      0.82      0.81      5706\n",
            "\n",
            "pipe5 \n",
            "               precision    recall  f1-score   support\n",
            "\n",
            "           g       0.85      0.86      0.86      3689\n",
            "           h       0.74      0.73      0.74      2017\n",
            "\n",
            "    accuracy                           0.82      5706\n",
            "   macro avg       0.80      0.80      0.80      5706\n",
            "weighted avg       0.81      0.82      0.81      5706\n",
            "\n",
            "pipe6 \n",
            "               precision    recall  f1-score   support\n",
            "\n",
            "           g       0.83      0.83      0.83      3689\n",
            "           h       0.69      0.70      0.69      2017\n",
            "\n",
            "    accuracy                           0.78      5706\n",
            "   macro avg       0.76      0.76      0.76      5706\n",
            "weighted avg       0.78      0.78      0.78      5706\n",
            "\n",
            "pipe7 \n",
            "               precision    recall  f1-score   support\n",
            "\n",
            "           g       0.83      0.83      0.83      3689\n",
            "           h       0.69      0.70      0.69      2017\n",
            "\n",
            "    accuracy                           0.78      5706\n",
            "   macro avg       0.76      0.76      0.76      5706\n",
            "weighted avg       0.78      0.78      0.78      5706\n",
            "\n",
            "pipe8 \n",
            "               precision    recall  f1-score   support\n",
            "\n",
            "           g       0.83      0.83      0.83      3689\n",
            "           h       0.69      0.70      0.69      2017\n",
            "\n",
            "    accuracy                           0.78      5706\n",
            "   macro avg       0.76      0.76      0.76      5706\n",
            "weighted avg       0.78      0.78      0.78      5706\n",
            "\n",
            "pipe9 \n",
            "               precision    recall  f1-score   support\n",
            "\n",
            "           g       0.83      0.83      0.83      3689\n",
            "           h       0.69      0.70      0.69      2017\n",
            "\n",
            "    accuracy                           0.78      5706\n",
            "   macro avg       0.76      0.76      0.76      5706\n",
            "weighted avg       0.78      0.78      0.78      5706\n",
            "\n"
          ],
          "name": "stdout"
        }
      ]
    },
    {
      "cell_type": "code",
      "metadata": {
        "id": "QpzXF-g1Y8dR"
      },
      "source": [
        "# MLP Classifier\n",
        "#MLP Classifier\n",
        "mlp = MLPClassifier()\n",
        "# Αρχικοποιούμε ένα λεξικό με τα διάφορα pipes\n",
        "pipes = {}\n",
        "\n",
        "#αρχικοποιούμε διάφορα pipelines όπου καθένα συμπεριφέρεται ως ένας ενιαίος estimator\n",
        "pipe1 = Pipeline(steps=[('selector', selector), ('scaler', scaler), ('sampler', ros), ('pca', pca), ('mlp', mlp)])\n",
        "pipe2 = Pipeline(steps=[('selector', selector), ('scaler', scaler), ('pca', pca), ('mlp', mlp)]) #without ros\n",
        "pipe2 = Pipeline(steps=[('selector', selector), ('mlp', mlp)])\n",
        "pipe3 = Pipeline(steps=[('selector', selector), ('sampler', ros), ('mlp', mlp)])\n",
        "pipe4 = Pipeline(steps=[('selector', selector), ('scaler', scaler), ('sampler', ros), ('mlp', mlp)]) #without pca\n",
        "pipe5 = Pipeline(steps=[('scaler', scaler), ('sampler', ros), ('pca', pca), ('mlp', mlp)]) #without selector\n",
        "pipe6 = Pipeline(steps=[('selector', selector), ('sampler', ros), ('pca', pca), ('mlp', mlp)])\n",
        "pipe7 = Pipeline(steps=[('sampler', ros), ('pca', pca), ('mlp', mlp)])\n",
        "pipe8 = Pipeline(steps=[('sampler', ros), ('mlp', mlp)])\n",
        "pipe9 = Pipeline(steps=[('pca', pca), ('mlp', mlp)])\n",
        "\n",
        "pipes['pipe1'] = pipe1\n",
        "pipes['pipe2'] = pipe2\n",
        "pipes['pipe3'] = pipe3\n",
        "pipes['pipe4'] = pipe4\n",
        "pipes['pipe5'] = pipe5\n",
        "pipes['pipe6'] = pipe6\n",
        "pipes['pipe7'] = pipe7\n",
        "pipes['pipe8'] = pipe8\n",
        "pipes['pipe9'] = pipe9"
      ],
      "execution_count": null,
      "outputs": []
    },
    {
      "cell_type": "code",
      "metadata": {
        "id": "WFnIM8amZBSk",
        "colab": {
          "base_uri": "https://localhost:8080/"
        },
        "outputId": "43739163-2c6c-4c97-b5a1-70d728026b5e"
      },
      "source": [
        "#Εκπαιδεύουμε και εφαρμόζουμε το pipeline και παρατηρούμε τα αποτελέσματα\n",
        "for pipe_name, pipe in pipes.items():\n",
        "  pipe.fit(features_train, labels_train)\n",
        "  preds = pipe.predict(features_test)\n",
        "  print(pipe_name, \"\\n\", classification_report(labels_test, preds))"
      ],
      "execution_count": null,
      "outputs": [
        {
          "output_type": "stream",
          "text": [
            "/usr/local/lib/python3.6/dist-packages/sklearn/neural_network/_multilayer_perceptron.py:585: ConvergenceWarning: Stochastic Optimizer: Maximum iterations (200) reached and the optimization hasn't converged yet.\n",
            "  % self.max_iter, ConvergenceWarning)\n"
          ],
          "name": "stderr"
        },
        {
          "output_type": "stream",
          "text": [
            "pipe1 \n",
            "               precision    recall  f1-score   support\n",
            "\n",
            "           g       0.90      0.90      0.90      3689\n",
            "           h       0.82      0.82      0.82      2017\n",
            "\n",
            "    accuracy                           0.87      5706\n",
            "   macro avg       0.86      0.86      0.86      5706\n",
            "weighted avg       0.87      0.87      0.87      5706\n",
            "\n",
            "pipe2 \n",
            "               precision    recall  f1-score   support\n",
            "\n",
            "           g       0.82      0.96      0.88      3689\n",
            "           h       0.88      0.61      0.72      2017\n",
            "\n",
            "    accuracy                           0.83      5706\n",
            "   macro avg       0.85      0.78      0.80      5706\n",
            "weighted avg       0.84      0.83      0.83      5706\n",
            "\n"
          ],
          "name": "stdout"
        },
        {
          "output_type": "stream",
          "text": [
            "/usr/local/lib/python3.6/dist-packages/sklearn/neural_network/_multilayer_perceptron.py:585: ConvergenceWarning: Stochastic Optimizer: Maximum iterations (200) reached and the optimization hasn't converged yet.\n",
            "  % self.max_iter, ConvergenceWarning)\n"
          ],
          "name": "stderr"
        },
        {
          "output_type": "stream",
          "text": [
            "pipe3 \n",
            "               precision    recall  f1-score   support\n",
            "\n",
            "           g       0.86      0.91      0.89      3689\n",
            "           h       0.82      0.74      0.78      2017\n",
            "\n",
            "    accuracy                           0.85      5706\n",
            "   macro avg       0.84      0.82      0.83      5706\n",
            "weighted avg       0.85      0.85      0.85      5706\n",
            "\n"
          ],
          "name": "stdout"
        },
        {
          "output_type": "stream",
          "text": [
            "/usr/local/lib/python3.6/dist-packages/sklearn/neural_network/_multilayer_perceptron.py:585: ConvergenceWarning: Stochastic Optimizer: Maximum iterations (200) reached and the optimization hasn't converged yet.\n",
            "  % self.max_iter, ConvergenceWarning)\n"
          ],
          "name": "stderr"
        },
        {
          "output_type": "stream",
          "text": [
            "pipe4 \n",
            "               precision    recall  f1-score   support\n",
            "\n",
            "           g       0.89      0.92      0.90      3689\n",
            "           h       0.84      0.79      0.81      2017\n",
            "\n",
            "    accuracy                           0.87      5706\n",
            "   macro avg       0.86      0.85      0.86      5706\n",
            "weighted avg       0.87      0.87      0.87      5706\n",
            "\n"
          ],
          "name": "stdout"
        },
        {
          "output_type": "stream",
          "text": [
            "/usr/local/lib/python3.6/dist-packages/sklearn/neural_network/_multilayer_perceptron.py:585: ConvergenceWarning: Stochastic Optimizer: Maximum iterations (200) reached and the optimization hasn't converged yet.\n",
            "  % self.max_iter, ConvergenceWarning)\n"
          ],
          "name": "stderr"
        },
        {
          "output_type": "stream",
          "text": [
            "pipe5 \n",
            "               precision    recall  f1-score   support\n",
            "\n",
            "           g       0.90      0.89      0.90      3689\n",
            "           h       0.80      0.83      0.81      2017\n",
            "\n",
            "    accuracy                           0.87      5706\n",
            "   macro avg       0.85      0.86      0.86      5706\n",
            "weighted avg       0.87      0.87      0.87      5706\n",
            "\n",
            "pipe6 \n",
            "               precision    recall  f1-score   support\n",
            "\n",
            "           g       0.87      0.92      0.89      3689\n",
            "           h       0.84      0.75      0.79      2017\n",
            "\n",
            "    accuracy                           0.86      5706\n",
            "   macro avg       0.85      0.83      0.84      5706\n",
            "weighted avg       0.86      0.86      0.86      5706\n",
            "\n",
            "pipe7 \n",
            "               precision    recall  f1-score   support\n",
            "\n",
            "           g       0.87      0.91      0.89      3689\n",
            "           h       0.82      0.74      0.78      2017\n",
            "\n",
            "    accuracy                           0.85      5706\n",
            "   macro avg       0.84      0.83      0.83      5706\n",
            "weighted avg       0.85      0.85      0.85      5706\n",
            "\n",
            "pipe8 \n",
            "               precision    recall  f1-score   support\n",
            "\n",
            "           g       0.90      0.78      0.83      3689\n",
            "           h       0.67      0.84      0.75      2017\n",
            "\n",
            "    accuracy                           0.80      5706\n",
            "   macro avg       0.79      0.81      0.79      5706\n",
            "weighted avg       0.82      0.80      0.80      5706\n",
            "\n",
            "pipe9 \n",
            "               precision    recall  f1-score   support\n",
            "\n",
            "           g       0.87      0.90      0.89      3689\n",
            "           h       0.81      0.76      0.79      2017\n",
            "\n",
            "    accuracy                           0.85      5706\n",
            "   macro avg       0.84      0.83      0.84      5706\n",
            "weighted avg       0.85      0.85      0.85      5706\n",
            "\n"
          ],
          "name": "stdout"
        }
      ]
    },
    {
      "cell_type": "code",
      "metadata": {
        "id": "INp70KTad8QV"
      },
      "source": [
        "# GNB Classifier\n",
        "# Αρχικοποιούμε ένα λεξικό με τα διάφορα pipes\n",
        "pipes = {}\n",
        "\n",
        "#αρχικοποιούμε διάφορα pipelines όπου καθένα συμπεριφέρεται ως ένας ενιαίος estimator\n",
        "pipe1 = Pipeline(steps=[('selector', selector), ('scaler', scaler), ('sampler', ros), ('pca', pca), ('gnb', gnb)])\n",
        "pipe2 = Pipeline(steps=[('selector', selector), ('scaler', scaler), ('pca', pca), ('gnb', gnb)]) #without ros\n",
        "pipe2 = Pipeline(steps=[('selector', selector), ('gnb', gnb)])\n",
        "pipe3 = Pipeline(steps=[('selector', selector), ('sampler', ros), ('gnb', gnb)])\n",
        "pipe4 = Pipeline(steps=[('selector', selector), ('scaler', scaler), ('sampler', ros), ('gnb', gnb)]) #without pca\n",
        "pipe5 = Pipeline(steps=[('scaler', scaler), ('sampler', ros), ('pca', pca), ('gnb', gnb)]) #without selector\n",
        "pipe6 = Pipeline(steps=[('selector', selector), ('sampler', ros), ('pca', pca), ('gnb', gnb)])\n",
        "pipe7 = Pipeline(steps=[('sampler', ros), ('pca', pca), ('gnb', gnb)])\n",
        "pipe8 = Pipeline(steps=[('sampler', ros), ('gnb', gnb)])\n",
        "pipe9 = Pipeline(steps=[('pca', pca), ('gnb', gnb)])\n",
        "\n",
        "pipes['pipe1'] = pipe1\n",
        "pipes['pipe2'] = pipe2\n",
        "pipes['pipe3'] = pipe3\n",
        "pipes['pipe4'] = pipe4\n",
        "pipes['pipe5'] = pipe5\n",
        "pipes['pipe6'] = pipe6\n",
        "pipes['pipe7'] = pipe7\n",
        "pipes['pipe8'] = pipe8\n",
        "pipes['pipe9'] = pipe9"
      ],
      "execution_count": null,
      "outputs": []
    },
    {
      "cell_type": "code",
      "metadata": {
        "id": "1g2s7Cy1eI7M",
        "colab": {
          "base_uri": "https://localhost:8080/"
        },
        "outputId": "1c0f4f3d-46a0-4ff7-8515-a0a0d2a00f54"
      },
      "source": [
        "#Εκπαιδεύουμε και εφαρμόζουμε το pipeline και παρατηρούμε τα αποτελέσματα\n",
        "for pipe_name, pipe in pipes.items():\n",
        "  pipe.fit(features_train, labels_train)\n",
        "  preds = pipe.predict(features_test)\n",
        "  print(pipe_name, \"\\n\", classification_report(labels_test, preds))"
      ],
      "execution_count": null,
      "outputs": [
        {
          "output_type": "stream",
          "text": [
            "pipe1 \n",
            "               precision    recall  f1-score   support\n",
            "\n",
            "           g       0.77      0.86      0.81      3689\n",
            "           h       0.67      0.53      0.59      2017\n",
            "\n",
            "    accuracy                           0.74      5706\n",
            "   macro avg       0.72      0.69      0.70      5706\n",
            "weighted avg       0.74      0.74      0.73      5706\n",
            "\n",
            "pipe2 \n",
            "               precision    recall  f1-score   support\n",
            "\n",
            "           g       0.73      0.90      0.81      3689\n",
            "           h       0.68      0.40      0.50      2017\n",
            "\n",
            "    accuracy                           0.72      5706\n",
            "   macro avg       0.71      0.65      0.66      5706\n",
            "weighted avg       0.71      0.72      0.70      5706\n",
            "\n",
            "pipe3 \n",
            "               precision    recall  f1-score   support\n",
            "\n",
            "           g       0.73      0.90      0.81      3689\n",
            "           h       0.68      0.40      0.50      2017\n",
            "\n",
            "    accuracy                           0.72      5706\n",
            "   macro avg       0.71      0.65      0.66      5706\n",
            "weighted avg       0.71      0.72      0.70      5706\n",
            "\n",
            "pipe4 \n",
            "               precision    recall  f1-score   support\n",
            "\n",
            "           g       0.73      0.90      0.81      3689\n",
            "           h       0.68      0.40      0.50      2017\n",
            "\n",
            "    accuracy                           0.72      5706\n",
            "   macro avg       0.71      0.65      0.66      5706\n",
            "weighted avg       0.71      0.72      0.70      5706\n",
            "\n",
            "pipe5 \n",
            "               precision    recall  f1-score   support\n",
            "\n",
            "           g       0.77      0.86      0.81      3689\n",
            "           h       0.67      0.53      0.59      2017\n",
            "\n",
            "    accuracy                           0.74      5706\n",
            "   macro avg       0.72      0.69      0.70      5706\n",
            "weighted avg       0.74      0.74      0.73      5706\n",
            "\n",
            "pipe6 \n",
            "               precision    recall  f1-score   support\n",
            "\n",
            "           g       0.76      0.88      0.82      3689\n",
            "           h       0.69      0.50      0.58      2017\n",
            "\n",
            "    accuracy                           0.74      5706\n",
            "   macro avg       0.73      0.69      0.70      5706\n",
            "weighted avg       0.74      0.74      0.73      5706\n",
            "\n",
            "pipe7 \n",
            "               precision    recall  f1-score   support\n",
            "\n",
            "           g       0.76      0.88      0.82      3689\n",
            "           h       0.69      0.50      0.58      2017\n",
            "\n",
            "    accuracy                           0.74      5706\n",
            "   macro avg       0.73      0.69      0.70      5706\n",
            "weighted avg       0.74      0.74      0.73      5706\n",
            "\n",
            "pipe8 \n",
            "               precision    recall  f1-score   support\n",
            "\n",
            "           g       0.73      0.90      0.81      3689\n",
            "           h       0.68      0.40      0.50      2017\n",
            "\n",
            "    accuracy                           0.72      5706\n",
            "   macro avg       0.71      0.65      0.66      5706\n",
            "weighted avg       0.71      0.72      0.70      5706\n",
            "\n",
            "pipe9 \n",
            "               precision    recall  f1-score   support\n",
            "\n",
            "           g       0.76      0.88      0.82      3689\n",
            "           h       0.69      0.50      0.58      2017\n",
            "\n",
            "    accuracy                           0.74      5706\n",
            "   macro avg       0.73      0.69      0.70      5706\n",
            "weighted avg       0.74      0.74      0.73      5706\n",
            "\n"
          ],
          "name": "stdout"
        }
      ]
    },
    {
      "cell_type": "code",
      "metadata": {
        "id": "ylTcI_Pked74"
      },
      "source": [
        "# SVM Classifier για πυρηνα poly\n",
        "# Αρχικοποιούμε ένα λεξικό με τα διάφορα pipes\n",
        "svmpoly = SVC(class_weight='balanced',kernel='poly')\n",
        "pipes = {}\n",
        "\n",
        "#αρχικοποιούμε διάφορα pipelines όπου καθένα συμπεριφέρεται ως ένας ενιαίος estimator\n",
        "pipe1 = Pipeline(steps=[('selector', selector), ('scaler', scaler), ('sampler', ros), ('pca', pca), ('svmpoly', svmpoly)])\n",
        "pipe2 = Pipeline(steps=[('selector', selector), ('scaler', scaler), ('pca', pca), ('svmpoly', svmpoly)]) #without ros\n",
        "pipe2 = Pipeline(steps=[('selector', selector), ('svmpoly', svmpoly)])\n",
        "pipe3 = Pipeline(steps=[('selector', selector), ('sampler', ros), ('svmpoly', svmpoly)])\n",
        "pipe4 = Pipeline(steps=[('selector', selector), ('scaler', scaler), ('sampler', ros), ('svmpoly', svmpoly)]) #without pca\n",
        "pipe5 = Pipeline(steps=[('scaler', scaler), ('sampler', ros), ('pca', pca), ('svmpoly', svmpoly)]) #without selector\n",
        "pipe6 = Pipeline(steps=[('selector', selector), ('sampler', ros), ('pca', pca), ('svmpoly', svmpoly)])\n",
        "pipe7 = Pipeline(steps=[('sampler', ros), ('pca', pca), ('svmpoly', svmpoly)])\n",
        "pipe8 = Pipeline(steps=[('sampler', ros), ('svmpoly', svmpoly)])\n",
        "pipe9 = Pipeline(steps=[('pca', pca), ('svmpoly', svmpoly)])\n",
        "\n",
        "pipes['pipe1'] = pipe1\n",
        "pipes['pipe2'] = pipe2\n",
        "pipes['pipe3'] = pipe3\n",
        "pipes['pipe4'] = pipe4\n",
        "pipes['pipe5'] = pipe5\n",
        "pipes['pipe6'] = pipe6\n",
        "pipes['pipe7'] = pipe7\n",
        "pipes['pipe8'] = pipe8\n",
        "pipes['pipe9'] = pipe9"
      ],
      "execution_count": null,
      "outputs": []
    },
    {
      "cell_type": "code",
      "metadata": {
        "id": "GR-zB0Vag0SU",
        "colab": {
          "base_uri": "https://localhost:8080/"
        },
        "outputId": "0497c038-3d46-49a1-9b59-99ef9afcea5b"
      },
      "source": [
        "#Εκπαιδεύουμε και εφαρμόζουμε το pipeline και παρατηρούμε τα αποτελέσματα\n",
        "for pipe_name, pipe in pipes.items():\n",
        "  pipe.fit(features_train, labels_train)\n",
        "  preds = pipe.predict(features_test)\n",
        "  print(pipe_name, \"\\n\", classification_report(labels_test, preds))"
      ],
      "execution_count": null,
      "outputs": [
        {
          "output_type": "stream",
          "text": [
            "pipe1 \n",
            "               precision    recall  f1-score   support\n",
            "\n",
            "           g       0.85      0.89      0.87      3689\n",
            "           h       0.78      0.72      0.75      2017\n",
            "\n",
            "    accuracy                           0.83      5706\n",
            "   macro avg       0.82      0.81      0.81      5706\n",
            "weighted avg       0.83      0.83      0.83      5706\n",
            "\n",
            "pipe2 \n",
            "               precision    recall  f1-score   support\n",
            "\n",
            "           g       0.83      0.90      0.86      3689\n",
            "           h       0.78      0.66      0.72      2017\n",
            "\n",
            "    accuracy                           0.81      5706\n",
            "   macro avg       0.80      0.78      0.79      5706\n",
            "weighted avg       0.81      0.81      0.81      5706\n",
            "\n",
            "pipe3 \n",
            "               precision    recall  f1-score   support\n",
            "\n",
            "           g       0.83      0.90      0.86      3689\n",
            "           h       0.78      0.66      0.72      2017\n",
            "\n",
            "    accuracy                           0.81      5706\n",
            "   macro avg       0.80      0.78      0.79      5706\n",
            "weighted avg       0.81      0.81      0.81      5706\n",
            "\n",
            "pipe4 \n",
            "               precision    recall  f1-score   support\n",
            "\n",
            "           g       0.85      0.89      0.87      3689\n",
            "           h       0.78      0.72      0.75      2017\n",
            "\n",
            "    accuracy                           0.83      5706\n",
            "   macro avg       0.82      0.81      0.81      5706\n",
            "weighted avg       0.83      0.83      0.83      5706\n",
            "\n",
            "pipe5 \n",
            "               precision    recall  f1-score   support\n",
            "\n",
            "           g       0.85      0.89      0.87      3689\n",
            "           h       0.78      0.72      0.75      2017\n",
            "\n",
            "    accuracy                           0.83      5706\n",
            "   macro avg       0.82      0.81      0.81      5706\n",
            "weighted avg       0.83      0.83      0.83      5706\n",
            "\n",
            "pipe6 \n",
            "               precision    recall  f1-score   support\n",
            "\n",
            "           g       0.79      0.91      0.85      3689\n",
            "           h       0.77      0.57      0.65      2017\n",
            "\n",
            "    accuracy                           0.79      5706\n",
            "   macro avg       0.78      0.74      0.75      5706\n",
            "weighted avg       0.78      0.79      0.78      5706\n",
            "\n",
            "pipe7 \n",
            "               precision    recall  f1-score   support\n",
            "\n",
            "           g       0.79      0.91      0.85      3689\n",
            "           h       0.77      0.57      0.65      2017\n",
            "\n",
            "    accuracy                           0.79      5706\n",
            "   macro avg       0.78      0.74      0.75      5706\n",
            "weighted avg       0.78      0.79      0.78      5706\n",
            "\n",
            "pipe8 \n",
            "               precision    recall  f1-score   support\n",
            "\n",
            "           g       0.83      0.90      0.86      3689\n",
            "           h       0.78      0.66      0.72      2017\n",
            "\n",
            "    accuracy                           0.81      5706\n",
            "   macro avg       0.80      0.78      0.79      5706\n",
            "weighted avg       0.81      0.81      0.81      5706\n",
            "\n",
            "pipe9 \n",
            "               precision    recall  f1-score   support\n",
            "\n",
            "           g       0.79      0.91      0.85      3689\n",
            "           h       0.77      0.57      0.65      2017\n",
            "\n",
            "    accuracy                           0.79      5706\n",
            "   macro avg       0.78      0.74      0.75      5706\n",
            "weighted avg       0.78      0.79      0.78      5706\n",
            "\n"
          ],
          "name": "stdout"
        }
      ]
    },
    {
      "cell_type": "code",
      "metadata": {
        "id": "UlwcUvftRSTe"
      },
      "source": [
        "# SVM Classifier για πυρηνα rbf\n",
        "# Αρχικοποιούμε ένα λεξικό με τα διάφορα pipes\n",
        "svmrbf=SVC(class_weight='balanced', kernel='rbf')\n",
        "pipes = {}\n",
        "\n",
        "#αρχικοποιούμε διάφορα pipelines όπου καθένα συμπεριφέρεται ως ένας ενιαίος estimator\n",
        "pipe1 = Pipeline(steps=[('selector', selector), ('scaler', scaler), ('sampler', ros), ('pca', pca), ('svmrbf', svmrbf)])\n",
        "pipe2 = Pipeline(steps=[('selector', selector), ('scaler', scaler), ('pca', pca), ('svmrbf', svmrbf)]) #without ros\n",
        "pipe2 = Pipeline(steps=[('selector', selector), ('svmrbf', svmrbf)])\n",
        "pipe3 = Pipeline(steps=[('selector', selector), ('sampler', ros), ('svmrbf', svmrbf)])\n",
        "pipe4 = Pipeline(steps=[('selector', selector), ('scaler', scaler), ('sampler', ros), ('svmrbf', svmrbf)]) #without pca\n",
        "pipe5 = Pipeline(steps=[('scaler', scaler), ('sampler', ros), ('pca', pca), ('svmrbf', svmrbf)]) #without selector\n",
        "pipe6 = Pipeline(steps=[('selector', selector), ('sampler', ros), ('pca', pca), ('svmrbf', svmrbf)])\n",
        "pipe7 = Pipeline(steps=[('sampler', ros), ('pca', pca), ('svmrbf', svmrbf)])\n",
        "pipe8 = Pipeline(steps=[('sampler', ros), ('svmrbf', svmrbf)])\n",
        "pipe9 = Pipeline(steps=[('pca', pca), ('svmrbf', svmrbf)])\n",
        "\n",
        "pipes['pipe1'] = pipe1\n",
        "pipes['pipe2'] = pipe2\n",
        "pipes['pipe3'] = pipe3\n",
        "pipes['pipe4'] = pipe4\n",
        "pipes['pipe5'] = pipe5\n",
        "pipes['pipe6'] = pipe6\n",
        "pipes['pipe7'] = pipe7\n",
        "pipes['pipe8'] = pipe8\n",
        "pipes['pipe9'] = pipe9"
      ],
      "execution_count": null,
      "outputs": []
    },
    {
      "cell_type": "code",
      "metadata": {
        "colab": {
          "base_uri": "https://localhost:8080/"
        },
        "id": "nGQKIDvPTOul",
        "outputId": "5530b6a6-339c-46fe-f960-57f93752f47a"
      },
      "source": [
        "#Εκπαιδεύουμε και εφαρμόζουμε το pipeline και παρατηρούμε τα αποτελέσματα\n",
        "for pipe_name, pipe in pipes.items():\n",
        "  pipe.fit(features_train, labels_train)\n",
        "  preds = pipe.predict(features_test)\n",
        "  print(pipe_name, \"\\n\", classification_report(labels_test, preds))"
      ],
      "execution_count": null,
      "outputs": [
        {
          "output_type": "stream",
          "text": [
            "pipe1 \n",
            "               precision    recall  f1-score   support\n",
            "\n",
            "           g       0.89      0.90      0.90      3689\n",
            "           h       0.82      0.80      0.81      2017\n",
            "\n",
            "    accuracy                           0.87      5706\n",
            "   macro avg       0.86      0.85      0.85      5706\n",
            "weighted avg       0.87      0.87      0.87      5706\n",
            "\n",
            "pipe2 \n",
            "               precision    recall  f1-score   support\n",
            "\n",
            "           g       0.85      0.87      0.86      3689\n",
            "           h       0.76      0.72      0.74      2017\n",
            "\n",
            "    accuracy                           0.82      5706\n",
            "   macro avg       0.80      0.80      0.80      5706\n",
            "weighted avg       0.82      0.82      0.82      5706\n",
            "\n",
            "pipe3 \n",
            "               precision    recall  f1-score   support\n",
            "\n",
            "           g       0.85      0.87      0.86      3689\n",
            "           h       0.76      0.72      0.74      2017\n",
            "\n",
            "    accuracy                           0.82      5706\n",
            "   macro avg       0.80      0.80      0.80      5706\n",
            "weighted avg       0.82      0.82      0.82      5706\n",
            "\n",
            "pipe4 \n",
            "               precision    recall  f1-score   support\n",
            "\n",
            "           g       0.89      0.90      0.90      3689\n",
            "           h       0.82      0.80      0.81      2017\n",
            "\n",
            "    accuracy                           0.87      5706\n",
            "   macro avg       0.86      0.85      0.85      5706\n",
            "weighted avg       0.87      0.87      0.87      5706\n",
            "\n",
            "pipe5 \n",
            "               precision    recall  f1-score   support\n",
            "\n",
            "           g       0.89      0.90      0.90      3689\n",
            "           h       0.82      0.80      0.81      2017\n",
            "\n",
            "    accuracy                           0.87      5706\n",
            "   macro avg       0.86      0.85      0.85      5706\n",
            "weighted avg       0.87      0.87      0.87      5706\n",
            "\n",
            "pipe6 \n",
            "               precision    recall  f1-score   support\n",
            "\n",
            "           g       0.86      0.87      0.86      3689\n",
            "           h       0.75      0.74      0.74      2017\n",
            "\n",
            "    accuracy                           0.82      5706\n",
            "   macro avg       0.80      0.80      0.80      5706\n",
            "weighted avg       0.82      0.82      0.82      5706\n",
            "\n",
            "pipe7 \n",
            "               precision    recall  f1-score   support\n",
            "\n",
            "           g       0.86      0.87      0.86      3689\n",
            "           h       0.75      0.74      0.74      2017\n",
            "\n",
            "    accuracy                           0.82      5706\n",
            "   macro avg       0.80      0.80      0.80      5706\n",
            "weighted avg       0.82      0.82      0.82      5706\n",
            "\n",
            "pipe8 \n",
            "               precision    recall  f1-score   support\n",
            "\n",
            "           g       0.85      0.87      0.86      3689\n",
            "           h       0.76      0.72      0.74      2017\n",
            "\n",
            "    accuracy                           0.82      5706\n",
            "   macro avg       0.80      0.80      0.80      5706\n",
            "weighted avg       0.82      0.82      0.82      5706\n",
            "\n",
            "pipe9 \n",
            "               precision    recall  f1-score   support\n",
            "\n",
            "           g       0.86      0.87      0.86      3689\n",
            "           h       0.75      0.74      0.74      2017\n",
            "\n",
            "    accuracy                           0.82      5706\n",
            "   macro avg       0.80      0.80      0.80      5706\n",
            "weighted avg       0.82      0.82      0.82      5706\n",
            "\n"
          ],
          "name": "stdout"
        }
      ]
    },
    {
      "cell_type": "code",
      "metadata": {
        "id": "yDK5zmS5T5Ig"
      },
      "source": [
        "# SVM Classifier για πυρηνα linear\n",
        "# Αρχικοποιούμε ένα λεξικό με τα διάφορα pipes\n",
        "svmlinear=LinearSVC(class_weight='balanced', max_iter=20000)\n",
        "pipes = {}\n",
        "\n",
        "#αρχικοποιούμε διάφορα pipelines όπου καθένα συμπεριφέρεται ως ένας ενιαίος estimator\n",
        "pipe1 = Pipeline(steps=[('selector', selector), ('scaler', scaler), ('sampler', ros), ('pca', pca), ('svmlinear', svmlinear)])\n",
        "pipe2 = Pipeline(steps=[('selector', selector), ('scaler', scaler), ('pca', pca), ('svmlinear', svmlinear)]) #without ros\n",
        "pipe2 = Pipeline(steps=[('selector', selector), ('svmlinear', svmlinear)])\n",
        "pipe3 = Pipeline(steps=[('selector', selector), ('sampler', ros), ('svmlinear', svmlinear)])\n",
        "pipe4 = Pipeline(steps=[('selector', selector), ('scaler', scaler), ('sampler', ros), ('svmlinear', svmlinear)]) #without pca\n",
        "pipe5 = Pipeline(steps=[('scaler', scaler), ('sampler', ros), ('pca', pca), ('svmlinear', svmlinear)]) #without selector\n",
        "pipe6 = Pipeline(steps=[('selector', selector), ('sampler', ros), ('pca', pca), ('svmlinear', svmlinear)])\n",
        "pipe7 = Pipeline(steps=[('sampler', ros), ('pca', pca), ('svmlinear', svmlinear)])\n",
        "pipe8 = Pipeline(steps=[('sampler', ros), ('svmlinear', svmlinear)])\n",
        "pipe9 = Pipeline(steps=[('pca', pca), ('svmlinear', svmlinear)])\n",
        "\n",
        "pipes['pipe1'] = pipe1\n",
        "pipes['pipe2'] = pipe2\n",
        "pipes['pipe3'] = pipe3\n",
        "pipes['pipe4'] = pipe4\n",
        "pipes['pipe5'] = pipe5\n",
        "pipes['pipe6'] = pipe6\n",
        "pipes['pipe7'] = pipe7\n",
        "pipes['pipe8'] = pipe8\n",
        "pipes['pipe9'] = pipe9"
      ],
      "execution_count": null,
      "outputs": []
    },
    {
      "cell_type": "code",
      "metadata": {
        "colab": {
          "base_uri": "https://localhost:8080/"
        },
        "id": "9_2h84ZRUnER",
        "outputId": "a63d9f75-594b-45d7-e7d8-4eb59c222657"
      },
      "source": [
        "#Εκπαιδεύουμε και εφαρμόζουμε το pipeline και παρατηρούμε τα αποτελέσματα\n",
        "for pipe_name, pipe in pipes.items():\n",
        "  pipe.fit(features_train, labels_train)\n",
        "  preds = pipe.predict(features_test)\n",
        "  print(pipe_name, \"\\n\", classification_report(labels_test, preds))"
      ],
      "execution_count": null,
      "outputs": [
        {
          "output_type": "stream",
          "text": [
            "pipe1 \n",
            "               precision    recall  f1-score   support\n",
            "\n",
            "           g       0.84      0.84      0.84      3689\n",
            "           h       0.70      0.71      0.71      2017\n",
            "\n",
            "    accuracy                           0.79      5706\n",
            "   macro avg       0.77      0.78      0.77      5706\n",
            "weighted avg       0.79      0.79      0.79      5706\n",
            "\n"
          ],
          "name": "stdout"
        },
        {
          "output_type": "stream",
          "text": [
            "/usr/local/lib/python3.6/dist-packages/sklearn/svm/_base.py:977: ConvergenceWarning: Liblinear failed to converge, increase the number of iterations.\n",
            "  \"the number of iterations.\", ConvergenceWarning)\n"
          ],
          "name": "stderr"
        },
        {
          "output_type": "stream",
          "text": [
            "pipe2 \n",
            "               precision    recall  f1-score   support\n",
            "\n",
            "           g       0.79      0.87      0.83      3689\n",
            "           h       0.70      0.57      0.63      2017\n",
            "\n",
            "    accuracy                           0.76      5706\n",
            "   macro avg       0.75      0.72      0.73      5706\n",
            "weighted avg       0.76      0.76      0.76      5706\n",
            "\n"
          ],
          "name": "stdout"
        },
        {
          "output_type": "stream",
          "text": [
            "/usr/local/lib/python3.6/dist-packages/sklearn/svm/_base.py:977: ConvergenceWarning: Liblinear failed to converge, increase the number of iterations.\n",
            "  \"the number of iterations.\", ConvergenceWarning)\n"
          ],
          "name": "stderr"
        },
        {
          "output_type": "stream",
          "text": [
            "pipe3 \n",
            "               precision    recall  f1-score   support\n",
            "\n",
            "           g       0.83      0.76      0.79      3689\n",
            "           h       0.61      0.71      0.66      2017\n",
            "\n",
            "    accuracy                           0.74      5706\n",
            "   macro avg       0.72      0.73      0.72      5706\n",
            "weighted avg       0.75      0.74      0.74      5706\n",
            "\n",
            "pipe4 \n",
            "               precision    recall  f1-score   support\n",
            "\n",
            "           g       0.84      0.84      0.84      3689\n",
            "           h       0.70      0.71      0.71      2017\n",
            "\n",
            "    accuracy                           0.79      5706\n",
            "   macro avg       0.77      0.78      0.77      5706\n",
            "weighted avg       0.79      0.79      0.79      5706\n",
            "\n",
            "pipe5 \n",
            "               precision    recall  f1-score   support\n",
            "\n",
            "           g       0.84      0.84      0.84      3689\n",
            "           h       0.70      0.71      0.71      2017\n",
            "\n",
            "    accuracy                           0.79      5706\n",
            "   macro avg       0.77      0.78      0.77      5706\n",
            "weighted avg       0.79      0.79      0.79      5706\n",
            "\n"
          ],
          "name": "stdout"
        },
        {
          "output_type": "stream",
          "text": [
            "/usr/local/lib/python3.6/dist-packages/sklearn/svm/_base.py:977: ConvergenceWarning: Liblinear failed to converge, increase the number of iterations.\n",
            "  \"the number of iterations.\", ConvergenceWarning)\n"
          ],
          "name": "stderr"
        },
        {
          "output_type": "stream",
          "text": [
            "pipe6 \n",
            "               precision    recall  f1-score   support\n",
            "\n",
            "           g       0.83      0.78      0.80      3689\n",
            "           h       0.64      0.71      0.67      2017\n",
            "\n",
            "    accuracy                           0.75      5706\n",
            "   macro avg       0.73      0.74      0.74      5706\n",
            "weighted avg       0.76      0.75      0.76      5706\n",
            "\n"
          ],
          "name": "stdout"
        },
        {
          "output_type": "stream",
          "text": [
            "/usr/local/lib/python3.6/dist-packages/sklearn/svm/_base.py:977: ConvergenceWarning: Liblinear failed to converge, increase the number of iterations.\n",
            "  \"the number of iterations.\", ConvergenceWarning)\n"
          ],
          "name": "stderr"
        },
        {
          "output_type": "stream",
          "text": [
            "pipe7 \n",
            "               precision    recall  f1-score   support\n",
            "\n",
            "           g       0.83      0.77      0.80      3689\n",
            "           h       0.63      0.71      0.67      2017\n",
            "\n",
            "    accuracy                           0.75      5706\n",
            "   macro avg       0.73      0.74      0.73      5706\n",
            "weighted avg       0.76      0.75      0.75      5706\n",
            "\n"
          ],
          "name": "stdout"
        },
        {
          "output_type": "stream",
          "text": [
            "/usr/local/lib/python3.6/dist-packages/sklearn/svm/_base.py:977: ConvergenceWarning: Liblinear failed to converge, increase the number of iterations.\n",
            "  \"the number of iterations.\", ConvergenceWarning)\n"
          ],
          "name": "stderr"
        },
        {
          "output_type": "stream",
          "text": [
            "pipe8 \n",
            "               precision    recall  f1-score   support\n",
            "\n",
            "           g       0.75      0.93      0.83      3689\n",
            "           h       0.78      0.44      0.57      2017\n",
            "\n",
            "    accuracy                           0.76      5706\n",
            "   macro avg       0.77      0.69      0.70      5706\n",
            "weighted avg       0.76      0.76      0.74      5706\n",
            "\n"
          ],
          "name": "stdout"
        },
        {
          "output_type": "stream",
          "text": [
            "/usr/local/lib/python3.6/dist-packages/sklearn/svm/_base.py:977: ConvergenceWarning: Liblinear failed to converge, increase the number of iterations.\n",
            "  \"the number of iterations.\", ConvergenceWarning)\n"
          ],
          "name": "stderr"
        },
        {
          "output_type": "stream",
          "text": [
            "pipe9 \n",
            "               precision    recall  f1-score   support\n",
            "\n",
            "           g       0.83      0.80      0.82      3689\n",
            "           h       0.66      0.71      0.69      2017\n",
            "\n",
            "    accuracy                           0.77      5706\n",
            "   macro avg       0.75      0.76      0.75      5706\n",
            "weighted avg       0.77      0.77      0.77      5706\n",
            "\n"
          ],
          "name": "stdout"
        }
      ]
    },
    {
      "cell_type": "code",
      "metadata": {
        "id": "sJrYPAzVgvPp"
      },
      "source": [
        ""
      ],
      "execution_count": null,
      "outputs": []
    },
    {
      "cell_type": "code",
      "metadata": {
        "id": "uZUWRvYUeeu8",
        "colab": {
          "base_uri": "https://localhost:8080/"
        },
        "outputId": "cce38bf4-8943-44b4-a9d8-c24ce38b2369"
      },
      "source": [
        "#Υπολογίζουμε τη διακύμανση του train set για να δούμε τι τιμές να βάλουμε στο vthreshold \n",
        "import numpy as np\n",
        "train_var = features_train.var(axis=0)\n",
        "print(features_train.shape)\n",
        "print(features_test.shape)\n",
        "print(train_var)\n",
        "print(\"max variance: \", np.max(train_var))\n",
        "print(\"min variance: \", np.min(train_var))"
      ],
      "execution_count": null,
      "outputs": [
        {
          "output_type": "stream",
          "text": [
            "(17286, 10)\n",
            "(5706, 10)\n",
            "0    2302.281305\n",
            "1     449.599999\n",
            "2       0.228471\n",
            "3       0.034734\n",
            "4       0.012895\n",
            "5    4334.906340\n",
            "6    3273.326321\n",
            "7     539.958345\n",
            "8     729.824466\n",
            "9    5859.276170\n",
            "dtype: float64\n",
            "max variance:  5859.2761702476255\n",
            "min variance:  0.012895285803996029\n"
          ],
          "name": "stdout"
        }
      ]
    },
    {
      "cell_type": "code",
      "metadata": {
        "id": "9qlwt-QxXple"
      },
      "source": [
        ""
      ],
      "execution_count": null,
      "outputs": []
    },
    {
      "cell_type": "markdown",
      "metadata": {
        "id": "gJqpoaV2EBQd"
      },
      "source": [
        "Επειδή έχουμε πολλες παραμέτρους στους classifiers και το grid search θα είναι χρονοβόρο, δοκιμάσαμε να προσεγγίσουμε τις βέλτιστες τιμές σε πολλα τρεξιματα με διαφορετικους συνδιασμους καθε φορα. Εδω παραθέτουμε τις καλυτερες τιμες που ειχαμε βγαλει απο την εντολη best_params_ αφού έχουμε προσδιορίσει τις διακριτές τιμές,σαν σχολιο θα μπαινουν οι παραμετροι που δοκιμασαμε και αποκλεισαμε. Τα υπόλοιπα τρεξίματα παραλείπονται καθώς και μόνο η επανεκτέλεση προκειμένου να ολοκληρωθεί το notebook μπορεί να τρέχει υπερβολικά πολλές ώρες."
      ]
    },
    {
      "cell_type": "code",
      "metadata": {
        "id": "3xuvCDzxiVOO"
      },
      "source": [
        "from sklearn.model_selection import GridSearchCV\n",
        "vthreshold = [0.01] #προσαρμόζουμε τις τιμές μας στο variance που παρατηρήσαμε\n",
        "n_components_knn = np.arange(9,11)\n",
        "n_components_mlp = np.arange(8,11)\n",
        "n_components_svm =  np.arange(9,11)\n",
        "\n",
        "#KNN Classifier\n",
        "k = np.arange(3,9) # η υπερπαράμετρος του ταξινομητή\n",
        "weights = ['distance'] #'uniform','distance'\n",
        "metric = ['manhattan'] #'euclidean','manhattan','chebyshev'\n",
        "\n",
        "#MLP Classifier\n",
        "hidden_layer_sizes = [(i,2) for i in range(8,256,64)]\n",
        "activation = ['logistic'] # ['logistic','identity','tanh','relu']\n",
        "solver = ['lbfgs']# ['lbfgs', 'sgd', 'adam']\n",
        "alpha = np.geomspace(1e-8,1e-3,5)\n",
        "learning_rate = ['constant']# ['constant', 'invscaling', 'adaptive']\n",
        "max_iter = [950]#(250,300,400,500)\n",
        "\n",
        "#GNB Classifier δεν θα βελτιστοποιήσουμε παραμέτρους\n",
        "\n",
        "#SVM Classifier για πυρηνες poly και rdf\n",
        "C=[500]#(1,5,10,50,100,250,500)\n",
        "degree=[4] #(για πυρήνα poly)\n",
        "gamma=['scale']#(\"auto\")\n",
        "tol=[1e-2] #(1e-3,1e-4,1e-5)\n",
        "\n",
        "#SVM Classifier για πυρηνα linear\n",
        "loss=['squared_hinge']\n",
        "tolline=[1e-2] \n",
        "Cline=[250]\n",
        "\n",
        "\n",
        "\n"
      ],
      "execution_count": null,
      "outputs": []
    },
    {
      "cell_type": "code",
      "metadata": {
        "id": "UA1WZ0KXiZnd"
      },
      "source": [
        "\n",
        "#MLP\n",
        "pipe5 = Pipeline(steps=[('scaler', scaler), ('sampler', ros), ('pca', pca), ('mlp', mlp)]) #without selector\n",
        "# το pipe που βγάζει τα καλύτερα αποτελέσματα στις δοκιμές\n",
        "estimator_micro_mlp = GridSearchCV(pipe5, dict(pca__n_components=n_components_mlp, mlp__hidden_layer_sizes=hidden_layer_sizes, mlp__activation=activation, mlp__solver=solver, mlp__learning_rate=learning_rate, mlp__alpha=alpha, mlp__max_iter=max_iter), cv=5, scoring='f1_micro', n_jobs=-1,verbose = 10)\n",
        "estimator_macro_mlp = GridSearchCV(pipe5, dict(pca__n_components=n_components_mlp, mlp__hidden_layer_sizes=hidden_layer_sizes, mlp__activation=activation, mlp__solver=solver, mlp__learning_rate=learning_rate, mlp__alpha=alpha, mlp__max_iter=max_iter), cv=5, scoring='f1_macro', n_jobs=-1,verbose = 10)\n",
        "\n",
        "#KNN\n",
        "pipe4 = Pipeline(steps=[('selector', selector), ('scaler', scaler), ('sampler', ros), ('pca',pca),('kNN', clf)], memory = 'tmp')\n",
        "#pipe4 = Pipeline(steps=[('selector', selector), ('scaler', scaler), ('sampler', ros), ('kNN', clf)], memory = 'tmp') #without pca\n",
        "# το pipe που βγάζει τα καλύτερα αποτελέσματα στις δοκιμές\n",
        "#pipe9 = Pipeline(steps=[('pca', pca), ('kNN', clf)], memory = 'tmp')\n",
        "estimator_micro_knn = GridSearchCV(pipe4, dict(pca__n_components=n_components_knn, kNN__n_neighbors=k, kNN__weights=weights, kNN__metric=metric), cv=5, scoring='f1_micro', n_jobs=-1,verbose = 10)\n",
        "estimator_macro_knn = GridSearchCV(pipe4, dict(pca__n_components=n_components_knn, kNN__n_neighbors=k, kNN__weights=weights, kNN__metric=metric), cv=5, scoring='f1_macro', n_jobs=-1,verbose = 10)\n",
        "\n",
        "#GNB\n",
        "pipe1 = Pipeline(steps=[('selector', selector), ('scaler', scaler), ('sampler', ros), ('pca', pca), ('gnb', gnb)], memory = 'tmp')\n",
        "#pipe1 = Pipeline(steps=[('selector', selector), ('scaler', scaler), ('sampler', ros), ('pca', pca), ('gnb', gnb)])\n",
        "# το pipe που βγάζει τα καλύτερα αποτελέσματα στις δοκιμές\n",
        "estimator_micro_gnb = GridSearchCV(pipe1, dict(selector__threshold=vthreshold), cv=5, scoring='f1_micro', n_jobs=-1,verbose = 10)\n",
        "estimator_macro_gnb = GridSearchCV(pipe1, dict(selector__threshold=vthreshold), cv=5, scoring='f1_macro', n_jobs=-1,verbose = 10)\n",
        "\n",
        "#SVM linear\n",
        "pipe4 = Pipeline(steps=[('selector', selector), ('scaler', scaler), ('sampler', ros), ('pca',pca), ('svmlinear', svmlinear)],memory = 'tmp') \n",
        "#pipe4 = Pipeline(steps=[('selector', selector), ('scaler', scaler), ('sampler', ros), ('pca',pca), ('svmlinear', svmlinear)],memory = 'tmp') \n",
        "# το pipe που βγάζει τα καλύτερα αποτελέσματα στις δοκιμέςl\n",
        "estimator_micro_svmlinear = GridSearchCV(pipe4, dict(  pca__n_components=n_components_svm, svmlinear__loss= loss, svmlinear__tol=[1e-2], svmlinear__C=[250]), cv=5, scoring='f1_micro', n_jobs=-1,verbose = 10)\n",
        "estimator_macro_svmlinear = GridSearchCV(pipe4, dict(  pca__n_components=n_components_svm, svmlinear__loss= loss, svmlinear__tol=[1e-2], svmlinear__C=[250]), cv=5, scoring='f1_macro', n_jobs=-1,verbose = 10)\n",
        "\n",
        "#SVM poly\n",
        "pipe4 = Pipeline(steps=[('selector', selector), ('scaler', scaler), ('sampler', ros), ('pca',pca), ('svmpoly', svmpoly)],memory = 'tmp')\n",
        "# το pipe που βγάζει τα καλύτερα αποτελέσματα στις δοκιμές\n",
        "estimator_micro_svmpoly = GridSearchCV(pipe4, dict( pca__n_components=n_components_svm, svmpoly__C=C, svmpoly__degree=degree, svmpoly__gamma=gamma, svmpoly__tol=tol),  cv=5, scoring='f1_micro', n_jobs=-1,verbose = 10)\n",
        "estimator_macro_svmpoly = GridSearchCV(pipe4, dict( pca__n_components=n_components_svm, svmpoly__C=C, svmpoly__degree=degree, svmpoly__gamma=gamma, svmpoly__tol=tol),  cv=5, scoring='f1_micro', n_jobs=-1,verbose = 10)\n",
        "\n",
        "#SVM rbf\n",
        "pipe4 = Pipeline(steps=[('selector', selector), ('scaler', scaler), ('sampler', ros), ('pca',pca), ('svmrbf', svmrbf)],memory = 'tmp')\n",
        "# το pipe που βγάζει τα καλύτερα αποτελέσματα στις δοκιμές\n",
        "estimator_micro_svmrbf = GridSearchCV(pipe4, dict( pca__n_components=n_components_svm, svmrbf__C=C, svmrbf__gamma=gamma, svmrbf__tol=tol  ),  cv=5, scoring='f1_micro', n_jobs=-1,verbose = 10)\n",
        "estimator_macro_svmrbf = GridSearchCV(pipe4, dict( pca__n_components=n_components_svm, svmrbf__C=C, svmrbf__gamma=gamma, svmrbf__tol=tol  ),  cv=5, scoring='f1_micro', n_jobs=-1,verbose = 10)\n",
        "\n",
        "\n",
        "#Αποθηκεύουμε όλα τα αποτελέσματα σε πίνακες για να απαντήσουμε στα επόμενα ερωτήματα \n",
        "estimators_micro = []\n",
        "estimators_macro = []\n",
        "\n",
        "estimators_micro.append(estimator_micro_knn)\n",
        "estimators_micro.append(estimator_micro_gnb)\n",
        "estimators_micro.append(estimator_micro_mlp)\n",
        "estimators_micro.append(estimator_micro_svmpoly)\n",
        "estimators_micro.append(estimator_micro_svmrbf)\n",
        "estimators_micro.append(estimator_micro_svmlinear)\n",
        "\n",
        "\n",
        "estimators_macro.append(estimator_macro_knn)\n",
        "estimators_macro.append(estimator_macro_gnb)\n",
        "estimators_macro.append(estimator_macro_mlp)\n",
        "estimators_macro.append(estimator_macro_svmpoly)\n",
        "estimators_macro.append(estimator_macro_svmrbf)\n",
        "estimators_macro.append(estimator_macro_svmlinear)\n",
        "\n",
        "\n",
        "\n",
        "\n",
        "\n",
        "\n",
        "\n"
      ],
      "execution_count": null,
      "outputs": []
    },
    {
      "cell_type": "code",
      "metadata": {
        "id": "jBfKccjIr9ie"
      },
      "source": [
        "#estimator_micro_svmlinear.get_params().keys()"
      ],
      "execution_count": null,
      "outputs": []
    },
    {
      "cell_type": "markdown",
      "metadata": {
        "id": "ZvaRd36Zi3dA"
      },
      "source": [
        "\n",
        "\n",
        "### *2.Για το τελικό fit του κάθε ταξινομητή στο σύνολο του training set και για το predict στο test set εκτυπώστε πίνακες με τους χρόνους εκτέλεσης.*"
      ]
    },
    {
      "cell_type": "code",
      "metadata": {
        "id": "lF7ig1dEi-Ie",
        "colab": {
          "base_uri": "https://localhost:8080/"
        },
        "outputId": "191296aa-1b36-408d-a092-f03798ffb47e"
      },
      "source": [
        "\n",
        "import time\n",
        "train_time_macro =[]\n",
        "test_time_macro = []\n",
        "train_time_micro =[]\n",
        "\n",
        "test_time_micro = []\n",
        "f1_micro_scores = []\n",
        "f1_macro_scores = []\n",
        "micro_scores = []\n",
        "macro_scores = []\n",
        "cnf_matrix_macro = []\n",
        "cnf_matrix_micro = []\n",
        "\n",
        "for i in estimators_micro:    \n",
        "    # micro\n",
        "    start_time = time.time()\n",
        "    i.fit(features_train, labels_train) \n",
        "\n",
        "    train_time_micro.append(time.time() - start_time)\n",
        "    start_time = time.time()\n",
        "    preds_micro = i.predict(features_test)\n",
        "    test_time_micro.append(time.time() - start_time)\n",
        "    micro_scores.append(precision_recall_fscore_support(labels_test, preds_micro, average='micro'))\n",
        "    f1_micro_scores.append(precision_recall_fscore_support(labels_test , preds_micro, average='micro')[2])\n",
        "    cnf_matrix_micro.append(confusion_matrix(labels_test, preds_micro))\n",
        "\n",
        "for i in estimators_macro:\n",
        "    # macro\n",
        "\n",
        "    start_time = time.time()\n",
        "    i.fit(features_train,labels_train)\n",
        "    train_time_macro.append(time.time() - start_time)\n",
        "    start_time = time.time()\n",
        "    preds_macro = i.predict(features_test)\n",
        "    test_time_macro.append(time.time() - start_time)\n",
        "    macro_scores.append(precision_recall_fscore_support(labels_test, preds_macro, average='macro'))\n",
        "    f1_macro_scores.append(precision_recall_fscore_support(labels_test, preds_macro, average='macro')[2])\n",
        "    cnf_matrix_macro.append(confusion_matrix(labels_test, preds_macro))\n",
        "\n",
        "time_micro = []\n",
        "time_macro = []\n",
        "time_micro.append(train_time_micro)\n",
        "time_micro.append(test_time_micro)\n",
        "time_macro.append(train_time_macro)\n",
        "time_macro.append(test_time_macro)"
      ],
      "execution_count": null,
      "outputs": [
        {
          "output_type": "stream",
          "text": [
            "Fitting 5 folds for each of 12 candidates, totalling 60 fits\n"
          ],
          "name": "stdout"
        },
        {
          "output_type": "stream",
          "text": [
            "[Parallel(n_jobs=-1)]: Using backend LokyBackend with 2 concurrent workers.\n",
            "[Parallel(n_jobs=-1)]: Done   1 tasks      | elapsed:    2.6s\n",
            "[Parallel(n_jobs=-1)]: Done   4 tasks      | elapsed:    3.6s\n",
            "[Parallel(n_jobs=-1)]: Done   9 tasks      | elapsed:    6.3s\n",
            "[Parallel(n_jobs=-1)]: Done  14 tasks      | elapsed:    8.3s\n",
            "[Parallel(n_jobs=-1)]: Done  21 tasks      | elapsed:   12.2s\n",
            "[Parallel(n_jobs=-1)]: Done  28 tasks      | elapsed:   15.4s\n",
            "[Parallel(n_jobs=-1)]: Done  37 tasks      | elapsed:   20.3s\n",
            "[Parallel(n_jobs=-1)]: Done  46 tasks      | elapsed:   24.6s\n",
            "[Parallel(n_jobs=-1)]: Done  57 tasks      | elapsed:   30.6s\n",
            "[Parallel(n_jobs=-1)]: Done  60 out of  60 | elapsed:   31.9s finished\n"
          ],
          "name": "stderr"
        },
        {
          "output_type": "stream",
          "text": [
            "Fitting 5 folds for each of 1 candidates, totalling 5 fits\n"
          ],
          "name": "stdout"
        },
        {
          "output_type": "stream",
          "text": [
            "[Parallel(n_jobs=-1)]: Using backend LokyBackend with 2 concurrent workers.\n",
            "[Parallel(n_jobs=-1)]: Done   1 tasks      | elapsed:    0.8s\n",
            "[Parallel(n_jobs=-1)]: Done   3 out of   5 | elapsed:    1.7s remaining:    1.1s\n",
            "[Parallel(n_jobs=-1)]: Done   5 out of   5 | elapsed:    2.1s remaining:    0.0s\n",
            "[Parallel(n_jobs=-1)]: Done   5 out of   5 | elapsed:    2.1s finished\n"
          ],
          "name": "stderr"
        },
        {
          "output_type": "stream",
          "text": [
            "Fitting 5 folds for each of 60 candidates, totalling 300 fits\n"
          ],
          "name": "stdout"
        },
        {
          "output_type": "stream",
          "text": [
            "[Parallel(n_jobs=-1)]: Using backend LokyBackend with 2 concurrent workers.\n",
            "[Parallel(n_jobs=-1)]: Done   1 tasks      | elapsed:   12.3s\n",
            "[Parallel(n_jobs=-1)]: Done   4 tasks      | elapsed:   25.8s\n",
            "[Parallel(n_jobs=-1)]: Done   9 tasks      | elapsed:  1.0min\n",
            "[Parallel(n_jobs=-1)]: Done  14 tasks      | elapsed:  1.5min\n",
            "[Parallel(n_jobs=-1)]: Done  21 tasks      | elapsed:  5.0min\n",
            "[Parallel(n_jobs=-1)]: Done  28 tasks      | elapsed:  9.4min\n",
            "[Parallel(n_jobs=-1)]: Done  37 tasks      | elapsed: 18.3min\n",
            "[Parallel(n_jobs=-1)]: Done  46 tasks      | elapsed: 27.9min\n",
            "[Parallel(n_jobs=-1)]: Done  57 tasks      | elapsed: 42.8min\n",
            "[Parallel(n_jobs=-1)]: Done  68 tasks      | elapsed: 47.5min\n",
            "[Parallel(n_jobs=-1)]: Done  81 tasks      | elapsed: 52.1min\n",
            "[Parallel(n_jobs=-1)]: Done  94 tasks      | elapsed: 61.5min\n",
            "[Parallel(n_jobs=-1)]: Done 109 tasks      | elapsed: 80.0min\n",
            "[Parallel(n_jobs=-1)]: Done 124 tasks      | elapsed: 96.0min\n",
            "[Parallel(n_jobs=-1)]: Done 141 tasks      | elapsed: 100.6min\n",
            "[Parallel(n_jobs=-1)]: Done 158 tasks      | elapsed: 114.1min\n",
            "[Parallel(n_jobs=-1)]: Done 177 tasks      | elapsed: 139.2min\n",
            "[Parallel(n_jobs=-1)]: Done 196 tasks      | elapsed: 145.4min\n",
            "[Parallel(n_jobs=-1)]: Done 217 tasks      | elapsed: 160.9min\n",
            "[Parallel(n_jobs=-1)]: Done 238 tasks      | elapsed: 188.1min\n",
            "[Parallel(n_jobs=-1)]: Done 261 tasks      | elapsed: 196.1min\n",
            "[Parallel(n_jobs=-1)]: Done 284 tasks      | elapsed: 215.9min\n",
            "[Parallel(n_jobs=-1)]: Done 300 out of 300 | elapsed: 239.6min finished\n",
            "/usr/local/lib/python3.6/dist-packages/sklearn/neural_network/_multilayer_perceptron.py:471: ConvergenceWarning: lbfgs failed to converge (status=1):\n",
            "STOP: TOTAL NO. of ITERATIONS REACHED LIMIT.\n",
            "\n",
            "Increase the number of iterations (max_iter) or scale the data as shown in:\n",
            "    https://scikit-learn.org/stable/modules/preprocessing.html\n",
            "  self.n_iter_ = _check_optimize_result(\"lbfgs\", opt_res, self.max_iter)\n"
          ],
          "name": "stderr"
        },
        {
          "output_type": "stream",
          "text": [
            "Fitting 5 folds for each of 2 candidates, totalling 10 fits\n"
          ],
          "name": "stdout"
        },
        {
          "output_type": "stream",
          "text": [
            "[Parallel(n_jobs=-1)]: Using backend LokyBackend with 2 concurrent workers.\n",
            "[Parallel(n_jobs=-1)]: Done   1 tasks      | elapsed:  2.3min\n",
            "/usr/local/lib/python3.6/dist-packages/joblib/externals/loky/process_executor.py:691: UserWarning: A worker stopped while some jobs were given to the executor. This can be caused by a too short worker timeout or by a memory leak.\n",
            "  \"timeout or by a memory leak.\", UserWarning\n",
            "[Parallel(n_jobs=-1)]: Done   4 tasks      | elapsed:  5.0min\n",
            "[Parallel(n_jobs=-1)]: Done  10 out of  10 | elapsed: 12.6min finished\n"
          ],
          "name": "stderr"
        },
        {
          "output_type": "stream",
          "text": [
            "Fitting 5 folds for each of 2 candidates, totalling 10 fits\n"
          ],
          "name": "stdout"
        },
        {
          "output_type": "stream",
          "text": [
            "[Parallel(n_jobs=-1)]: Using backend LokyBackend with 2 concurrent workers.\n",
            "[Parallel(n_jobs=-1)]: Done   1 tasks      | elapsed:   43.6s\n",
            "[Parallel(n_jobs=-1)]: Done   4 tasks      | elapsed:  1.5min\n",
            "[Parallel(n_jobs=-1)]: Done  10 out of  10 | elapsed:  3.7min finished\n"
          ],
          "name": "stderr"
        },
        {
          "output_type": "stream",
          "text": [
            "Fitting 5 folds for each of 2 candidates, totalling 10 fits\n"
          ],
          "name": "stdout"
        },
        {
          "output_type": "stream",
          "text": [
            "[Parallel(n_jobs=-1)]: Using backend LokyBackend with 2 concurrent workers.\n",
            "[Parallel(n_jobs=-1)]: Done   1 tasks      | elapsed:   35.5s\n",
            "[Parallel(n_jobs=-1)]: Done   4 tasks      | elapsed:  1.2min\n",
            "[Parallel(n_jobs=-1)]: Done  10 out of  10 | elapsed:  3.2min finished\n",
            "/usr/local/lib/python3.6/dist-packages/sklearn/svm/_base.py:977: ConvergenceWarning: Liblinear failed to converge, increase the number of iterations.\n",
            "  \"the number of iterations.\", ConvergenceWarning)\n",
            "[Parallel(n_jobs=-1)]: Using backend LokyBackend with 2 concurrent workers.\n"
          ],
          "name": "stderr"
        },
        {
          "output_type": "stream",
          "text": [
            "Fitting 5 folds for each of 12 candidates, totalling 60 fits\n"
          ],
          "name": "stdout"
        },
        {
          "output_type": "stream",
          "text": [
            "[Parallel(n_jobs=-1)]: Done   1 tasks      | elapsed:    0.9s\n",
            "[Parallel(n_jobs=-1)]: Done   4 tasks      | elapsed:    1.9s\n",
            "[Parallel(n_jobs=-1)]: Done   9 tasks      | elapsed:    4.6s\n",
            "[Parallel(n_jobs=-1)]: Done  14 tasks      | elapsed:    6.7s\n",
            "[Parallel(n_jobs=-1)]: Done  21 tasks      | elapsed:   10.4s\n",
            "[Parallel(n_jobs=-1)]: Done  28 tasks      | elapsed:   13.8s\n",
            "[Parallel(n_jobs=-1)]: Done  37 tasks      | elapsed:   19.1s\n",
            "[Parallel(n_jobs=-1)]: Done  46 tasks      | elapsed:   24.0s\n",
            "[Parallel(n_jobs=-1)]: Done  57 tasks      | elapsed:   30.1s\n",
            "[Parallel(n_jobs=-1)]: Done  60 out of  60 | elapsed:   31.7s finished\n"
          ],
          "name": "stderr"
        },
        {
          "output_type": "stream",
          "text": [
            "Fitting 5 folds for each of 1 candidates, totalling 5 fits\n"
          ],
          "name": "stdout"
        },
        {
          "output_type": "stream",
          "text": [
            "[Parallel(n_jobs=-1)]: Using backend LokyBackend with 2 concurrent workers.\n",
            "[Parallel(n_jobs=-1)]: Done   1 tasks      | elapsed:    0.5s\n",
            "[Parallel(n_jobs=-1)]: Done   3 out of   5 | elapsed:    0.9s remaining:    0.6s\n",
            "[Parallel(n_jobs=-1)]: Done   5 out of   5 | elapsed:    1.2s remaining:    0.0s\n",
            "[Parallel(n_jobs=-1)]: Done   5 out of   5 | elapsed:    1.2s finished\n"
          ],
          "name": "stderr"
        },
        {
          "output_type": "stream",
          "text": [
            "Fitting 5 folds for each of 60 candidates, totalling 300 fits\n"
          ],
          "name": "stdout"
        },
        {
          "output_type": "stream",
          "text": [
            "[Parallel(n_jobs=-1)]: Using backend LokyBackend with 2 concurrent workers.\n",
            "[Parallel(n_jobs=-1)]: Done   1 tasks      | elapsed:   13.2s\n",
            "[Parallel(n_jobs=-1)]: Done   4 tasks      | elapsed:   26.3s\n",
            "[Parallel(n_jobs=-1)]: Done   9 tasks      | elapsed:  1.1min\n",
            "[Parallel(n_jobs=-1)]: Done  14 tasks      | elapsed:  1.5min\n",
            "[Parallel(n_jobs=-1)]: Done  21 tasks      | elapsed:  5.1min\n",
            "[Parallel(n_jobs=-1)]: Done  28 tasks      | elapsed:  9.4min\n",
            "[Parallel(n_jobs=-1)]: Done  37 tasks      | elapsed: 17.8min\n",
            "[Parallel(n_jobs=-1)]: Done  46 tasks      | elapsed: 28.0min\n",
            "[Parallel(n_jobs=-1)]: Done  57 tasks      | elapsed: 42.9min\n",
            "[Parallel(n_jobs=-1)]: Done  68 tasks      | elapsed: 47.2min\n",
            "[Parallel(n_jobs=-1)]: Done  81 tasks      | elapsed: 51.4min\n",
            "[Parallel(n_jobs=-1)]: Done  94 tasks      | elapsed: 61.2min\n",
            "[Parallel(n_jobs=-1)]: Done 109 tasks      | elapsed: 78.4min\n",
            "[Parallel(n_jobs=-1)]: Done 124 tasks      | elapsed: 94.2min\n",
            "[Parallel(n_jobs=-1)]: Done 141 tasks      | elapsed: 99.0min\n",
            "[Parallel(n_jobs=-1)]: Done 158 tasks      | elapsed: 112.7min\n",
            "[Parallel(n_jobs=-1)]: Done 177 tasks      | elapsed: 134.9min\n",
            "[Parallel(n_jobs=-1)]: Done 196 tasks      | elapsed: 141.4min\n",
            "[Parallel(n_jobs=-1)]: Done 217 tasks      | elapsed: 156.5min\n",
            "[Parallel(n_jobs=-1)]: Done 238 tasks      | elapsed: 184.2min\n",
            "[Parallel(n_jobs=-1)]: Done 261 tasks      | elapsed: 191.2min\n",
            "[Parallel(n_jobs=-1)]: Done 284 tasks      | elapsed: 210.9min\n",
            "[Parallel(n_jobs=-1)]: Done 300 out of 300 | elapsed: 232.3min finished\n",
            "/usr/local/lib/python3.6/dist-packages/sklearn/neural_network/_multilayer_perceptron.py:471: ConvergenceWarning: lbfgs failed to converge (status=1):\n",
            "STOP: TOTAL NO. of ITERATIONS REACHED LIMIT.\n",
            "\n",
            "Increase the number of iterations (max_iter) or scale the data as shown in:\n",
            "    https://scikit-learn.org/stable/modules/preprocessing.html\n",
            "  self.n_iter_ = _check_optimize_result(\"lbfgs\", opt_res, self.max_iter)\n"
          ],
          "name": "stderr"
        },
        {
          "output_type": "stream",
          "text": [
            "Fitting 5 folds for each of 2 candidates, totalling 10 fits\n"
          ],
          "name": "stdout"
        },
        {
          "output_type": "stream",
          "text": [
            "[Parallel(n_jobs=-1)]: Using backend LokyBackend with 2 concurrent workers.\n",
            "[Parallel(n_jobs=-1)]: Done   1 tasks      | elapsed:  2.3min\n",
            "[Parallel(n_jobs=-1)]: Done   4 tasks      | elapsed:  5.0min\n",
            "[Parallel(n_jobs=-1)]: Done  10 out of  10 | elapsed: 12.7min finished\n"
          ],
          "name": "stderr"
        },
        {
          "output_type": "stream",
          "text": [
            "Fitting 5 folds for each of 2 candidates, totalling 10 fits\n"
          ],
          "name": "stdout"
        },
        {
          "output_type": "stream",
          "text": [
            "[Parallel(n_jobs=-1)]: Using backend LokyBackend with 2 concurrent workers.\n",
            "[Parallel(n_jobs=-1)]: Done   1 tasks      | elapsed:   44.9s\n",
            "[Parallel(n_jobs=-1)]: Done   4 tasks      | elapsed:  1.6min\n",
            "[Parallel(n_jobs=-1)]: Done  10 out of  10 | elapsed:  3.9min finished\n"
          ],
          "name": "stderr"
        },
        {
          "output_type": "stream",
          "text": [
            "Fitting 5 folds for each of 2 candidates, totalling 10 fits\n"
          ],
          "name": "stdout"
        },
        {
          "output_type": "stream",
          "text": [
            "[Parallel(n_jobs=-1)]: Using backend LokyBackend with 2 concurrent workers.\n",
            "[Parallel(n_jobs=-1)]: Done   1 tasks      | elapsed:   42.3s\n",
            "[Parallel(n_jobs=-1)]: Done   4 tasks      | elapsed:  1.4min\n",
            "[Parallel(n_jobs=-1)]: Done  10 out of  10 | elapsed:  4.0min finished\n",
            "/usr/local/lib/python3.6/dist-packages/sklearn/svm/_base.py:977: ConvergenceWarning: Liblinear failed to converge, increase the number of iterations.\n",
            "  \"the number of iterations.\", ConvergenceWarning)\n"
          ],
          "name": "stderr"
        }
      ]
    },
    {
      "cell_type": "code",
      "metadata": {
        "colab": {
          "base_uri": "https://localhost:8080/",
          "height": 124
        },
        "id": "5YXVwxPsQ449",
        "outputId": "e54eb36e-cac1-4fa4-d765-c7c56c2c31c1"
      },
      "source": [
        "print(\"Χρόνοι για fit στο train και predict στο test set, με average = micro\")\n",
        "pd.DataFrame(time_micro, index=[\"train fit\", \"test predict\"], columns = [\"KNN\", \"GNB\",\"MLP\",\"SVMpoly\",\"SVMrbf\",\"SVMLinear\"])"
      ],
      "execution_count": null,
      "outputs": [
        {
          "output_type": "stream",
          "text": [
            "Χρόνοι για fit στο train και predict στο test set, με average = micro\n"
          ],
          "name": "stdout"
        },
        {
          "output_type": "execute_result",
          "data": {
            "text/html": [
              "<div>\n",
              "<style scoped>\n",
              "    .dataframe tbody tr th:only-of-type {\n",
              "        vertical-align: middle;\n",
              "    }\n",
              "\n",
              "    .dataframe tbody tr th {\n",
              "        vertical-align: top;\n",
              "    }\n",
              "\n",
              "    .dataframe thead th {\n",
              "        text-align: right;\n",
              "    }\n",
              "</style>\n",
              "<table border=\"1\" class=\"dataframe\">\n",
              "  <thead>\n",
              "    <tr style=\"text-align: right;\">\n",
              "      <th></th>\n",
              "      <th>KNN</th>\n",
              "      <th>GNB</th>\n",
              "      <th>MLP</th>\n",
              "      <th>SVMpoly</th>\n",
              "      <th>SVMrbf</th>\n",
              "      <th>SVMLinear</th>\n",
              "    </tr>\n",
              "  </thead>\n",
              "  <tbody>\n",
              "    <tr>\n",
              "      <th>train fit</th>\n",
              "      <td>32.328655</td>\n",
              "      <td>2.853840</td>\n",
              "      <td>14560.601978</td>\n",
              "      <td>895.374902</td>\n",
              "      <td>270.097438</td>\n",
              "      <td>222.263099</td>\n",
              "    </tr>\n",
              "    <tr>\n",
              "      <th>test predict</th>\n",
              "      <td>0.767397</td>\n",
              "      <td>0.005093</td>\n",
              "      <td>0.061887</td>\n",
              "      <td>0.679131</td>\n",
              "      <td>1.153052</td>\n",
              "      <td>0.004950</td>\n",
              "    </tr>\n",
              "  </tbody>\n",
              "</table>\n",
              "</div>"
            ],
            "text/plain": [
              "                    KNN       GNB  ...      SVMrbf   SVMLinear\n",
              "train fit     32.328655  2.853840  ...  270.097438  222.263099\n",
              "test predict   0.767397  0.005093  ...    1.153052    0.004950\n",
              "\n",
              "[2 rows x 6 columns]"
            ]
          },
          "metadata": {
            "tags": []
          },
          "execution_count": 172
        }
      ]
    },
    {
      "cell_type": "code",
      "metadata": {
        "colab": {
          "base_uri": "https://localhost:8080/",
          "height": 124
        },
        "id": "KRlKAcmfQ9tQ",
        "outputId": "b3cad19e-fe3e-47bf-b700-8a8e50ca8a44"
      },
      "source": [
        "print(\"Χρόνοι για fit στο train και predict στο test set, με average = macro\")\n",
        "pd.DataFrame(time_macro, index=[\"train fit\", \"test predict\"], columns = [\"KNN\", \"GNB\",\"MLP\",\"SVMpoly\",\"SVMrbf\",\"SVMLinear\"])"
      ],
      "execution_count": null,
      "outputs": [
        {
          "output_type": "stream",
          "text": [
            "Χρόνοι για fit στο train και predict στο test set, με average = macro\n"
          ],
          "name": "stdout"
        },
        {
          "output_type": "execute_result",
          "data": {
            "text/html": [
              "<div>\n",
              "<style scoped>\n",
              "    .dataframe tbody tr th:only-of-type {\n",
              "        vertical-align: middle;\n",
              "    }\n",
              "\n",
              "    .dataframe tbody tr th {\n",
              "        vertical-align: top;\n",
              "    }\n",
              "\n",
              "    .dataframe thead th {\n",
              "        text-align: right;\n",
              "    }\n",
              "</style>\n",
              "<table border=\"1\" class=\"dataframe\">\n",
              "  <thead>\n",
              "    <tr style=\"text-align: right;\">\n",
              "      <th></th>\n",
              "      <th>KNN</th>\n",
              "      <th>GNB</th>\n",
              "      <th>MLP</th>\n",
              "      <th>SVMpoly</th>\n",
              "      <th>SVMrbf</th>\n",
              "      <th>SVMLinear</th>\n",
              "    </tr>\n",
              "  </thead>\n",
              "  <tbody>\n",
              "    <tr>\n",
              "      <th>train fit</th>\n",
              "      <td>32.101623</td>\n",
              "      <td>1.627267</td>\n",
              "      <td>14122.817730</td>\n",
              "      <td>907.327934</td>\n",
              "      <td>282.129952</td>\n",
              "      <td>269.127513</td>\n",
              "    </tr>\n",
              "    <tr>\n",
              "      <th>test predict</th>\n",
              "      <td>0.801026</td>\n",
              "      <td>0.006868</td>\n",
              "      <td>0.051513</td>\n",
              "      <td>0.710624</td>\n",
              "      <td>1.167049</td>\n",
              "      <td>0.006724</td>\n",
              "    </tr>\n",
              "  </tbody>\n",
              "</table>\n",
              "</div>"
            ],
            "text/plain": [
              "                    KNN       GNB  ...      SVMrbf   SVMLinear\n",
              "train fit     32.101623  1.627267  ...  282.129952  269.127513\n",
              "test predict   0.801026  0.006868  ...    1.167049    0.006724\n",
              "\n",
              "[2 rows x 6 columns]"
            ]
          },
          "metadata": {
            "tags": []
          },
          "execution_count": 173
        }
      ]
    },
    {
      "cell_type": "code",
      "metadata": {
        "colab": {
          "base_uri": "https://localhost:8080/"
        },
        "id": "wlIA0PaLREX2",
        "outputId": "200eb310-a816-4cf7-e395-ea7d1eec3292"
      },
      "source": [
        "print(\"Macro MLP\")\n",
        "print(estimator_macro_mlp.best_estimator_)\n",
        "print(estimator_macro_mlp.best_params_)\n",
        "\n",
        "print(\"Micro MLP\")\n",
        "print(estimator_micro_mlp.best_estimator_)\n",
        "print(estimator_micro_mlp.best_params_)\n",
        "\n",
        "print(\"Macro SVMLinear\")\n",
        "print(estimator_macro_svmlinear.best_estimator_)\n",
        "print(estimator_macro_svmlinear.best_params_)\n",
        "\n",
        "print(\"Micro SVMLinear\")\n",
        "print(estimator_micro_svmlinear.best_estimator_)\n",
        "print(estimator_micro_svmlinear.best_params_)\n",
        "\n",
        "print(\"Macro SVMPoly\")\n",
        "print(estimator_macro_svmpoly.best_estimator_)\n",
        "print(estimator_macro_svmpoly.best_params_)\n",
        "\n",
        "print(\"Macro SVMPoly\")\n",
        "print(estimator_macro_svmpoly.best_estimator_)\n",
        "print(estimator_macro_svmpoly.best_params_)\n",
        "\n",
        "print(\"Micro SVMPoly\")\n",
        "print(estimator_micro_svmpoly.best_estimator_)\n",
        "print(estimator_micro_svmpoly.best_params_)\n",
        "\n",
        "print(\"Macro SVMRbf\")\n",
        "print(estimator_macro_svmrbf.best_estimator_)\n",
        "print(estimator_macro_svmrbf.best_params_)\n",
        "\n",
        "print(\"Micro SVMRbf\")\n",
        "print(estimator_micro_svmrbf.best_estimator_)\n",
        "print(estimator_micro_svmrbf.best_params_)\n",
        "\n",
        "print(\"Macro KNN\")\n",
        "print(estimator_macro_knn.best_estimator_)\n",
        "print(estimator_macro_knn.best_params_)\n",
        "\n",
        "print(\"Micro KNN\")\n",
        "print(estimator_micro_knn.best_estimator_)\n",
        "print(estimator_micro_knn.best_params_)"
      ],
      "execution_count": null,
      "outputs": [
        {
          "output_type": "stream",
          "text": [
            "Macro MLP\n",
            "Pipeline(steps=[('scaler', StandardScaler()), ('sampler', RandomOverSampler()),\n",
            "                ('pca', PCA(n_components=10)),\n",
            "                ('mlp',\n",
            "                 MLPClassifier(activation='logistic',\n",
            "                               alpha=1.7782794100389227e-07,\n",
            "                               hidden_layer_sizes=(200, 2), max_iter=950,\n",
            "                               solver='lbfgs'))])\n",
            "{'mlp__activation': 'logistic', 'mlp__alpha': 1.7782794100389227e-07, 'mlp__hidden_layer_sizes': (200, 2), 'mlp__learning_rate': 'constant', 'mlp__max_iter': 950, 'mlp__solver': 'lbfgs', 'pca__n_components': 10}\n",
            "Micro MLP\n",
            "Pipeline(steps=[('scaler', StandardScaler()), ('sampler', RandomOverSampler()),\n",
            "                ('pca', PCA(n_components=10)),\n",
            "                ('mlp',\n",
            "                 MLPClassifier(activation='logistic', alpha=0.001,\n",
            "                               hidden_layer_sizes=(200, 2), max_iter=950,\n",
            "                               solver='lbfgs'))])\n",
            "{'mlp__activation': 'logistic', 'mlp__alpha': 0.001, 'mlp__hidden_layer_sizes': (200, 2), 'mlp__learning_rate': 'constant', 'mlp__max_iter': 950, 'mlp__solver': 'lbfgs', 'pca__n_components': 10}\n",
            "Macro SVMLinear\n",
            "Pipeline(memory='tmp',\n",
            "         steps=[('selector', VarianceThreshold()), ('scaler', StandardScaler()),\n",
            "                ('sampler', RandomOverSampler()), ('pca', PCA(n_components=10)),\n",
            "                ('svmlinear',\n",
            "                 LinearSVC(C=250, class_weight='balanced', max_iter=20000,\n",
            "                           tol=0.01))])\n",
            "{'pca__n_components': 10, 'svmlinear__C': 250, 'svmlinear__loss': 'squared_hinge', 'svmlinear__tol': 0.01}\n",
            "Micro SVMLinear\n",
            "Pipeline(memory='tmp',\n",
            "         steps=[('selector', VarianceThreshold()), ('scaler', StandardScaler()),\n",
            "                ('sampler', RandomOverSampler()), ('pca', PCA(n_components=10)),\n",
            "                ('svmlinear',\n",
            "                 LinearSVC(C=250, class_weight='balanced', max_iter=20000,\n",
            "                           tol=0.01))])\n",
            "{'pca__n_components': 10, 'svmlinear__C': 250, 'svmlinear__loss': 'squared_hinge', 'svmlinear__tol': 0.01}\n",
            "Macro SVMPoly\n",
            "Pipeline(memory='tmp',\n",
            "         steps=[('selector', VarianceThreshold()), ('scaler', StandardScaler()),\n",
            "                ('sampler', RandomOverSampler()), ('pca', PCA(n_components=10)),\n",
            "                ('svmpoly',\n",
            "                 SVC(C=500, class_weight='balanced', degree=4, kernel='poly',\n",
            "                     tol=0.01))])\n",
            "{'pca__n_components': 10, 'svmpoly__C': 500, 'svmpoly__degree': 4, 'svmpoly__gamma': 'scale', 'svmpoly__tol': 0.01}\n",
            "Macro SVMPoly\n",
            "Pipeline(memory='tmp',\n",
            "         steps=[('selector', VarianceThreshold()), ('scaler', StandardScaler()),\n",
            "                ('sampler', RandomOverSampler()), ('pca', PCA(n_components=10)),\n",
            "                ('svmpoly',\n",
            "                 SVC(C=500, class_weight='balanced', degree=4, kernel='poly',\n",
            "                     tol=0.01))])\n",
            "{'pca__n_components': 10, 'svmpoly__C': 500, 'svmpoly__degree': 4, 'svmpoly__gamma': 'scale', 'svmpoly__tol': 0.01}\n",
            "Micro SVMPoly\n",
            "Pipeline(memory='tmp',\n",
            "         steps=[('selector', VarianceThreshold()), ('scaler', StandardScaler()),\n",
            "                ('sampler', RandomOverSampler()), ('pca', PCA(n_components=10)),\n",
            "                ('svmpoly',\n",
            "                 SVC(C=500, class_weight='balanced', degree=4, kernel='poly',\n",
            "                     tol=0.01))])\n",
            "{'pca__n_components': 10, 'svmpoly__C': 500, 'svmpoly__degree': 4, 'svmpoly__gamma': 'scale', 'svmpoly__tol': 0.01}\n",
            "Macro SVMRbf\n",
            "Pipeline(memory='tmp',\n",
            "         steps=[('selector', VarianceThreshold()), ('scaler', StandardScaler()),\n",
            "                ('sampler', RandomOverSampler()), ('pca', PCA(n_components=10)),\n",
            "                ('svmrbf', SVC(C=500, class_weight='balanced', tol=0.01))])\n",
            "{'pca__n_components': 10, 'svmrbf__C': 500, 'svmrbf__gamma': 'scale', 'svmrbf__tol': 0.01}\n",
            "Micro SVMRbf\n",
            "Pipeline(memory='tmp',\n",
            "         steps=[('selector', VarianceThreshold()), ('scaler', StandardScaler()),\n",
            "                ('sampler', RandomOverSampler()), ('pca', PCA(n_components=10)),\n",
            "                ('svmrbf', SVC(C=500, class_weight='balanced', tol=0.01))])\n",
            "{'pca__n_components': 10, 'svmrbf__C': 500, 'svmrbf__gamma': 'scale', 'svmrbf__tol': 0.01}\n",
            "Macro KNN\n",
            "Pipeline(memory='tmp',\n",
            "         steps=[('selector', VarianceThreshold()), ('scaler', StandardScaler()),\n",
            "                ('sampler', RandomOverSampler()), ('pca', PCA(n_components=10)),\n",
            "                ('kNN',\n",
            "                 KNeighborsClassifier(metric='manhattan', n_neighbors=8,\n",
            "                                      weights='distance'))])\n",
            "{'kNN__metric': 'manhattan', 'kNN__n_neighbors': 8, 'kNN__weights': 'distance', 'pca__n_components': 10}\n",
            "Micro KNN\n",
            "Pipeline(memory='tmp',\n",
            "         steps=[('selector', VarianceThreshold()), ('scaler', StandardScaler()),\n",
            "                ('sampler', RandomOverSampler()), ('pca', PCA(n_components=10)),\n",
            "                ('kNN',\n",
            "                 KNeighborsClassifier(metric='manhattan', n_neighbors=8,\n",
            "                                      weights='distance'))])\n",
            "{'kNN__metric': 'manhattan', 'kNN__n_neighbors': 8, 'kNN__weights': 'distance', 'pca__n_components': 10}\n"
          ],
          "name": "stdout"
        }
      ]
    },
    {
      "cell_type": "markdown",
      "metadata": {
        "id": "gKN9UajaSvdd"
      },
      "source": [
        "## *3.Για κάθε averaged metric, εκτυπώστε bar plot σύγκρισης με τις τιμές του συγκεκριμένου f1 για όλους τους classifiers.*\n"
      ]
    },
    {
      "cell_type": "code",
      "metadata": {
        "colab": {
          "base_uri": "https://localhost:8080/",
          "height": 732
        },
        "id": "ZQrRCly9S6Qm",
        "outputId": "b5878da0-f39e-45b8-a0cf-04c377737011"
      },
      "source": [
        "import matplotlib.pyplot as plt\n",
        "\n",
        "# classifiers = list(spam_pred.keys())\n",
        "\n",
        "classifiers = [\"KNN\", \"GNB\",\"MLP\",\"SVMpoly\",\"SVMrbf\",\"SVMLinear\"]\n",
        "y = np.arange(len(classifiers))\n",
        "\n",
        "fig1, ax1 = plt.subplots()\n",
        "fig1.set_size_inches(8,4)\n",
        "\n",
        "#micro_avg_f1[-1] = f1_micro[2]\n",
        "plt.bar(y, f1_micro_scores, align='center')\n",
        "plt.xticks(y, classifiers, rotation = 60, fontsize = 12)\n",
        "plt.title(\"f1 score for micro average\", fontsize = 18)\n",
        "plt.xlabel(\"$Classifiers$\", fontsize = 16)\n",
        "plt.ylabel(\"$f1\\ score$\", fontsize = 16)\n",
        "plt.show()\n",
        "\n",
        "print(\"\\n\")\n",
        "\n",
        "#Bar for f1-macro average\n",
        "fig2, ax2 = plt.subplots()\n",
        "fig2.set_size_inches(8,4)\n",
        "\n",
        "#macro_avg_f1[-1] = f1_macro[2]\n",
        "plt.bar(y, f1_macro_scores, align='center')\n",
        "plt.xticks(y, classifiers, rotation = 60, fontsize = 12)\n",
        "plt.title(\"f1 score for macro average\", fontsize = 18)\n",
        "plt.xlabel(\"$Classifiers$\", fontsize = 16)\n",
        "plt.ylabel(\"$f1\\ score$\", fontsize = 16)\n",
        "plt.show()"
      ],
      "execution_count": null,
      "outputs": [
        {
          "output_type": "display_data",
          "data": {
            "image/png": "[encoded data removed]",
            "text/plain": [
              "<Figure size 576x288 with 1 Axes>"
            ]
          },
          "metadata": {
            "tags": [],
            "needs_background": "light"
          }
        },
        {
          "output_type": "stream",
          "text": [
            "\n",
            "\n"
          ],
          "name": "stdout"
        },
        {
          "output_type": "display_data",
          "data": {
            "image/png": "[encoded data removed]",
            "text/plain": [
              "<Figure size 576x288 with 1 Axes>"
            ]
          },
          "metadata": {
            "tags": [],
            "needs_background": "light"
          }
        }
      ]
    },
    {
      "cell_type": "markdown",
      "metadata": {
        "id": "2WPmaQNxTBLZ"
      },
      "source": [
        "## *4.Τυπώστε πίνακα με τη μεταβολή της επίδοσης των ταξινομητών πριν και μετά τη βελτιστοποίησή τους.*\n"
      ]
    },
    {
      "cell_type": "code",
      "metadata": {
        "id": "HVoa7E8lTIrn",
        "colab": {
          "base_uri": "https://localhost:8080/",
          "height": 124
        },
        "outputId": "a7b7c0ed-c276-41c8-b897-8c0ab1419619"
      },
      "source": [
        "print(\"Μεταβολή επίδοσης για f1 micro\")\n",
        "micro_avg_f1=[]\n",
        "micro_avg_f1=  micro['knn'], micro['gnb'], micro['mlp'],micro['svmpoly'], micro['svmrbf'], micro['svmlinear']\n",
        "f1_progress_micro = [micro_avg_f1, f1_micro_scores]\n",
        "pd.DataFrame(f1_progress_micro, index=[\"before\", \"after\"], columns = [\"KNN\", \"GNB\",\"MLP\",\"SVMpoly\",\"SVMrbf\",\"SVMLinear\"])\n",
        "\n"
      ],
      "execution_count": null,
      "outputs": [
        {
          "output_type": "stream",
          "text": [
            "Μεταβολή επίδοσης για f1 micro\n"
          ],
          "name": "stdout"
        },
        {
          "output_type": "execute_result",
          "data": {
            "text/html": [
              "<div>\n",
              "<style scoped>\n",
              "    .dataframe tbody tr th:only-of-type {\n",
              "        vertical-align: middle;\n",
              "    }\n",
              "\n",
              "    .dataframe tbody tr th {\n",
              "        vertical-align: top;\n",
              "    }\n",
              "\n",
              "    .dataframe thead th {\n",
              "        text-align: right;\n",
              "    }\n",
              "</style>\n",
              "<table border=\"1\" class=\"dataframe\">\n",
              "  <thead>\n",
              "    <tr style=\"text-align: right;\">\n",
              "      <th></th>\n",
              "      <th>KNN</th>\n",
              "      <th>GNB</th>\n",
              "      <th>MLP</th>\n",
              "      <th>SVMpoly</th>\n",
              "      <th>SVMrbf</th>\n",
              "      <th>SVMLinear</th>\n",
              "    </tr>\n",
              "  </thead>\n",
              "  <tbody>\n",
              "    <tr>\n",
              "      <th>before</th>\n",
              "      <td>0.788468</td>\n",
              "      <td>0.722047</td>\n",
              "      <td>0.831756</td>\n",
              "      <td>0.814756</td>\n",
              "      <td>0.820189</td>\n",
              "      <td>0.761654</td>\n",
              "    </tr>\n",
              "    <tr>\n",
              "      <th>after</th>\n",
              "      <td>0.826674</td>\n",
              "      <td>0.742727</td>\n",
              "      <td>0.858395</td>\n",
              "      <td>0.841395</td>\n",
              "      <td>0.863477</td>\n",
              "      <td>0.791623</td>\n",
              "    </tr>\n",
              "  </tbody>\n",
              "</table>\n",
              "</div>"
            ],
            "text/plain": [
              "             KNN       GNB       MLP   SVMpoly    SVMrbf  SVMLinear\n",
              "before  0.788468  0.722047  0.831756  0.814756  0.820189   0.761654\n",
              "after   0.826674  0.742727  0.858395  0.841395  0.863477   0.791623"
            ]
          },
          "metadata": {
            "tags": []
          },
          "execution_count": 176
        }
      ]
    },
    {
      "cell_type": "code",
      "metadata": {
        "id": "6jAFc_rwCSBn"
      },
      "source": [
        "f1_progress_micro2=f1_progress_micro[0]\n",
        "f1_progress_micro1=f1_progress_micro[1]"
      ],
      "execution_count": null,
      "outputs": []
    },
    {
      "cell_type": "code",
      "metadata": {
        "colab": {
          "base_uri": "https://localhost:8080/",
          "height": 223
        },
        "id": "6bivjwIaBX4u",
        "outputId": "6283b1b3-357f-4a8b-d0f1-c9ebf83cb206"
      },
      "source": [
        "res = tuple(map(lambda i, j: i - j, f1_progress_micro1, f1_progress_micro2)) \n",
        "pd.DataFrame(res, index=[\"KNN\", \"GNB\",\"MLP\",\"SVMpoly\",\"SVMrbf\",\"SVMLinear\"], columns = [\"Improvement\"])\n"
      ],
      "execution_count": null,
      "outputs": [
        {
          "output_type": "execute_result",
          "data": {
            "text/html": [
              "<div>\n",
              "<style scoped>\n",
              "    .dataframe tbody tr th:only-of-type {\n",
              "        vertical-align: middle;\n",
              "    }\n",
              "\n",
              "    .dataframe tbody tr th {\n",
              "        vertical-align: top;\n",
              "    }\n",
              "\n",
              "    .dataframe thead th {\n",
              "        text-align: right;\n",
              "    }\n",
              "</style>\n",
              "<table border=\"1\" class=\"dataframe\">\n",
              "  <thead>\n",
              "    <tr style=\"text-align: right;\">\n",
              "      <th></th>\n",
              "      <th>Improvement</th>\n",
              "    </tr>\n",
              "  </thead>\n",
              "  <tbody>\n",
              "    <tr>\n",
              "      <th>KNN</th>\n",
              "      <td>0.038205</td>\n",
              "    </tr>\n",
              "    <tr>\n",
              "      <th>GNB</th>\n",
              "      <td>0.020680</td>\n",
              "    </tr>\n",
              "    <tr>\n",
              "      <th>MLP</th>\n",
              "      <td>0.026639</td>\n",
              "    </tr>\n",
              "    <tr>\n",
              "      <th>SVMpoly</th>\n",
              "      <td>0.026639</td>\n",
              "    </tr>\n",
              "    <tr>\n",
              "      <th>SVMrbf</th>\n",
              "      <td>0.043288</td>\n",
              "    </tr>\n",
              "    <tr>\n",
              "      <th>SVMLinear</th>\n",
              "      <td>0.029968</td>\n",
              "    </tr>\n",
              "  </tbody>\n",
              "</table>\n",
              "</div>"
            ],
            "text/plain": [
              "           Improvement\n",
              "KNN           0.038205\n",
              "GNB           0.020680\n",
              "MLP           0.026639\n",
              "SVMpoly       0.026639\n",
              "SVMrbf        0.043288\n",
              "SVMLinear     0.029968"
            ]
          },
          "metadata": {
            "tags": []
          },
          "execution_count": 224
        }
      ]
    },
    {
      "cell_type": "code",
      "metadata": {
        "id": "ZP2MiOVUXpG1",
        "colab": {
          "base_uri": "https://localhost:8080/",
          "height": 124
        },
        "outputId": "4e1d8c5c-e4e9-4dfc-cf8b-aa3ca59b6251"
      },
      "source": [
        "print(\"Μεταβολή επίδοσης για f1 macro\")\n",
        "macro_avg_f1=[]\n",
        "macro_avg_f1= macro['knn'], macro['gnb'], macro['mlp'],macro['svmpoly'], macro['svmrbf'], macro['svmlinear']\n",
        "f1_progress_macro = [macro_avg_f1, f1_macro_scores]\n",
        "pd.DataFrame(f1_progress_macro, index=[\"before\", \"after\"], columns = [\"KNN\", \"GNB\",\"MLP\",\"SVMpoly\",\"SVMrbf\",\"SVMLinear\"])"
      ],
      "execution_count": null,
      "outputs": [
        {
          "output_type": "stream",
          "text": [
            "Μεταβολή επίδοσης για f1 macro\n"
          ],
          "name": "stdout"
        },
        {
          "output_type": "execute_result",
          "data": {
            "text/html": [
              "<div>\n",
              "<style scoped>\n",
              "    .dataframe tbody tr th:only-of-type {\n",
              "        vertical-align: middle;\n",
              "    }\n",
              "\n",
              "    .dataframe tbody tr th {\n",
              "        vertical-align: top;\n",
              "    }\n",
              "\n",
              "    .dataframe thead th {\n",
              "        text-align: right;\n",
              "    }\n",
              "</style>\n",
              "<table border=\"1\" class=\"dataframe\">\n",
              "  <thead>\n",
              "    <tr style=\"text-align: right;\">\n",
              "      <th></th>\n",
              "      <th>KNN</th>\n",
              "      <th>GNB</th>\n",
              "      <th>MLP</th>\n",
              "      <th>SVMpoly</th>\n",
              "      <th>SVMrbf</th>\n",
              "      <th>SVMLinear</th>\n",
              "    </tr>\n",
              "  </thead>\n",
              "  <tbody>\n",
              "    <tr>\n",
              "      <th>before</th>\n",
              "      <td>0.767676</td>\n",
              "      <td>0.655094</td>\n",
              "      <td>0.817938</td>\n",
              "      <td>0.789716</td>\n",
              "      <td>0.801093</td>\n",
              "      <td>0.713267</td>\n",
              "    </tr>\n",
              "    <tr>\n",
              "      <th>after</th>\n",
              "      <td>0.807825</td>\n",
              "      <td>0.702153</td>\n",
              "      <td>0.830866</td>\n",
              "      <td>0.821405</td>\n",
              "      <td>0.848259</td>\n",
              "      <td>0.772483</td>\n",
              "    </tr>\n",
              "  </tbody>\n",
              "</table>\n",
              "</div>"
            ],
            "text/plain": [
              "             KNN       GNB       MLP   SVMpoly    SVMrbf  SVMLinear\n",
              "before  0.767676  0.655094  0.817938  0.789716  0.801093   0.713267\n",
              "after   0.807825  0.702153  0.830866  0.821405  0.848259   0.772483"
            ]
          },
          "metadata": {
            "tags": []
          },
          "execution_count": 177
        }
      ]
    },
    {
      "cell_type": "code",
      "metadata": {
        "id": "wHLyjr28GdSR"
      },
      "source": [
        "f1_progress_macro2=f1_progress_macro[0]\n",
        "f1_progress_macro1=f1_progress_macro[1]"
      ],
      "execution_count": null,
      "outputs": []
    },
    {
      "cell_type": "code",
      "metadata": {
        "colab": {
          "base_uri": "https://localhost:8080/",
          "height": 223
        },
        "id": "lX2B1OU3GljN",
        "outputId": "3bf484e2-4c87-44db-a282-e2c40e4014f5"
      },
      "source": [
        "res = tuple(map(lambda i, j: i - j, f1_progress_macro1, f1_progress_macro2)) \n",
        "pd.DataFrame(res, index=[\"KNN\", \"GNB\",\"MLP\",\"SVMpoly\",\"SVMrbf\",\"SVMLinear\"], columns = [\"Improvement\"])"
      ],
      "execution_count": null,
      "outputs": [
        {
          "output_type": "execute_result",
          "data": {
            "text/html": [
              "<div>\n",
              "<style scoped>\n",
              "    .dataframe tbody tr th:only-of-type {\n",
              "        vertical-align: middle;\n",
              "    }\n",
              "\n",
              "    .dataframe tbody tr th {\n",
              "        vertical-align: top;\n",
              "    }\n",
              "\n",
              "    .dataframe thead th {\n",
              "        text-align: right;\n",
              "    }\n",
              "</style>\n",
              "<table border=\"1\" class=\"dataframe\">\n",
              "  <thead>\n",
              "    <tr style=\"text-align: right;\">\n",
              "      <th></th>\n",
              "      <th>Improvement</th>\n",
              "    </tr>\n",
              "  </thead>\n",
              "  <tbody>\n",
              "    <tr>\n",
              "      <th>KNN</th>\n",
              "      <td>0.040149</td>\n",
              "    </tr>\n",
              "    <tr>\n",
              "      <th>GNB</th>\n",
              "      <td>0.047059</td>\n",
              "    </tr>\n",
              "    <tr>\n",
              "      <th>MLP</th>\n",
              "      <td>0.012928</td>\n",
              "    </tr>\n",
              "    <tr>\n",
              "      <th>SVMpoly</th>\n",
              "      <td>0.031688</td>\n",
              "    </tr>\n",
              "    <tr>\n",
              "      <th>SVMrbf</th>\n",
              "      <td>0.047166</td>\n",
              "    </tr>\n",
              "    <tr>\n",
              "      <th>SVMLinear</th>\n",
              "      <td>0.059215</td>\n",
              "    </tr>\n",
              "  </tbody>\n",
              "</table>\n",
              "</div>"
            ],
            "text/plain": [
              "           Improvement\n",
              "KNN           0.040149\n",
              "GNB           0.047059\n",
              "MLP           0.012928\n",
              "SVMpoly       0.031688\n",
              "SVMrbf        0.047166\n",
              "SVMLinear     0.059215"
            ]
          },
          "metadata": {
            "tags": []
          },
          "execution_count": 228
        }
      ]
    },
    {
      "cell_type": "code",
      "metadata": {
        "id": "fQdvZ3cELjGI",
        "colab": {
          "base_uri": "https://localhost:8080/"
        },
        "outputId": "a8521c40-8435-413a-a8d9-424e5f66c419"
      },
      "source": [
        "micro"
      ],
      "execution_count": null,
      "outputs": [
        {
          "output_type": "execute_result",
          "data": {
            "text/plain": [
              "{'gnb': 0.7220469681037505,\n",
              " 'knn': 0.7884682790045567,\n",
              " 'mlp': 0.8317560462670873,\n",
              " 'most_frequent': 0.6465124430424115,\n",
              " 'stratified': 0.5112162635821942,\n",
              " 'svmlinear': 0.7616543988783736,\n",
              " 'svmpoly': 0.8147563967753243,\n",
              " 'svmrbf': 0.8201892744479494,\n",
              " 'uniform': 0.4977216964598668}"
            ]
          },
          "metadata": {
            "tags": []
          },
          "execution_count": 178
        }
      ]
    },
    {
      "cell_type": "code",
      "metadata": {
        "colab": {
          "base_uri": "https://localhost:8080/"
        },
        "id": "QwLcZ6k2Uiss",
        "outputId": "3ec8d318-b0d1-43f9-f0cb-5098ccb6b6ca"
      },
      "source": [
        "macro"
      ],
      "execution_count": null,
      "outputs": [
        {
          "output_type": "execute_result",
          "data": {
            "text/plain": [
              "{'gnb': 0.6550943965753802,\n",
              " 'knn': 0.7676762371491294,\n",
              " 'mlp': 0.8179375105443327,\n",
              " 'most_frequent': 0.3926556679084619,\n",
              " 'stratified': 0.49966483526278244,\n",
              " 'svmlinear': 0.7132673911196012,\n",
              " 'svmpoly': 0.7897164633269385,\n",
              " 'svmrbf': 0.8010928829558178,\n",
              " 'uniform': 0.486432189209967}"
            ]
          },
          "metadata": {
            "tags": []
          },
          "execution_count": 179
        }
      ]
    },
    {
      "cell_type": "markdown",
      "metadata": {
        "id": "a9ldCSGebCnm"
      },
      "source": [
        "## *5. Σχολιάστε τα αποτελέσματα των plots και των τιμών precision, recall, f1 των πινάκων σύγχυσης, τη μεταβολή της απόδοσης και τους χρόνους εκτέλεσης.*\n"
      ]
    },
    {
      "cell_type": "code",
      "metadata": {
        "id": "ZmZgNj9JbJ5z",
        "colab": {
          "base_uri": "https://localhost:8080/"
        },
        "outputId": "cb8340dc-9650-4b91-c9bc-d6b710bd4146"
      },
      "source": [
        "classif = [\"KNN\", \"GNB\",\"MLP\",\"SVMpoly\",\"SVMrbf\",\"SVMLinear\"]\n",
        "j=0\n",
        "for i in cnf_matrix_micro:\n",
        "    print(\"Confusion matrix for f1 micro\", classif[j])\n",
        "    j+=1\n",
        "    print(i)\n",
        "j=0\n",
        "for i in cnf_matrix_macro:\n",
        "    print(\"Confusion matrix for f1 macro\", classif[j])\n",
        "    j+=1\n",
        "    print(i)"
      ],
      "execution_count": null,
      "outputs": [
        {
          "output_type": "stream",
          "text": [
            "Confusion matrix for f1 micro KNN\n",
            "[[3252  437]\n",
            " [ 552 1465]]\n",
            "Confusion matrix for f1 micro GNB\n",
            "[[3172  517]\n",
            " [ 951 1066]]\n",
            "Confusion matrix for f1 micro MLP\n",
            "[[3274  415]\n",
            " [ 393 1624]]\n",
            "Confusion matrix for f1 micro SVMpoly\n",
            "[[3355  334]\n",
            " [ 571 1446]]\n",
            "Confusion matrix for f1 micro SVMrbf\n",
            "[[3367  322]\n",
            " [ 457 1560]]\n",
            "Confusion matrix for f1 micro SVMLinear\n",
            "[[3096  593]\n",
            " [ 596 1421]]\n",
            "Confusion matrix for f1 macro KNN\n",
            "[[3252  437]\n",
            " [ 552 1465]]\n",
            "Confusion matrix for f1 macro GNB\n",
            "[[3172  517]\n",
            " [ 951 1066]]\n",
            "Confusion matrix for f1 macro MLP\n",
            "[[3271  418]\n",
            " [ 460 1557]]\n",
            "Confusion matrix for f1 macro SVMpoly\n",
            "[[3355  334]\n",
            " [ 571 1446]]\n",
            "Confusion matrix for f1 macro SVMrbf\n",
            "[[3367  322]\n",
            " [ 457 1560]]\n",
            "Confusion matrix for f1 macro SVMLinear\n",
            "[[3086  603]\n",
            " [ 586 1431]]\n"
          ],
          "name": "stdout"
        }
      ]
    },
    {
      "cell_type": "markdown",
      "metadata": {
        "id": "vAvtKJP1MAdW"
      },
      "source": [
        "-Aκολουθήσαμε μια bottom-up λογική για να επιλέξουμε τις βέλτιστες υπερπαραμέτρους pre-processing και training του dataset, ούτως ώστε να αυξήσουμε το accuracy της ταξινόμησης. Τα αποτελέσματα προφανώς είναι ταυτόσημα για τους dummy classifiers και τον Naive Bayes, οι οποίοι ταξινομητές δεν έχουν παραμέτρους προς βελτιστοποίηση. Aπό την άλλη, παρατηρούμε, όπως φαίνεται και στον optimization table, πως το tuning καταφέρνει να βελτιώσει αισθητά την επίδοση τόσο του k-NN όσο κυρίως του MLP Classifier που είχε και τις περισσότερες διαθέσιμες υπερπαραμέτρους αλλα και του SVM για τις διαφορες αρχιτεκτονικες πυρηνων(linear,poly,rbf). Όσον αφορά το classification accuracy, το καλύτερο ποσοστό το πετυχαίνει ο SVM για αρχιτεκτονικη πυρηνα rbf ο οποίος συνιστά πράγματι ένα ικανοποιητικό μοντέλο για το συγκεκριμένο task, με ποσοστό επιτυχίας κοντά στο 85%."
      ]
    }
  ]
}