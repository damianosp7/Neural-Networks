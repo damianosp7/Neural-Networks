{
  "nbformat": 4,
  "nbformat_minor": 0,
  "metadata": {
    "colab": {
      "name": "ela_xaralampe_mou_eisai_ok_me_touto_to_onoma.ipynb",
      "provenance": [],
      "collapsed_sections": []
    },
    "kernelspec": {
      "name": "python3",
      "display_name": "Python 3"
    }
  },
  "cells": [
    {
      "cell_type": "markdown",
      "metadata": {
        "id": "QLAE2-rKD3s1"
      },
      "source": [
        "#<center>**Άσκηση 1. Επιβλεπόμενη Μάθηση: Ταξινόμηση. Μελέτη datasets του UCI Machine Learning Repository**</center>\r\n",
        "\r\n",
        "\r\n"
      ]
    },
    {
      "cell_type": "markdown",
      "metadata": {
        "id": "2HQKqKejD38R"
      },
      "source": [
        "# I. Στοιχεία ομάδας 19\r\n",
        "\r\n",
        "1.   Δαμιανός Παππάς       , ΑΜ: 03116608\r\n",
        "2.   Χαράλαμπος Ρωσσίδης, ΑΜ: 03116701\r\n",
        "3.   Νεκτάριος Ματσάγκος, ΑΜ: 03116709"
      ]
    },
    {
      "cell_type": "code",
      "metadata": {
        "id": "3D031Qw9HNfT",
        "colab": {
          "base_uri": "https://localhost:8080/"
        },
        "outputId": "a5ac4438-71ff-489a-f3f0-63a1ba91cc2a"
      },
      "source": [
        "!pip install --upgrade pip \n",
        "!pip install scikit-learn --upgrade \n",
        "!pip install numpy --upgrade \n",
        "!pip install pandas --upgrade\n",
        "!pip install --upgrade matplotlib"
      ],
      "execution_count": 35,
      "outputs": [
        {
          "output_type": "stream",
          "text": [
            "Requirement already satisfied: pip in /usr/local/lib/python3.6/dist-packages (20.3.1)\n",
            "Requirement already satisfied: scikit-learn in /usr/local/lib/python3.6/dist-packages (0.23.2)\n",
            "Requirement already satisfied: numpy>=1.13.3 in /usr/local/lib/python3.6/dist-packages (from scikit-learn) (1.19.4)\n",
            "Requirement already satisfied: joblib>=0.11 in /usr/local/lib/python3.6/dist-packages (from scikit-learn) (0.17.0)\n",
            "Requirement already satisfied: threadpoolctl>=2.0.0 in /usr/local/lib/python3.6/dist-packages (from scikit-learn) (2.1.0)\n",
            "Requirement already satisfied: scipy>=0.19.1 in /usr/local/lib/python3.6/dist-packages (from scikit-learn) (1.4.1)\n",
            "Requirement already satisfied: numpy>=1.13.3 in /usr/local/lib/python3.6/dist-packages (from scikit-learn) (1.19.4)\n",
            "Requirement already satisfied: numpy in /usr/local/lib/python3.6/dist-packages (1.19.4)\n",
            "Requirement already satisfied: pandas in /usr/local/lib/python3.6/dist-packages (1.1.5)\n",
            "Requirement already satisfied: numpy>=1.15.4 in /usr/local/lib/python3.6/dist-packages (from pandas) (1.19.4)\n",
            "Requirement already satisfied: pytz>=2017.2 in /usr/local/lib/python3.6/dist-packages (from pandas) (2018.9)\n",
            "Requirement already satisfied: python-dateutil>=2.7.3 in /usr/local/lib/python3.6/dist-packages (from pandas) (2.8.1)\n",
            "Requirement already satisfied: six>=1.5 in /usr/local/lib/python3.6/dist-packages (from python-dateutil>=2.7.3->pandas) (1.15.0)\n",
            "Requirement already satisfied: matplotlib in /usr/local/lib/python3.6/dist-packages (3.3.3)\n",
            "Requirement already satisfied: pillow>=6.2.0 in /usr/local/lib/python3.6/dist-packages (from matplotlib) (7.0.0)\n",
            "Requirement already satisfied: numpy>=1.15 in /usr/local/lib/python3.6/dist-packages (from matplotlib) (1.19.4)\n",
            "Requirement already satisfied: cycler>=0.10 in /usr/local/lib/python3.6/dist-packages (from matplotlib) (0.10.0)\n",
            "Requirement already satisfied: python-dateutil>=2.1 in /usr/local/lib/python3.6/dist-packages (from matplotlib) (2.8.1)\n",
            "Requirement already satisfied: kiwisolver>=1.0.1 in /usr/local/lib/python3.6/dist-packages (from matplotlib) (1.3.1)\n",
            "Requirement already satisfied: pyparsing!=2.0.4,!=2.1.2,!=2.1.6,>=2.0.3 in /usr/local/lib/python3.6/dist-packages (from matplotlib) (2.4.7)\n",
            "Requirement already satisfied: six in /usr/local/lib/python3.6/dist-packages (from cycler>=0.10->matplotlib) (1.15.0)\n",
            "Requirement already satisfied: six in /usr/local/lib/python3.6/dist-packages (from cycler>=0.10->matplotlib) (1.15.0)\n"
          ],
          "name": "stdout"
        }
      ]
    },
    {
      "cell_type": "markdown",
      "metadata": {
        "id": "ad7Qas8_EZ-L"
      },
      "source": [
        "# II. Βασικές πληροφορίες"
      ]
    },
    {
      "cell_type": "markdown",
      "metadata": {
        "id": "dvPhbmjgEbBM"
      },
      "source": [
        "###1.Σύντομη παρουσίαση του dataset (τι περιγράφει)."
      ]
    },
    {
      "cell_type": "markdown",
      "metadata": {
        "id": "PKPCv2CIEokw"
      },
      "source": [
        "The purpose is to classify a given silhouette as one of four types of vehicle, using a set of features extracted from the silhouette"
      ]
    },
    {
      "cell_type": "markdown",
      "metadata": {
        "id": "hiHmu-LrFL8_"
      },
      "source": [
        "### *2. Αριθμός δειγμάτων και χαρακτηριστικών, είδος χαρακτηριστικών. Υπάρχουν μη διατεταγμένα χαρακτηριστικά και ποια είναι αυτά;*\r\n"
      ]
    },
    {
      "cell_type": "code",
      "metadata": {
        "id": "K5CDh-09GfQt",
        "colab": {
          "base_uri": "https://localhost:8080/",
          "height": 419
        },
        "outputId": "e72c5fa6-8bb2-4ec2-c65d-26689a4b6303"
      },
      "source": [
        "import pandas as pd\n",
        "data= pd.read_csv(\"all.csv\",delim_whitespace=True,header=None)\n",
        "data"
      ],
      "execution_count": 36,
      "outputs": [
        {
          "output_type": "execute_result",
          "data": {
            "text/html": [
              "<div>\n",
              "<style scoped>\n",
              "    .dataframe tbody tr th:only-of-type {\n",
              "        vertical-align: middle;\n",
              "    }\n",
              "\n",
              "    .dataframe tbody tr th {\n",
              "        vertical-align: top;\n",
              "    }\n",
              "\n",
              "    .dataframe thead th {\n",
              "        text-align: right;\n",
              "    }\n",
              "</style>\n",
              "<table border=\"1\" class=\"dataframe\">\n",
              "  <thead>\n",
              "    <tr style=\"text-align: right;\">\n",
              "      <th></th>\n",
              "      <th>0</th>\n",
              "      <th>1</th>\n",
              "      <th>2</th>\n",
              "      <th>3</th>\n",
              "      <th>4</th>\n",
              "      <th>5</th>\n",
              "      <th>6</th>\n",
              "      <th>7</th>\n",
              "      <th>8</th>\n",
              "      <th>9</th>\n",
              "      <th>10</th>\n",
              "      <th>11</th>\n",
              "      <th>12</th>\n",
              "      <th>13</th>\n",
              "      <th>14</th>\n",
              "      <th>15</th>\n",
              "      <th>16</th>\n",
              "      <th>17</th>\n",
              "      <th>18</th>\n",
              "    </tr>\n",
              "  </thead>\n",
              "  <tbody>\n",
              "    <tr>\n",
              "      <th>0</th>\n",
              "      <td>95</td>\n",
              "      <td>48</td>\n",
              "      <td>83</td>\n",
              "      <td>178</td>\n",
              "      <td>72</td>\n",
              "      <td>10</td>\n",
              "      <td>162</td>\n",
              "      <td>42</td>\n",
              "      <td>20</td>\n",
              "      <td>159</td>\n",
              "      <td>176</td>\n",
              "      <td>379</td>\n",
              "      <td>184</td>\n",
              "      <td>70</td>\n",
              "      <td>6</td>\n",
              "      <td>16</td>\n",
              "      <td>187</td>\n",
              "      <td>197</td>\n",
              "      <td>van</td>\n",
              "    </tr>\n",
              "    <tr>\n",
              "      <th>1</th>\n",
              "      <td>91</td>\n",
              "      <td>41</td>\n",
              "      <td>84</td>\n",
              "      <td>141</td>\n",
              "      <td>57</td>\n",
              "      <td>9</td>\n",
              "      <td>149</td>\n",
              "      <td>45</td>\n",
              "      <td>19</td>\n",
              "      <td>143</td>\n",
              "      <td>170</td>\n",
              "      <td>330</td>\n",
              "      <td>158</td>\n",
              "      <td>72</td>\n",
              "      <td>9</td>\n",
              "      <td>14</td>\n",
              "      <td>189</td>\n",
              "      <td>199</td>\n",
              "      <td>van</td>\n",
              "    </tr>\n",
              "    <tr>\n",
              "      <th>2</th>\n",
              "      <td>104</td>\n",
              "      <td>50</td>\n",
              "      <td>106</td>\n",
              "      <td>209</td>\n",
              "      <td>66</td>\n",
              "      <td>10</td>\n",
              "      <td>207</td>\n",
              "      <td>32</td>\n",
              "      <td>23</td>\n",
              "      <td>158</td>\n",
              "      <td>223</td>\n",
              "      <td>635</td>\n",
              "      <td>220</td>\n",
              "      <td>73</td>\n",
              "      <td>14</td>\n",
              "      <td>9</td>\n",
              "      <td>188</td>\n",
              "      <td>196</td>\n",
              "      <td>saab</td>\n",
              "    </tr>\n",
              "    <tr>\n",
              "      <th>3</th>\n",
              "      <td>93</td>\n",
              "      <td>41</td>\n",
              "      <td>82</td>\n",
              "      <td>159</td>\n",
              "      <td>63</td>\n",
              "      <td>9</td>\n",
              "      <td>144</td>\n",
              "      <td>46</td>\n",
              "      <td>19</td>\n",
              "      <td>143</td>\n",
              "      <td>160</td>\n",
              "      <td>309</td>\n",
              "      <td>127</td>\n",
              "      <td>63</td>\n",
              "      <td>6</td>\n",
              "      <td>10</td>\n",
              "      <td>199</td>\n",
              "      <td>207</td>\n",
              "      <td>van</td>\n",
              "    </tr>\n",
              "    <tr>\n",
              "      <th>4</th>\n",
              "      <td>85</td>\n",
              "      <td>44</td>\n",
              "      <td>70</td>\n",
              "      <td>205</td>\n",
              "      <td>103</td>\n",
              "      <td>52</td>\n",
              "      <td>149</td>\n",
              "      <td>45</td>\n",
              "      <td>19</td>\n",
              "      <td>144</td>\n",
              "      <td>241</td>\n",
              "      <td>325</td>\n",
              "      <td>188</td>\n",
              "      <td>127</td>\n",
              "      <td>9</td>\n",
              "      <td>11</td>\n",
              "      <td>180</td>\n",
              "      <td>183</td>\n",
              "      <td>bus</td>\n",
              "    </tr>\n",
              "    <tr>\n",
              "      <th>...</th>\n",
              "      <td>...</td>\n",
              "      <td>...</td>\n",
              "      <td>...</td>\n",
              "      <td>...</td>\n",
              "      <td>...</td>\n",
              "      <td>...</td>\n",
              "      <td>...</td>\n",
              "      <td>...</td>\n",
              "      <td>...</td>\n",
              "      <td>...</td>\n",
              "      <td>...</td>\n",
              "      <td>...</td>\n",
              "      <td>...</td>\n",
              "      <td>...</td>\n",
              "      <td>...</td>\n",
              "      <td>...</td>\n",
              "      <td>...</td>\n",
              "      <td>...</td>\n",
              "      <td>...</td>\n",
              "    </tr>\n",
              "    <tr>\n",
              "      <th>841</th>\n",
              "      <td>93</td>\n",
              "      <td>39</td>\n",
              "      <td>87</td>\n",
              "      <td>183</td>\n",
              "      <td>64</td>\n",
              "      <td>8</td>\n",
              "      <td>169</td>\n",
              "      <td>40</td>\n",
              "      <td>20</td>\n",
              "      <td>134</td>\n",
              "      <td>200</td>\n",
              "      <td>422</td>\n",
              "      <td>149</td>\n",
              "      <td>72</td>\n",
              "      <td>7</td>\n",
              "      <td>25</td>\n",
              "      <td>188</td>\n",
              "      <td>195</td>\n",
              "      <td>saab</td>\n",
              "    </tr>\n",
              "    <tr>\n",
              "      <th>842</th>\n",
              "      <td>89</td>\n",
              "      <td>46</td>\n",
              "      <td>84</td>\n",
              "      <td>163</td>\n",
              "      <td>66</td>\n",
              "      <td>11</td>\n",
              "      <td>159</td>\n",
              "      <td>43</td>\n",
              "      <td>20</td>\n",
              "      <td>159</td>\n",
              "      <td>173</td>\n",
              "      <td>368</td>\n",
              "      <td>176</td>\n",
              "      <td>72</td>\n",
              "      <td>1</td>\n",
              "      <td>20</td>\n",
              "      <td>186</td>\n",
              "      <td>197</td>\n",
              "      <td>van</td>\n",
              "    </tr>\n",
              "    <tr>\n",
              "      <th>843</th>\n",
              "      <td>106</td>\n",
              "      <td>54</td>\n",
              "      <td>101</td>\n",
              "      <td>222</td>\n",
              "      <td>67</td>\n",
              "      <td>12</td>\n",
              "      <td>222</td>\n",
              "      <td>30</td>\n",
              "      <td>25</td>\n",
              "      <td>173</td>\n",
              "      <td>228</td>\n",
              "      <td>721</td>\n",
              "      <td>200</td>\n",
              "      <td>70</td>\n",
              "      <td>3</td>\n",
              "      <td>4</td>\n",
              "      <td>187</td>\n",
              "      <td>201</td>\n",
              "      <td>saab</td>\n",
              "    </tr>\n",
              "    <tr>\n",
              "      <th>844</th>\n",
              "      <td>86</td>\n",
              "      <td>36</td>\n",
              "      <td>78</td>\n",
              "      <td>146</td>\n",
              "      <td>58</td>\n",
              "      <td>7</td>\n",
              "      <td>135</td>\n",
              "      <td>50</td>\n",
              "      <td>18</td>\n",
              "      <td>124</td>\n",
              "      <td>155</td>\n",
              "      <td>270</td>\n",
              "      <td>148</td>\n",
              "      <td>66</td>\n",
              "      <td>0</td>\n",
              "      <td>25</td>\n",
              "      <td>190</td>\n",
              "      <td>195</td>\n",
              "      <td>saab</td>\n",
              "    </tr>\n",
              "    <tr>\n",
              "      <th>845</th>\n",
              "      <td>85</td>\n",
              "      <td>36</td>\n",
              "      <td>66</td>\n",
              "      <td>123</td>\n",
              "      <td>55</td>\n",
              "      <td>5</td>\n",
              "      <td>120</td>\n",
              "      <td>56</td>\n",
              "      <td>17</td>\n",
              "      <td>128</td>\n",
              "      <td>140</td>\n",
              "      <td>212</td>\n",
              "      <td>131</td>\n",
              "      <td>73</td>\n",
              "      <td>1</td>\n",
              "      <td>18</td>\n",
              "      <td>186</td>\n",
              "      <td>190</td>\n",
              "      <td>van</td>\n",
              "    </tr>\n",
              "  </tbody>\n",
              "</table>\n",
              "<p>846 rows × 19 columns</p>\n",
              "</div>"
            ],
            "text/plain": [
              "      0   1    2    3    4   5    6   7   ...   11   12   13  14  15   16   17    18\n",
              "0     95  48   83  178   72  10  162  42  ...  379  184   70   6  16  187  197   van\n",
              "1     91  41   84  141   57   9  149  45  ...  330  158   72   9  14  189  199   van\n",
              "2    104  50  106  209   66  10  207  32  ...  635  220   73  14   9  188  196  saab\n",
              "3     93  41   82  159   63   9  144  46  ...  309  127   63   6  10  199  207   van\n",
              "4     85  44   70  205  103  52  149  45  ...  325  188  127   9  11  180  183   bus\n",
              "..   ...  ..  ...  ...  ...  ..  ...  ..  ...  ...  ...  ...  ..  ..  ...  ...   ...\n",
              "841   93  39   87  183   64   8  169  40  ...  422  149   72   7  25  188  195  saab\n",
              "842   89  46   84  163   66  11  159  43  ...  368  176   72   1  20  186  197   van\n",
              "843  106  54  101  222   67  12  222  30  ...  721  200   70   3   4  187  201  saab\n",
              "844   86  36   78  146   58   7  135  50  ...  270  148   66   0  25  190  195  saab\n",
              "845   85  36   66  123   55   5  120  56  ...  212  131   73   1  18  186  190   van\n",
              "\n",
              "[846 rows x 19 columns]"
            ]
          },
          "metadata": {
            "tags": []
          },
          "execution_count": 36
        }
      ]
    },
    {
      "cell_type": "code",
      "metadata": {
        "id": "VeuxI4iTIv3q",
        "colab": {
          "base_uri": "https://localhost:8080/"
        },
        "outputId": "daf81eea-079c-45ce-fbff-5d2cb0603bd7"
      },
      "source": [
        "import numpy as np\n",
        "labels = data.iloc[:, 18]\n",
        "labels"
      ],
      "execution_count": 37,
      "outputs": [
        {
          "output_type": "execute_result",
          "data": {
            "text/plain": [
              "0       van\n",
              "1       van\n",
              "2      saab\n",
              "3       van\n",
              "4       bus\n",
              "       ... \n",
              "841    saab\n",
              "842     van\n",
              "843    saab\n",
              "844    saab\n",
              "845     van\n",
              "Name: 18, Length: 846, dtype: object"
            ]
          },
          "metadata": {
            "tags": []
          },
          "execution_count": 37
        }
      ]
    },
    {
      "cell_type": "markdown",
      "metadata": {
        "id": "itRwWDFVJHlp"
      },
      "source": [
        "- Ο αριθμός δειγμάτων είναι 846, τα χαρακτηριστικά τους είναι 18 και το είδος τους είναι object. Δεν υπάρχουν μη διατεταγμένα χαρακτηριστικά."
      ]
    },
    {
      "cell_type": "markdown",
      "metadata": {
        "id": "pMrkcZkKJYnU"
      },
      "source": [
        "### *3. Υπάρχουν επικεφαλίδες; Αρίθμηση γραμμών;*"
      ]
    },
    {
      "cell_type": "markdown",
      "metadata": {
        "id": "RbiijpW_Jhk9"
      },
      "source": [
        "- Δεν υπάρχουν επικεφαλίδες ούτε αρίθμηση γραμμών."
      ]
    },
    {
      "cell_type": "code",
      "metadata": {
        "id": "E-8BlrOa4kB8",
        "colab": {
          "base_uri": "https://localhost:8080/",
          "height": 419
        },
        "outputId": "a19b84fa-4e71-4b59-c5e0-d1ab14703eca"
      },
      "source": [
        "features = data.iloc[:, 0:18]\n",
        "features"
      ],
      "execution_count": 38,
      "outputs": [
        {
          "output_type": "execute_result",
          "data": {
            "text/html": [
              "<div>\n",
              "<style scoped>\n",
              "    .dataframe tbody tr th:only-of-type {\n",
              "        vertical-align: middle;\n",
              "    }\n",
              "\n",
              "    .dataframe tbody tr th {\n",
              "        vertical-align: top;\n",
              "    }\n",
              "\n",
              "    .dataframe thead th {\n",
              "        text-align: right;\n",
              "    }\n",
              "</style>\n",
              "<table border=\"1\" class=\"dataframe\">\n",
              "  <thead>\n",
              "    <tr style=\"text-align: right;\">\n",
              "      <th></th>\n",
              "      <th>0</th>\n",
              "      <th>1</th>\n",
              "      <th>2</th>\n",
              "      <th>3</th>\n",
              "      <th>4</th>\n",
              "      <th>5</th>\n",
              "      <th>6</th>\n",
              "      <th>7</th>\n",
              "      <th>8</th>\n",
              "      <th>9</th>\n",
              "      <th>10</th>\n",
              "      <th>11</th>\n",
              "      <th>12</th>\n",
              "      <th>13</th>\n",
              "      <th>14</th>\n",
              "      <th>15</th>\n",
              "      <th>16</th>\n",
              "      <th>17</th>\n",
              "    </tr>\n",
              "  </thead>\n",
              "  <tbody>\n",
              "    <tr>\n",
              "      <th>0</th>\n",
              "      <td>95</td>\n",
              "      <td>48</td>\n",
              "      <td>83</td>\n",
              "      <td>178</td>\n",
              "      <td>72</td>\n",
              "      <td>10</td>\n",
              "      <td>162</td>\n",
              "      <td>42</td>\n",
              "      <td>20</td>\n",
              "      <td>159</td>\n",
              "      <td>176</td>\n",
              "      <td>379</td>\n",
              "      <td>184</td>\n",
              "      <td>70</td>\n",
              "      <td>6</td>\n",
              "      <td>16</td>\n",
              "      <td>187</td>\n",
              "      <td>197</td>\n",
              "    </tr>\n",
              "    <tr>\n",
              "      <th>1</th>\n",
              "      <td>91</td>\n",
              "      <td>41</td>\n",
              "      <td>84</td>\n",
              "      <td>141</td>\n",
              "      <td>57</td>\n",
              "      <td>9</td>\n",
              "      <td>149</td>\n",
              "      <td>45</td>\n",
              "      <td>19</td>\n",
              "      <td>143</td>\n",
              "      <td>170</td>\n",
              "      <td>330</td>\n",
              "      <td>158</td>\n",
              "      <td>72</td>\n",
              "      <td>9</td>\n",
              "      <td>14</td>\n",
              "      <td>189</td>\n",
              "      <td>199</td>\n",
              "    </tr>\n",
              "    <tr>\n",
              "      <th>2</th>\n",
              "      <td>104</td>\n",
              "      <td>50</td>\n",
              "      <td>106</td>\n",
              "      <td>209</td>\n",
              "      <td>66</td>\n",
              "      <td>10</td>\n",
              "      <td>207</td>\n",
              "      <td>32</td>\n",
              "      <td>23</td>\n",
              "      <td>158</td>\n",
              "      <td>223</td>\n",
              "      <td>635</td>\n",
              "      <td>220</td>\n",
              "      <td>73</td>\n",
              "      <td>14</td>\n",
              "      <td>9</td>\n",
              "      <td>188</td>\n",
              "      <td>196</td>\n",
              "    </tr>\n",
              "    <tr>\n",
              "      <th>3</th>\n",
              "      <td>93</td>\n",
              "      <td>41</td>\n",
              "      <td>82</td>\n",
              "      <td>159</td>\n",
              "      <td>63</td>\n",
              "      <td>9</td>\n",
              "      <td>144</td>\n",
              "      <td>46</td>\n",
              "      <td>19</td>\n",
              "      <td>143</td>\n",
              "      <td>160</td>\n",
              "      <td>309</td>\n",
              "      <td>127</td>\n",
              "      <td>63</td>\n",
              "      <td>6</td>\n",
              "      <td>10</td>\n",
              "      <td>199</td>\n",
              "      <td>207</td>\n",
              "    </tr>\n",
              "    <tr>\n",
              "      <th>4</th>\n",
              "      <td>85</td>\n",
              "      <td>44</td>\n",
              "      <td>70</td>\n",
              "      <td>205</td>\n",
              "      <td>103</td>\n",
              "      <td>52</td>\n",
              "      <td>149</td>\n",
              "      <td>45</td>\n",
              "      <td>19</td>\n",
              "      <td>144</td>\n",
              "      <td>241</td>\n",
              "      <td>325</td>\n",
              "      <td>188</td>\n",
              "      <td>127</td>\n",
              "      <td>9</td>\n",
              "      <td>11</td>\n",
              "      <td>180</td>\n",
              "      <td>183</td>\n",
              "    </tr>\n",
              "    <tr>\n",
              "      <th>...</th>\n",
              "      <td>...</td>\n",
              "      <td>...</td>\n",
              "      <td>...</td>\n",
              "      <td>...</td>\n",
              "      <td>...</td>\n",
              "      <td>...</td>\n",
              "      <td>...</td>\n",
              "      <td>...</td>\n",
              "      <td>...</td>\n",
              "      <td>...</td>\n",
              "      <td>...</td>\n",
              "      <td>...</td>\n",
              "      <td>...</td>\n",
              "      <td>...</td>\n",
              "      <td>...</td>\n",
              "      <td>...</td>\n",
              "      <td>...</td>\n",
              "      <td>...</td>\n",
              "    </tr>\n",
              "    <tr>\n",
              "      <th>841</th>\n",
              "      <td>93</td>\n",
              "      <td>39</td>\n",
              "      <td>87</td>\n",
              "      <td>183</td>\n",
              "      <td>64</td>\n",
              "      <td>8</td>\n",
              "      <td>169</td>\n",
              "      <td>40</td>\n",
              "      <td>20</td>\n",
              "      <td>134</td>\n",
              "      <td>200</td>\n",
              "      <td>422</td>\n",
              "      <td>149</td>\n",
              "      <td>72</td>\n",
              "      <td>7</td>\n",
              "      <td>25</td>\n",
              "      <td>188</td>\n",
              "      <td>195</td>\n",
              "    </tr>\n",
              "    <tr>\n",
              "      <th>842</th>\n",
              "      <td>89</td>\n",
              "      <td>46</td>\n",
              "      <td>84</td>\n",
              "      <td>163</td>\n",
              "      <td>66</td>\n",
              "      <td>11</td>\n",
              "      <td>159</td>\n",
              "      <td>43</td>\n",
              "      <td>20</td>\n",
              "      <td>159</td>\n",
              "      <td>173</td>\n",
              "      <td>368</td>\n",
              "      <td>176</td>\n",
              "      <td>72</td>\n",
              "      <td>1</td>\n",
              "      <td>20</td>\n",
              "      <td>186</td>\n",
              "      <td>197</td>\n",
              "    </tr>\n",
              "    <tr>\n",
              "      <th>843</th>\n",
              "      <td>106</td>\n",
              "      <td>54</td>\n",
              "      <td>101</td>\n",
              "      <td>222</td>\n",
              "      <td>67</td>\n",
              "      <td>12</td>\n",
              "      <td>222</td>\n",
              "      <td>30</td>\n",
              "      <td>25</td>\n",
              "      <td>173</td>\n",
              "      <td>228</td>\n",
              "      <td>721</td>\n",
              "      <td>200</td>\n",
              "      <td>70</td>\n",
              "      <td>3</td>\n",
              "      <td>4</td>\n",
              "      <td>187</td>\n",
              "      <td>201</td>\n",
              "    </tr>\n",
              "    <tr>\n",
              "      <th>844</th>\n",
              "      <td>86</td>\n",
              "      <td>36</td>\n",
              "      <td>78</td>\n",
              "      <td>146</td>\n",
              "      <td>58</td>\n",
              "      <td>7</td>\n",
              "      <td>135</td>\n",
              "      <td>50</td>\n",
              "      <td>18</td>\n",
              "      <td>124</td>\n",
              "      <td>155</td>\n",
              "      <td>270</td>\n",
              "      <td>148</td>\n",
              "      <td>66</td>\n",
              "      <td>0</td>\n",
              "      <td>25</td>\n",
              "      <td>190</td>\n",
              "      <td>195</td>\n",
              "    </tr>\n",
              "    <tr>\n",
              "      <th>845</th>\n",
              "      <td>85</td>\n",
              "      <td>36</td>\n",
              "      <td>66</td>\n",
              "      <td>123</td>\n",
              "      <td>55</td>\n",
              "      <td>5</td>\n",
              "      <td>120</td>\n",
              "      <td>56</td>\n",
              "      <td>17</td>\n",
              "      <td>128</td>\n",
              "      <td>140</td>\n",
              "      <td>212</td>\n",
              "      <td>131</td>\n",
              "      <td>73</td>\n",
              "      <td>1</td>\n",
              "      <td>18</td>\n",
              "      <td>186</td>\n",
              "      <td>190</td>\n",
              "    </tr>\n",
              "  </tbody>\n",
              "</table>\n",
              "<p>846 rows × 18 columns</p>\n",
              "</div>"
            ],
            "text/plain": [
              "      0   1    2    3    4   5    6   7   ...   10   11   12   13  14  15   16   17\n",
              "0     95  48   83  178   72  10  162  42  ...  176  379  184   70   6  16  187  197\n",
              "1     91  41   84  141   57   9  149  45  ...  170  330  158   72   9  14  189  199\n",
              "2    104  50  106  209   66  10  207  32  ...  223  635  220   73  14   9  188  196\n",
              "3     93  41   82  159   63   9  144  46  ...  160  309  127   63   6  10  199  207\n",
              "4     85  44   70  205  103  52  149  45  ...  241  325  188  127   9  11  180  183\n",
              "..   ...  ..  ...  ...  ...  ..  ...  ..  ...  ...  ...  ...  ...  ..  ..  ...  ...\n",
              "841   93  39   87  183   64   8  169  40  ...  200  422  149   72   7  25  188  195\n",
              "842   89  46   84  163   66  11  159  43  ...  173  368  176   72   1  20  186  197\n",
              "843  106  54  101  222   67  12  222  30  ...  228  721  200   70   3   4  187  201\n",
              "844   86  36   78  146   58   7  135  50  ...  155  270  148   66   0  25  190  195\n",
              "845   85  36   66  123   55   5  120  56  ...  140  212  131   73   1  18  186  190\n",
              "\n",
              "[846 rows x 18 columns]"
            ]
          },
          "metadata": {
            "tags": []
          },
          "execution_count": 38
        }
      ]
    },
    {
      "cell_type": "markdown",
      "metadata": {
        "id": "NgjdpTA7Khca"
      },
      "source": [
        "### *4. Ποιες είναι οι ετικέτες των κλάσεων και σε ποια κολώνα βρίσκονται;*"
      ]
    },
    {
      "cell_type": "markdown",
      "metadata": {
        "id": "YulMEG5OKkwA"
      },
      "source": [
        "- Οι ετικέτες των κλάσεων είναι 4 και είναι οι εξής: Opel, Saab, Van και Bus. Βρίσκονται στη κολώνα με αριθμό 18."
      ]
    },
    {
      "cell_type": "markdown",
      "metadata": {
        "id": "A7l-UsKxLNOZ"
      },
      "source": [
        "### *5. Χρειάστηκε να κάνετε μετατροπές στα αρχεία text και ποιες?*\r\n"
      ]
    },
    {
      "cell_type": "markdown",
      "metadata": {
        "id": "Gk5AXakJLaxW"
      },
      "source": [
        "- Δεν υπάρχει αρίθμηση στηλών και γραμμών, ούτε επικεφαλίδες άρα δεν χρειάζεται να κάνουμε μετατροπές στο αρχείο.\r\n",
        "\r\n"
      ]
    },
    {
      "cell_type": "markdown",
      "metadata": {
        "id": "OPfIK1n_MgzZ"
      },
      "source": [
        "### *6. Υπάρχουν απουσιάζουσες τιμές; Πόσα είναι τα δείγματα με απουσιάζουσες τιμές και ποιο το ποσοστό τους επί του συνόλου;* \r\n"
      ]
    },
    {
      "cell_type": "code",
      "metadata": {
        "id": "6IdHqm9yL4FX",
        "colab": {
          "base_uri": "https://localhost:8080/"
        },
        "outputId": "15b3fe94-b522-4d41-c80d-6325c8287cbe"
      },
      "source": [
        "features.isnull().values.any()"
      ],
      "execution_count": 39,
      "outputs": [
        {
          "output_type": "execute_result",
          "data": {
            "text/plain": [
              "False"
            ]
          },
          "metadata": {
            "tags": []
          },
          "execution_count": 39
        }
      ]
    },
    {
      "cell_type": "markdown",
      "metadata": {
        "id": "byrOKMHfMqLf"
      },
      "source": [
        "- Όχι δεν υπάρχουν απουσιάζουσες τιμές"
      ]
    },
    {
      "cell_type": "markdown",
      "metadata": {
        "id": "ePzQQDudM9YB"
      },
      "source": [
        "### *7. Ποιος είναι ο αριθμός των κλάσεων και τα ποσοστά δειγμάτων τους επί του συνόλου; Αν θεωρήσουμε ότι ένα dataset είναι μη ισορροπημένο αν μια οποιαδήποτε κλάση είναι 1.5 φορά πιο συχνή από κάποια άλλη (60%-40% σε binary datasets) εκτιμήστε την ισορροπία του dataset.*\r\n"
      ]
    },
    {
      "cell_type": "code",
      "metadata": {
        "id": "SIUSsLIKc-ZG",
        "colab": {
          "base_uri": "https://localhost:8080/"
        },
        "outputId": "1c50f774-827e-4ad6-9b59-13776cd27bfc"
      },
      "source": [
        "frequencies = pd.value_counts(labels)\n",
        "print(\"Συχνότητα εμφάνισης των δειγμάτων της κάθε κλάσης:\")\n",
        "print(frequencies)\n",
        "\n",
        "print(\"Ποσοστό 'bus':\", frequencies[0]/len(labels)*100, '%')\n",
        "print(\"Ποσοστό 'saab':\", frequencies[1]/len(labels)*100, '%')\n",
        "print(\"Ποσοστό 'opel':\", frequencies[2]/len(labels)*100, '%')\n",
        "print(\"Ποσοστό 'van':\", frequencies[3]/len(labels)*100, '%')"
      ],
      "execution_count": 40,
      "outputs": [
        {
          "output_type": "stream",
          "text": [
            "Συχνότητα εμφάνισης των δειγμάτων της κάθε κλάσης:\n",
            "bus     218\n",
            "saab    217\n",
            "opel    212\n",
            "van     199\n",
            "Name: 18, dtype: int64\n",
            "Ποσοστό 'bus': 25.768321513002363 %\n",
            "Ποσοστό 'saab': 25.65011820330969 %\n",
            "Ποσοστό 'opel': 25.059101654846334 %\n",
            "Ποσοστό 'van': 23.52245862884161 %\n"
          ],
          "name": "stdout"
        }
      ]
    },
    {
      "cell_type": "markdown",
      "metadata": {
        "id": "b5FU93coNew2"
      },
      "source": [
        "### *8. Διαχωρίστε σε train και test set. Εάν υπάρχουν απουσιάζουσες τιμές και μη διατεταγμένα χαρακτηριστικά διαχειριστείτε τα και αιτιολογήστε τις επιλογές σας.*"
      ]
    },
    {
      "cell_type": "code",
      "metadata": {
        "id": "uIbFAWIrtEyj"
      },
      "source": [
        "from sklearn.model_selection import train_test_split\n",
        "features_train, features_test, labels_train, labels_test = train_test_split(features, labels, test_size=0.20)"
      ],
      "execution_count": 41,
      "outputs": []
    },
    {
      "cell_type": "markdown",
      "metadata": {
        "id": "CtK18hkxONXH"
      },
      "source": [
        "- Όπως δείξαμε και πιο πάνω δεν υπάρχουν απουσιάζουσες τιμές και μη διατεταγμένα χαρακτηριστικά."
      ]
    },
    {
      "cell_type": "markdown",
      "metadata": {
        "id": "qF6CSjn25s1E"
      },
      "source": [
        "# III. Baseline Classification\r\n"
      ]
    },
    {
      "cell_type": "markdown",
      "metadata": {
        "id": "zel-Qtwv594b"
      },
      "source": [
        "###1. Διαχειριστείτε τυχόν απουσιάζουσες τιμές. Εκπαιδεύστε στο train τους classifiers με default τιμές (απλή αρχικοποίηση). Κάντε εκτίμηση στο test set (μαζί με τους dummy) και τυπώστε για κάθε estimator: confusion matrix, f1-micro average και f1-macro average."
      ]
    },
    {
      "cell_type": "code",
      "metadata": {
        "id": "WaKefzWno_Y9",
        "colab": {
          "base_uri": "https://localhost:8080/"
        },
        "outputId": "17d959bc-f85c-4c8f-cf79-17ef1b0a4f61"
      },
      "source": [
        "from sklearn.dummy import DummyClassifier\n",
        "from sklearn.metrics import precision_recall_fscore_support\n",
        "from sklearn.metrics import confusion_matrix\n",
        "from sklearn.metrics import classification_report\n",
        "from sklearn.metrics import f1_score\n",
        "import timeit\n",
        "\n",
        "pred={}\n",
        "micro={}\n",
        "macro={}\n",
        "fit_time={}\n",
        "pred_time={}\n",
        "\n",
        "dc_uniform = DummyClassifier(strategy=\"uniform\")\n",
        "dc_most_frequent = DummyClassifier(strategy=\"most_frequent\")\n",
        "dc_stratified = DummyClassifier(strategy=\"stratified\")\n",
        "start = timeit.default_timer()\n",
        "model=dc_uniform.fit(features_train, labels_train)\n",
        "stop = timeit.default_timer()\n",
        "fit_time['uniform']= stop - start\n",
        "start = timeit.default_timer()\n",
        "pred[\"uniform\"]= dc_uniform.predict(features_test)\n",
        "stop = timeit.default_timer()\n",
        "pred_time['uniform']= stop - start\n",
        "cnf_matrix = confusion_matrix(labels_test, pred[\"uniform\"])\n",
        "print(\"UNIFORM\")\n",
        "print(classification_report(labels_test, pred[\"uniform\"]))\n",
        "print(cnf_matrix,\"\\n\")\n",
        "\n",
        "\n",
        "\n",
        "avg=f1_score(labels_test,pred[\"uniform\"], average='micro')\n",
        "micro[\"uniform\"]=avg\n",
        "avg=f1_score(labels_test,pred[\"uniform\"], average='macro')\n",
        "macro[\"uniform\"]=avg\n",
        "\n",
        "start = timeit.default_timer()\n",
        "model=dc_most_frequent.fit(features_train, labels_train)\n",
        "stop = timeit.default_timer()\n",
        "fit_time['most frequent']= stop - start\n",
        "start = timeit.default_timer()\n",
        "pred[\"most_frequent\"]= dc_most_frequent.predict(features_test)\n",
        "stop = timeit.default_timer()\n",
        "pred_time['most frequent']= stop - start\n",
        "cnf_matrix = confusion_matrix(labels_test,pred[\"most_frequent\"])\n",
        "print(\"MOST FREQUENT\")\n",
        "print(classification_report(labels_test, pred[\"most_frequent\"]))\n",
        "print(cnf_matrix,\"\\n\")\n",
        "\n",
        "\n",
        "avg=f1_score(labels_test,pred[\"most_frequent\"], average='micro')\n",
        "micro[\"most_frequent\"]=avg\n",
        "avg=f1_score(labels_test,pred[\"most_frequent\"], average='macro')\n",
        "macro[\"most_frequent\"]=avg\n",
        "\n",
        "\n",
        "start = timeit.default_timer()\n",
        "model=dc_stratified.fit(features_train, labels_train)\n",
        "stop = timeit.default_timer()\n",
        "fit_time['stratified']= stop - start\n",
        "start = timeit.default_timer()\n",
        "pred[\"stratified\"]= dc_stratified.predict(features_test)\n",
        "stop = timeit.default_timer()\n",
        "pred_time['stratified']= stop - start\n",
        "cnf_matrix = confusion_matrix(labels_test, pred[\"stratified\"])\n",
        "print(\"STRATIFIED\")\n",
        "print(classification_report(labels_test, pred[\"stratified\"]))\n",
        "print(cnf_matrix)\n",
        "avg=f1_score(labels_test,pred[\"stratified\"], average='micro')\n",
        "micro[\"stratified\"]=avg\n",
        "avg=f1_score(labels_test,pred[\"stratified\"], average='macro')\n",
        "macro[\"stratified\"]=avg\n"
      ],
      "execution_count": 42,
      "outputs": [
        {
          "output_type": "stream",
          "text": [
            "UNIFORM\n",
            "              precision    recall  f1-score   support\n",
            "\n",
            "         bus       0.23      0.22      0.22        46\n",
            "        opel       0.25      0.35      0.29        37\n",
            "        saab       0.42      0.30      0.35        43\n",
            "         van       0.25      0.25      0.25        44\n",
            "\n",
            "    accuracy                           0.28       170\n",
            "   macro avg       0.29      0.28      0.28       170\n",
            "weighted avg       0.29      0.28      0.28       170\n",
            "\n",
            "[[10 18  7 11]\n",
            " [10 13  5  9]\n",
            " [ 7 10 13 13]\n",
            " [16 11  6 11]] \n",
            "\n",
            "MOST FREQUENT\n",
            "              precision    recall  f1-score   support\n",
            "\n",
            "         bus       0.00      0.00      0.00        46\n",
            "        opel       0.22      1.00      0.36        37\n",
            "        saab       0.00      0.00      0.00        43\n",
            "         van       0.00      0.00      0.00        44\n",
            "\n",
            "    accuracy                           0.22       170\n",
            "   macro avg       0.05      0.25      0.09       170\n",
            "weighted avg       0.05      0.22      0.08       170\n",
            "\n",
            "[[ 0 46  0  0]\n",
            " [ 0 37  0  0]\n",
            " [ 0 43  0  0]\n",
            " [ 0 44  0  0]] \n",
            "\n",
            "STRATIFIED\n",
            "              precision    recall  f1-score   support\n",
            "\n",
            "         bus       0.30      0.24      0.27        46\n",
            "        opel       0.21      0.27      0.24        37\n",
            "        saab       0.18      0.19      0.18        43\n",
            "         van       0.24      0.23      0.24        44\n",
            "\n",
            "    accuracy                           0.23       170\n",
            "   macro avg       0.23      0.23      0.23       170\n",
            "weighted avg       0.23      0.23      0.23       170\n",
            "\n",
            "[[11 16 10  9]\n",
            " [ 5 10  9 13]\n",
            " [13 13  8  9]\n",
            " [ 8  9 17 10]]\n"
          ],
          "name": "stdout"
        },
        {
          "output_type": "stream",
          "text": [
            "/usr/local/lib/python3.6/dist-packages/sklearn/metrics/_classification.py:1221: UndefinedMetricWarning: Precision and F-score are ill-defined and being set to 0.0 in labels with no predicted samples. Use `zero_division` parameter to control this behavior.\n",
            "  _warn_prf(average, modifier, msg_start, len(result))\n"
          ],
          "name": "stderr"
        }
      ]
    },
    {
      "cell_type": "code",
      "metadata": {
        "id": "bW4ydUXE4Kr0",
        "colab": {
          "base_uri": "https://localhost:8080/"
        },
        "outputId": "b8d10c71-416e-456b-9c94-b184d213092f"
      },
      "source": [
        "from sklearn.naive_bayes import GaussianNB\n",
        "\n",
        "gnb = GaussianNB()\n",
        "start = timeit.default_timer()\n",
        "model = gnb.fit(features_train, labels_train)\n",
        "stop = timeit.default_timer()\n",
        "fit_time['gnb']= stop - start\n",
        "start = timeit.default_timer()\n",
        "pred[\"gnb\"] = gnb.predict(features_test)\n",
        "stop = timeit.default_timer()\n",
        "pred_time['gnb']= stop - start\n",
        "cnf_matrix = confusion_matrix(labels_test,pred[\"gnb\"])\n",
        "print(\"Gaussian Naive Bayes\")\n",
        "print(cnf_matrix,\"\\n\")\n",
        "print(classification_report(labels_test, pred[\"gnb\"]))\n",
        "\n",
        "avg=f1_score(labels_test,pred[\"gnb\"], average='micro')\n",
        "micro[\"gnb\"]=avg\n",
        "avg=f1_score(labels_test,pred[\"gnb\"], average='macro')\n",
        "macro[\"gnb\"]=avg"
      ],
      "execution_count": 43,
      "outputs": [
        {
          "output_type": "stream",
          "text": [
            "Gaussian Naive Bayes\n",
            "[[ 8 10  2 26]\n",
            " [ 1 14 15  7]\n",
            " [ 2 12 15 14]\n",
            " [ 4  1  1 38]] \n",
            "\n",
            "              precision    recall  f1-score   support\n",
            "\n",
            "         bus       0.53      0.17      0.26        46\n",
            "        opel       0.38      0.38      0.38        37\n",
            "        saab       0.45      0.35      0.39        43\n",
            "         van       0.45      0.86      0.59        44\n",
            "\n",
            "    accuracy                           0.44       170\n",
            "   macro avg       0.45      0.44      0.41       170\n",
            "weighted avg       0.46      0.44      0.41       170\n",
            "\n"
          ],
          "name": "stdout"
        }
      ]
    },
    {
      "cell_type": "code",
      "metadata": {
        "id": "SvUxUKuZOmDo",
        "colab": {
          "base_uri": "https://localhost:8080/"
        },
        "outputId": "f89cece8-9443-4b33-fb03-95a7203a0e6a"
      },
      "source": [
        "from sklearn.neighbors import KNeighborsClassifier\n",
        "\n",
        "knn = KNeighborsClassifier(n_neighbors=9)\n",
        "start = timeit.default_timer()\n",
        "knn.fit(features_train, labels_train)\n",
        "stop = timeit.default_timer()\n",
        "fit_time['knn']= stop - start\n",
        "start = timeit.default_timer()\n",
        "pred[\"knn\"] = knn.predict(features_test)\n",
        "stop = timeit.default_timer()\n",
        "pred_time['knn']= stop - start\n",
        "cnf_matrix = confusion_matrix(labels_test, pred[\"knn\"])\n",
        "print(\"kNN\")\n",
        "print(cnf_matrix, \"\\n\")\n",
        "print(classification_report(labels_test, pred[\"knn\"]))\n",
        "\n",
        "avg=f1_score(labels_test,pred[\"knn\"], average='micro')\n",
        "micro[\"knn\"]=avg\n",
        "avg=f1_score(labels_test,pred[\"knn\"], average='macro')\n",
        "macro[\"knn\"]=avg"
      ],
      "execution_count": 44,
      "outputs": [
        {
          "output_type": "stream",
          "text": [
            "kNN\n",
            "[[36  5  5  0]\n",
            " [ 3 18 11  5]\n",
            " [ 7 13 21  2]\n",
            " [ 9  1  2 32]] \n",
            "\n",
            "              precision    recall  f1-score   support\n",
            "\n",
            "         bus       0.65      0.78      0.71        46\n",
            "        opel       0.49      0.49      0.49        37\n",
            "        saab       0.54      0.49      0.51        43\n",
            "         van       0.82      0.73      0.77        44\n",
            "\n",
            "    accuracy                           0.63       170\n",
            "   macro avg       0.63      0.62      0.62       170\n",
            "weighted avg       0.63      0.63      0.63       170\n",
            "\n"
          ],
          "name": "stdout"
        }
      ]
    },
    {
      "cell_type": "markdown",
      "metadata": {
        "id": "uM4YTb8gQ9R3"
      },
      "source": [
        "### *2. Για κάθε averaged metric, εκτυπώστε bar plot συγκρισης με τις τιμές του συγκεκριμένου f1 για όλους τους classifiers.*"
      ]
    },
    {
      "cell_type": "code",
      "metadata": {
        "id": "V0z-gIy2Mqnb",
        "colab": {
          "base_uri": "https://localhost:8080/",
          "height": 305
        },
        "outputId": "265f9dbe-06e0-4220-c8c3-98184f0891df"
      },
      "source": [
        "import matplotlib.pyplot as plt\n",
        "\n",
        "data = {'uniform': micro['uniform'], 'stratified': micro['stratified'], 'most frequent': micro['most_frequent'],'Gnb': micro['gnb'],'knn': micro['knn']}\n",
        "names = list(data.keys())\n",
        "values = list(data.values())\n",
        "\n",
        "#tick_label does the some work as plt.xticks()\n",
        "plt.bar(range(len(data)),values,tick_label=names)\n",
        "plt.savefig('bar.png')\n",
        "plt.title(\"f1 score for micro average\", fontsize = 18)\n",
        "plt.xlabel(\"$Classifiers$\", fontsize = 16)\n",
        "plt.ylabel(\"$f1\\ score$\", fontsize = 16)\n",
        "plt.show()"
      ],
      "execution_count": 45,
      "outputs": [
        {
          "output_type": "display_data",
          "data": {
            "image/png": "[encoded data removed]",
            "text/plain": [
              "<Figure size 432x288 with 1 Axes>"
            ]
          },
          "metadata": {
            "tags": [],
            "needs_background": "light"
          }
        }
      ]
    },
    {
      "cell_type": "code",
      "metadata": {
        "id": "YgW4uVYdMsdo",
        "colab": {
          "base_uri": "https://localhost:8080/",
          "height": 305
        },
        "outputId": "dcda1fb5-f30b-49bd-d5b4-f48868441213"
      },
      "source": [
        "data = {'uniform': macro['uniform'], 'stratified': macro['stratified'], 'most frequent': macro['most_frequent'],'Gnb': macro['gnb'],'knn': macro['knn']}\n",
        "names = list(data.keys())\n",
        "values = list(data.values())\n",
        "\n",
        "#tick_label does the some work as plt.xticks()\n",
        "plt.bar(range(len(data)),values,tick_label=names)\n",
        "plt.savefig('bar.png')\n",
        "plt.title(\"f1 score for macro average\", fontsize = 18)\n",
        "plt.xlabel(\"$Classifiers$\", fontsize = 16)\n",
        "plt.ylabel(\"$f1\\ score$\", fontsize = 16)\n",
        "plt.show()"
      ],
      "execution_count": 46,
      "outputs": [
        {
          "output_type": "display_data",
          "data": {
            "image/png": "[encoded data removed]",
            "text/plain": [
              "<Figure size 432x288 with 1 Axes>"
            ]
          },
          "metadata": {
            "tags": [],
            "needs_background": "light"
          }
        }
      ]
    },
    {
      "cell_type": "markdown",
      "metadata": {
        "id": "6NMFxLpD7LDW"
      },
      "source": [
        "### *3.Σχολιάστε τα αποτελέσματα των plots και των τιμών precision, recall, f1 των πινάκων σύγχυσης.*\r\n"
      ]
    },
    {
      "cell_type": "markdown",
      "metadata": {
        "id": "1UWATmpj7XvF"
      },
      "source": [
        "Αυτό που παρατηρούμε είναι ότι ο knn clasifier είναι αυτός με τη περισσότερη ακρίβεια με σημαντική διαφορά από το δεύτερο clasifier που είναι ο Gnb. Αυτή η διαφορά φαίνεται να είναι πιο μεγάλη στο f1_macro_average και το f1_micro_average. Όπως ήταν αναμενόμενο οι 3 dummy clasifiers έχουν μικρό ποσοστό επιτυχίας ενώ ο Gaussian Naive Bayes και ο knn οι οποίοι είναι μαθηματικές μέθοδοι, το ποσοστό επιτυχίας είναι σημαντικά μεγαλύτερο."
      ]
    },
    {
      "cell_type": "markdown",
      "metadata": {
        "id": "TGl5j2da78J0"
      },
      "source": [
        "# IV. Βελτιστοποίηση ταξινομητών\n",
        "\n",
        "\n",
        "\n"
      ]
    },
    {
      "cell_type": "markdown",
      "metadata": {
        "id": "Y3JKt8Lj-imi"
      },
      "source": [
        "### *1. Για κάθε ταξινομητή βελτιστοποιήστε την απόδοσή του στο training set μέσω της διαδικασίας προεπεξεργασίας και εύρεσης βέλτιστων υπερπαραμέτρων (δεν έχουν όλοι οι ταξινομητές υπερπαραμέτρους). Κάντε εκτίμηση στο test set (μαζί με τους dummy) και τυπώστε για κάθε estimator: confusion matrix, f1-micro average και f1-macro average.*"
      ]
    },
    {
      "cell_type": "code",
      "metadata": {
        "id": "7mAqNyTEeKhv"
      },
      "source": [
        "from sklearn.model_selection import cross_val_score\n",
        "\n",
        "myList = list(range(1,50))\n",
        "neighbors = list(filter(lambda x: x % 2 != 0, myList))\n",
        "cv_scores = []\n",
        "for k in neighbors:\n",
        "    knn = KNeighborsClassifier(n_neighbors=k)\n",
        "    scores = cross_val_score(knn, features_train, labels_train, cv=10)\n",
        "    cv_scores.append(scores.mean())"
      ],
      "execution_count": 47,
      "outputs": []
    },
    {
      "cell_type": "code",
      "metadata": {
        "id": "FRw42_dAe-6A",
        "colab": {
          "base_uri": "https://localhost:8080/",
          "height": 296
        },
        "outputId": "af1facfe-7c4f-43c8-cb73-14a644795a44"
      },
      "source": [
        "import matplotlib.pyplot as plt\n",
        "\n",
        "mean_error = [1 - x for x in cv_scores]\n",
        "plt.plot(neighbors, mean_error)\n",
        "plt.xlabel('Number of Neighbors K')\n",
        "plt.ylabel('Misclassification Error')\n",
        "plt.show()\n",
        "optimal_k = neighbors[mean_error.index(min(mean_error))]\n",
        "print(\"Καλύτερο κ = %d\" % optimal_k)\n"
      ],
      "execution_count": 48,
      "outputs": [
        {
          "output_type": "display_data",
          "data": {
            "image/png": "[encoded data removed]",
            "text/plain": [
              "<Figure size 432x288 with 1 Axes>"
            ]
          },
          "metadata": {
            "tags": [],
            "needs_background": "light"
          }
        },
        {
          "output_type": "stream",
          "text": [
            "Καλύτερο κ = 1\n"
          ],
          "name": "stdout"
        }
      ]
    },
    {
      "cell_type": "code",
      "metadata": {
        "id": "LasCcKg-hM4u"
      },
      "source": [
        "knn = KNeighborsClassifier(n_neighbors = optimal_k)\n",
        "start = timeit.default_timer()\n",
        "knn.fit(features_train, labels_train)\n",
        "stop = timeit.default_timer()\n",
        "fit_time['best knn']= stop - start\n",
        "start = timeit.default_timer()\n",
        "pred[\"best knn\"] = knn.predict(features_test)\n",
        "stop = timeit.default_timer()\n",
        "pred_time['best knn']= stop - start"
      ],
      "execution_count": 49,
      "outputs": []
    },
    {
      "cell_type": "code",
      "metadata": {
        "id": "FyDG-eAYhX5I",
        "colab": {
          "base_uri": "https://localhost:8080/"
        },
        "outputId": "0960955e-041f-4f8b-d8d4-e332ef75f284"
      },
      "source": [
        "cnf_matrix = confusion_matrix(labels_test, pred[\"best knn\"])\n",
        "print(cnf_matrix, \"\\n\")\n",
        "print(classification_report(labels_test, pred[\"best knn\"]))\n",
        "\n",
        "avg=f1_score(labels_test,pred[\"best knn\"], average='micro')\n",
        "micro[\"best knn\"]=avg\n",
        "avg=f1_score(labels_test,pred[\"best knn\"], average='macro')\n",
        "macro[\"best knn\"]=avg"
      ],
      "execution_count": 50,
      "outputs": [
        {
          "output_type": "stream",
          "text": [
            "[[43  2  1  0]\n",
            " [ 1 19 14  3]\n",
            " [ 4 20 19  0]\n",
            " [ 4  4  1 35]] \n",
            "\n",
            "              precision    recall  f1-score   support\n",
            "\n",
            "         bus       0.83      0.93      0.88        46\n",
            "        opel       0.42      0.51      0.46        37\n",
            "        saab       0.54      0.44      0.49        43\n",
            "         van       0.92      0.80      0.85        44\n",
            "\n",
            "    accuracy                           0.68       170\n",
            "   macro avg       0.68      0.67      0.67       170\n",
            "weighted avg       0.69      0.68      0.68       170\n",
            "\n"
          ],
          "name": "stdout"
        }
      ]
    },
    {
      "cell_type": "code",
      "metadata": {
        "colab": {
          "base_uri": "https://localhost:8080/"
        },
        "id": "iVu9ayPjSqLt",
        "outputId": "fff4fcda-641e-4683-83ea-e468a618249a"
      },
      "source": [
        "dc_uniform = DummyClassifier(strategy=\"uniform\")\r\n",
        "dc_most_frequent = DummyClassifier(strategy=\"most_frequent\")\r\n",
        "dc_stratified = DummyClassifier(strategy=\"stratified\")\r\n",
        "\r\n",
        "model=dc_uniform.fit(features_train, labels_train)\r\n",
        "pred[\"uniform\"]= dc_uniform.predict(features_test)\r\n",
        "cnf_matrix = confusion_matrix(labels_test, pred[\"uniform\"])\r\n",
        "print(\"UNIFORM\")\r\n",
        "print(classification_report(labels_test, pred[\"uniform\"]))\r\n",
        "print(cnf_matrix,\"\\n\")\r\n",
        "\r\n",
        "\r\n",
        "\r\n",
        "avg=f1_score(labels_test,pred[\"uniform\"], average='micro')\r\n",
        "micro[\"uniform\"]=avg\r\n",
        "avg=f1_score(labels_test,pred[\"uniform\"], average='macro')\r\n",
        "macro[\"uniform\"]=avg\r\n",
        "\r\n",
        "\r\n",
        "model=dc_most_frequent.fit(features_train, labels_train)\r\n",
        "pred[\"most_frequent\"]= dc_most_frequent.predict(features_test)\r\n",
        "cnf_matrix = confusion_matrix(labels_test,pred[\"most_frequent\"])\r\n",
        "print(\"MOST FREQUENT\")\r\n",
        "print(classification_report(labels_test, pred[\"most_frequent\"]))\r\n",
        "print(cnf_matrix,\"\\n\")\r\n",
        "\r\n",
        "\r\n",
        "avg=f1_score(labels_test,pred[\"most_frequent\"], average='micro')\r\n",
        "micro[\"most_frequent\"]=avg\r\n",
        "avg=f1_score(labels_test,pred[\"most_frequent\"], average='macro')\r\n",
        "macro[\"most_frequent\"]=avg\r\n",
        "\r\n",
        "\r\n",
        "\r\n",
        "model=dc_stratified.fit(features_train, labels_train)\r\n",
        "pred[\"stratified\"]= dc_stratified.predict(features_test)\r\n",
        "cnf_matrix = confusion_matrix(labels_test, pred[\"stratified\"])\r\n",
        "print(\"STRATIFIED\")\r\n",
        "print(classification_report(labels_test, pred[\"stratified\"]))\r\n",
        "print(cnf_matrix)\r\n",
        "avg=f1_score(labels_test,pred[\"stratified\"], average='micro')\r\n",
        "micro[\"stratified\"]=avg\r\n",
        "avg=f1_score(labels_test,pred[\"stratified\"], average='macro')\r\n",
        "macro[\"stratified\"]=avg"
      ],
      "execution_count": 51,
      "outputs": [
        {
          "output_type": "stream",
          "text": [
            "UNIFORM\n",
            "              precision    recall  f1-score   support\n",
            "\n",
            "         bus       0.33      0.28      0.31        46\n",
            "        opel       0.14      0.16      0.15        37\n",
            "        saab       0.37      0.35      0.36        43\n",
            "         van       0.23      0.25      0.24        44\n",
            "\n",
            "    accuracy                           0.26       170\n",
            "   macro avg       0.27      0.26      0.26       170\n",
            "weighted avg       0.27      0.26      0.27       170\n",
            "\n",
            "[[13 12  8 13]\n",
            " [ 8  6  8 15]\n",
            " [ 8 12 15  8]\n",
            " [10 13 10 11]] \n",
            "\n",
            "MOST FREQUENT\n",
            "              precision    recall  f1-score   support\n",
            "\n",
            "         bus       0.00      0.00      0.00        46\n",
            "        opel       0.22      1.00      0.36        37\n",
            "        saab       0.00      0.00      0.00        43\n",
            "         van       0.00      0.00      0.00        44\n",
            "\n",
            "    accuracy                           0.22       170\n",
            "   macro avg       0.05      0.25      0.09       170\n",
            "weighted avg       0.05      0.22      0.08       170\n",
            "\n",
            "[[ 0 46  0  0]\n",
            " [ 0 37  0  0]\n",
            " [ 0 43  0  0]\n",
            " [ 0 44  0  0]] \n",
            "\n",
            "STRATIFIED\n",
            "              precision    recall  f1-score   support\n",
            "\n",
            "         bus       0.30      0.33      0.31        46\n",
            "        opel       0.23      0.30      0.26        37\n",
            "        saab       0.20      0.19      0.19        43\n",
            "         van       0.25      0.18      0.21        44\n",
            "\n",
            "    accuracy                           0.25       170\n",
            "   macro avg       0.24      0.25      0.24       170\n",
            "weighted avg       0.25      0.25      0.24       170\n",
            "\n",
            "[[15  9 14  8]\n",
            " [ 9 11  9  8]\n",
            " [12 15  8  8]\n",
            " [14 13  9  8]]\n"
          ],
          "name": "stdout"
        },
        {
          "output_type": "stream",
          "text": [
            "/usr/local/lib/python3.6/dist-packages/sklearn/metrics/_classification.py:1221: UndefinedMetricWarning: Precision and F-score are ill-defined and being set to 0.0 in labels with no predicted samples. Use `zero_division` parameter to control this behavior.\n",
            "  _warn_prf(average, modifier, msg_start, len(result))\n"
          ],
          "name": "stderr"
        }
      ]
    },
    {
      "cell_type": "code",
      "metadata": {
        "colab": {
          "base_uri": "https://localhost:8080/"
        },
        "id": "EHWwbAbsS22q",
        "outputId": "9af32462-cf57-47cd-9273-e72512102f69"
      },
      "source": [
        "from sklearn.naive_bayes import GaussianNB\r\n",
        "\r\n",
        "gnb = GaussianNB()\r\n",
        "model = gnb.fit(features_train, labels_train)\r\n",
        "pred[\"gnb\"] = gnb.predict(features_test)\r\n",
        "cnf_matrix = confusion_matrix(labels_test,pred[\"gnb\"])\r\n",
        "print(\"Gaussian Naive Bayes\")\r\n",
        "print(cnf_matrix,\"\\n\")\r\n",
        "print(classification_report(labels_test, pred[\"gnb\"]))\r\n",
        "\r\n",
        "avg=f1_score(labels_test,pred[\"gnb\"], average='micro')\r\n",
        "micro[\"gnb\"]=avg\r\n",
        "avg=f1_score(labels_test,pred[\"gnb\"], average='macro')\r\n",
        "macro[\"gnb\"]=avg"
      ],
      "execution_count": 52,
      "outputs": [
        {
          "output_type": "stream",
          "text": [
            "Gaussian Naive Bayes\n",
            "[[ 8 10  2 26]\n",
            " [ 1 14 15  7]\n",
            " [ 2 12 15 14]\n",
            " [ 4  1  1 38]] \n",
            "\n",
            "              precision    recall  f1-score   support\n",
            "\n",
            "         bus       0.53      0.17      0.26        46\n",
            "        opel       0.38      0.38      0.38        37\n",
            "        saab       0.45      0.35      0.39        43\n",
            "         van       0.45      0.86      0.59        44\n",
            "\n",
            "    accuracy                           0.44       170\n",
            "   macro avg       0.45      0.44      0.41       170\n",
            "weighted avg       0.46      0.44      0.41       170\n",
            "\n"
          ],
          "name": "stdout"
        }
      ]
    },
    {
      "cell_type": "markdown",
      "metadata": {
        "id": "hffVwkK2A454"
      },
      "source": [
        "### *2. Για το τελικό fit του κάθε ταξινομητή στο σύνολο του training set και για το predict στο test set εκτυπώστε πίνακες με τους χρόνους εκτέλεσης.*"
      ]
    },
    {
      "cell_type": "code",
      "metadata": {
        "id": "YsVUyaVtTALf",
        "colab": {
          "base_uri": "https://localhost:8080/",
          "height": 128
        },
        "outputId": "544c382b-f221-40ad-c2b2-dd7fc984ad7b"
      },
      "source": [
        "print(\"Μεταβολη Χρονου για fit και predict\")\r\n",
        "test_set_fit_time=[]\r\n",
        "test_set_pred_time=[]\r\n",
        "test_set_fit_time= fit_time['knn'], fit_time['gnb'], fit_time['stratified'],fit_time['most frequent'],fit_time['uniform'],fit_time['best knn']\r\n",
        "test_set_pred_time=pred_time['knn'], pred_time['gnb'], pred_time['stratified'],pred_time['most frequent'],pred_time['uniform'],pred_time['best knn']\r\n",
        "test_times = [test_set_fit_time,test_set_pred_time]\r\n",
        "pd.DataFrame(test_times, index=[\"Fitting Time\", \"Prediction Time\"], columns = [\"KNN\", \"GNB\",\"STRATIFIED\",\"MOST FREQUENT\",\"UNIFORM\",\"OPTIMIZED KNN\"])"
      ],
      "execution_count": 53,
      "outputs": [
        {
          "output_type": "stream",
          "text": [
            "Μεταβολη Χρονου για fit και predict\n"
          ],
          "name": "stdout"
        },
        {
          "output_type": "execute_result",
          "data": {
            "text/html": [
              "<div>\n",
              "<style scoped>\n",
              "    .dataframe tbody tr th:only-of-type {\n",
              "        vertical-align: middle;\n",
              "    }\n",
              "\n",
              "    .dataframe tbody tr th {\n",
              "        vertical-align: top;\n",
              "    }\n",
              "\n",
              "    .dataframe thead th {\n",
              "        text-align: right;\n",
              "    }\n",
              "</style>\n",
              "<table border=\"1\" class=\"dataframe\">\n",
              "  <thead>\n",
              "    <tr style=\"text-align: right;\">\n",
              "      <th></th>\n",
              "      <th>KNN</th>\n",
              "      <th>GNB</th>\n",
              "      <th>STRATIFIED</th>\n",
              "      <th>MOST FREQUENT</th>\n",
              "      <th>UNIFORM</th>\n",
              "      <th>OPTIMIZED KNN</th>\n",
              "    </tr>\n",
              "  </thead>\n",
              "  <tbody>\n",
              "    <tr>\n",
              "      <th>Fitting Time</th>\n",
              "      <td>0.006969</td>\n",
              "      <td>0.006972</td>\n",
              "      <td>0.000526</td>\n",
              "      <td>0.000463</td>\n",
              "      <td>0.000658</td>\n",
              "      <td>0.004586</td>\n",
              "    </tr>\n",
              "    <tr>\n",
              "      <th>Prediction Time</th>\n",
              "      <td>0.010851</td>\n",
              "      <td>0.003590</td>\n",
              "      <td>0.000250</td>\n",
              "      <td>0.000157</td>\n",
              "      <td>0.000240</td>\n",
              "      <td>0.010675</td>\n",
              "    </tr>\n",
              "  </tbody>\n",
              "</table>\n",
              "</div>"
            ],
            "text/plain": [
              "                      KNN       GNB  ...   UNIFORM  OPTIMIZED KNN\n",
              "Fitting Time     0.006969  0.006972  ...  0.000658       0.004586\n",
              "Prediction Time  0.010851  0.003590  ...  0.000240       0.010675\n",
              "\n",
              "[2 rows x 6 columns]"
            ]
          },
          "metadata": {
            "tags": []
          },
          "execution_count": 53
        }
      ]
    },
    {
      "cell_type": "markdown",
      "metadata": {
        "id": "rkBG3Wp9BGm8"
      },
      "source": [
        "### *3. Για κάθε averaged metric, εκτυπώστε bar plot σύγκρισης με τις τιμές του συγκεκριμένου f1 για όλους τους classifiers.*"
      ]
    },
    {
      "cell_type": "code",
      "metadata": {
        "colab": {
          "base_uri": "https://localhost:8080/",
          "height": 376
        },
        "id": "SdBt7HUtD1vU",
        "outputId": "3e8a02d1-f317-4426-e90e-5502daddc384"
      },
      "source": [
        "data = {'uniform': micro['uniform'], 'stratified': micro['stratified'], 'most frequent': micro['most_frequent'],'Gnb': micro['gnb'],'knn': micro['knn'],'best knn': micro['best knn']}\r\n",
        "names = list(data.keys())\r\n",
        "values = list(data.values())\r\n",
        "\r\n",
        "\r\n",
        "plt.bar(range(len(data)),values,tick_label=names)\r\n",
        "plt.savefig('bar.png')\r\n",
        "plt.title(\"f1 score for micro average\", fontsize = 18)\r\n",
        "plt.xlabel(\"$Classifiers$\", fontsize = 16)\r\n",
        "plt.ylabel(\"$f1\\ score$\", fontsize = 16)\r\n",
        "plt.xticks(rotation = 60, fontsize = 12)\r\n",
        "plt.show()"
      ],
      "execution_count": 54,
      "outputs": [
        {
          "output_type": "display_data",
          "data": {
            "image/png": "[encoded data removed]",
            "text/plain": [
              "<Figure size 432x288 with 1 Axes>"
            ]
          },
          "metadata": {
            "tags": [],
            "needs_background": "light"
          }
        }
      ]
    },
    {
      "cell_type": "code",
      "metadata": {
        "colab": {
          "base_uri": "https://localhost:8080/",
          "height": 376
        },
        "id": "Bpg_eL9VHYXE",
        "outputId": "1a2f4a91-8c20-454a-86ea-6579a3cf0f1c"
      },
      "source": [
        "data = {'uniform': macro['uniform'], 'stratified': macro['stratified'], 'most frequent': macro['most_frequent'],'Gnb': macro['gnb'],'knn': macro['knn'],'best knn':macro['best knn']}\r\n",
        "names = list(data.keys())\r\n",
        "values = list(data.values())\r\n",
        "\r\n",
        "\r\n",
        "plt.bar(range(len(data)),values,tick_label=names)\r\n",
        "plt.savefig('bar.png')\r\n",
        "plt.title(\"f1 score for macro average\", fontsize = 18)\r\n",
        "plt.xlabel(\"$Classifiers$\", fontsize = 16)\r\n",
        "plt.ylabel(\"$f1\\ score$\", fontsize = 16)\r\n",
        "plt.xticks(rotation = 60, fontsize = 12)\r\n",
        "plt.show()"
      ],
      "execution_count": 55,
      "outputs": [
        {
          "output_type": "display_data",
          "data": {
            "image/png": "[encoded data removed]",
            "text/plain": [
              "<Figure size 432x288 with 1 Axes>"
            ]
          },
          "metadata": {
            "tags": [],
            "needs_background": "light"
          }
        }
      ]
    },
    {
      "cell_type": "markdown",
      "metadata": {
        "id": "g_MDoFYuBRPj"
      },
      "source": [
        "### *4. Τυπώστε πίνακα με τη μεταβολή της επίδοσης των ταξινομητών πριν και μετά τη βελτιστοποίησή τους.*\r\n"
      ]
    },
    {
      "cell_type": "code",
      "metadata": {
        "colab": {
          "base_uri": "https://localhost:8080/",
          "height": 128
        },
        "id": "6A7o3kGcCvJe",
        "outputId": "28497f98-9f5b-4611-ef55-88d6490d648b"
      },
      "source": [
        "print(\"kNN\")\r\n",
        "f1_progress = [[macro[\"knn\"], micro[\"knn\"]],[macro[\"best knn\"], micro[\"best knn\"]]]\r\n",
        "pd.DataFrame(f1_progress, columns=[\"f1 macro score \", \"f1 micro score\"], index = [\"before\", \"after\"])\r\n"
      ],
      "execution_count": 56,
      "outputs": [
        {
          "output_type": "stream",
          "text": [
            "kNN\n"
          ],
          "name": "stdout"
        },
        {
          "output_type": "execute_result",
          "data": {
            "text/html": [
              "<div>\n",
              "<style scoped>\n",
              "    .dataframe tbody tr th:only-of-type {\n",
              "        vertical-align: middle;\n",
              "    }\n",
              "\n",
              "    .dataframe tbody tr th {\n",
              "        vertical-align: top;\n",
              "    }\n",
              "\n",
              "    .dataframe thead th {\n",
              "        text-align: right;\n",
              "    }\n",
              "</style>\n",
              "<table border=\"1\" class=\"dataframe\">\n",
              "  <thead>\n",
              "    <tr style=\"text-align: right;\">\n",
              "      <th></th>\n",
              "      <th>f1 macro score</th>\n",
              "      <th>f1 micro score</th>\n",
              "    </tr>\n",
              "  </thead>\n",
              "  <tbody>\n",
              "    <tr>\n",
              "      <th>before</th>\n",
              "      <td>0.620659</td>\n",
              "      <td>0.629412</td>\n",
              "    </tr>\n",
              "    <tr>\n",
              "      <th>after</th>\n",
              "      <td>0.670451</td>\n",
              "      <td>0.682353</td>\n",
              "    </tr>\n",
              "  </tbody>\n",
              "</table>\n",
              "</div>"
            ],
            "text/plain": [
              "        f1 macro score   f1 micro score\n",
              "before         0.620659        0.629412\n",
              "after          0.670451        0.682353"
            ]
          },
          "metadata": {
            "tags": []
          },
          "execution_count": 56
        }
      ]
    },
    {
      "cell_type": "code",
      "metadata": {
        "colab": {
          "base_uri": "https://localhost:8080/",
          "height": 111
        },
        "id": "MA1e8RlhRa4w",
        "outputId": "04424041-4099-407c-cf51-fbfa259542bc"
      },
      "source": [
        "f1_progress_before = [macro[\"knn\"], micro[\"knn\"]]\r\n",
        "f1_progress_after=[macro[\"best knn\"], micro[\"best knn\"]]\r\n",
        "res = tuple(map(lambda i, j: i - j, f1_progress_after, f1_progress_before)) \r\n",
        "pd.DataFrame(res, index=[\"f1_progress_macro\", \"f1_progress_micro\"], columns = [\"kNN Improvement\"])"
      ],
      "execution_count": 57,
      "outputs": [
        {
          "output_type": "execute_result",
          "data": {
            "text/html": [
              "<div>\n",
              "<style scoped>\n",
              "    .dataframe tbody tr th:only-of-type {\n",
              "        vertical-align: middle;\n",
              "    }\n",
              "\n",
              "    .dataframe tbody tr th {\n",
              "        vertical-align: top;\n",
              "    }\n",
              "\n",
              "    .dataframe thead th {\n",
              "        text-align: right;\n",
              "    }\n",
              "</style>\n",
              "<table border=\"1\" class=\"dataframe\">\n",
              "  <thead>\n",
              "    <tr style=\"text-align: right;\">\n",
              "      <th></th>\n",
              "      <th>kNN Improvement</th>\n",
              "    </tr>\n",
              "  </thead>\n",
              "  <tbody>\n",
              "    <tr>\n",
              "      <th>f1_progress_macro</th>\n",
              "      <td>0.049792</td>\n",
              "    </tr>\n",
              "    <tr>\n",
              "      <th>f1_progress_micro</th>\n",
              "      <td>0.052941</td>\n",
              "    </tr>\n",
              "  </tbody>\n",
              "</table>\n",
              "</div>"
            ],
            "text/plain": [
              "                   kNN Improvement\n",
              "f1_progress_macro         0.049792\n",
              "f1_progress_micro         0.052941"
            ]
          },
          "metadata": {
            "tags": []
          },
          "execution_count": 57
        }
      ]
    },
    {
      "cell_type": "markdown",
      "metadata": {
        "id": "UpnMENu4BXwC"
      },
      "source": [
        "### *5. Σχολιάστε τα αποτελέσματα των plots και των τιμών precision, recall, f1 των πινάκων σύγχυσης, τη μεταβολή της απόδοσης και τους χρόνους εκτέλεσης.*"
      ]
    },
    {
      "cell_type": "markdown",
      "metadata": {
        "id": "bIaTjK13f_Ow"
      },
      "source": [
        "Όσο αφορά τα plots παρατηρούμε τη βελτίωση του knn σε σύγκριση με τα προηγούμενα plots και για τα δύο metrics (micro και macro). Οι άλλοι ταξινομητές(dummies) βγάζουν τα ίδια αποτελέσματα όπως είναι αναμενόμενο.\r\n",
        "Όσο αφορά τις τιμές precision, recall και f1 των πινάκων σύγχισης παρατηρούμε ότι και αυτές βελτιώνονται. Πιο συγκεκριμένα τώρα έχουμε λιγότερα false negatives και false positives άρα έχουμε καλύτερο precision και recall και για τις δύο κλάσεις. Παρατηρούμε βελτίωση στην απόδοση του knn ταξινομητή της τάξης του 5%. Επίσης βλέπουμε ότι ο χρόνος εκπαίδευσης και πρόβλεψης είναι πολύ μικροί (της τάξης των ms). Αυτό οφείλεται στο ότι τα δεδομένα είναι πολύ λίγα ήδη από το στάδιο της προεπεξεργασίας.\r\n",
        "Γενικά τα δύο averaged metrics (micro και macro) βγάζουν πολύ κοντινά αποτελέσματα με πολύ μικρές διαφορές μεταξύ τους, ουσιαστικά ασήμαντες."
      ]
    }
  ]
}